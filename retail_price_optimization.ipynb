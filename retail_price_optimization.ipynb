{
 "cells": [
  {
   "cell_type": "markdown",
   "metadata": {},
   "source": [
    "# Retail Price Optimization Using Machine Learning\n",
    "\n",
    "### Author: Hafiza Anam Masood \n",
    "##### Notebook submission Date:18.10.2023, Author's Contact Info: drhafizaanam@gmail.com"
   ]
  },
  {
   "cell_type": "markdown",
   "metadata": {},
   "source": [
    "### Retail price optimization is the process of finding the optimal selling price for products or services to maximize revenue and profit while keeping customers happy. It involves using data and pricing strategies to find the right price that maximizes sales and profits. The ultimate aim is to charge a price that helps you make the most money and attracts enough customers to buy your products. To perform retail price optimization, you need data about the prices of products or services and everything that affects the price of a product. Machine learning can be used for retail price optimization. Python libraries and frameworks that will be used for price optimization using machine learning include Scikit-learn and TensorFlow. I downloaded the dataset below to solve this Data Science case study on retail price optimization. \n",
    "##### (Data Source: https://www.kaggle.com/datasets/suddharshan/retail-price-optimization)\n",
    "\n",
    "\n"
   ]
  },
  {
   "cell_type": "markdown",
   "metadata": {
    "slideshow": {
     "slide_type": "subslide"
    }
   },
   "source": [
    "### To start the task of Retail Price Optimization using Python, you need to import the necessary Python libraries and the dataset"
   ]
  },
  {
   "cell_type": "code",
   "execution_count": 51,
   "metadata": {},
   "outputs": [
    {
     "name": "stdout",
     "output_type": "stream",
     "text": [
      "  product_id product_category_name  month_year  qty  total_price  \\\n",
      "0       bed1        bed_bath_table  01-05-2017    1        45.95   \n",
      "1       bed1        bed_bath_table  01-06-2017    3       137.85   \n",
      "2       bed1        bed_bath_table  01-07-2017    6       275.70   \n",
      "3       bed1        bed_bath_table  01-08-2017    4       183.80   \n",
      "4       bed1        bed_bath_table  01-09-2017    2        91.90   \n",
      "\n",
      "   freight_price  unit_price  product_name_lenght  product_description_lenght  \\\n",
      "0      15.100000       45.95                   39                         161   \n",
      "1      12.933333       45.95                   39                         161   \n",
      "2      14.840000       45.95                   39                         161   \n",
      "3      14.287500       45.95                   39                         161   \n",
      "4      15.100000       45.95                   39                         161   \n",
      "\n",
      "   product_photos_qty  ...  comp_1  ps1        fp1      comp_2  ps2  \\\n",
      "0                   2  ...    89.9  3.9  15.011897  215.000000  4.4   \n",
      "1                   2  ...    89.9  3.9  14.769216  209.000000  4.4   \n",
      "2                   2  ...    89.9  3.9  13.993833  205.000000  4.4   \n",
      "3                   2  ...    89.9  3.9  14.656757  199.509804  4.4   \n",
      "4                   2  ...    89.9  3.9  18.776522  163.398710  4.4   \n",
      "\n",
      "         fp2  comp_3  ps3        fp3  lag_price  \n",
      "0   8.760000   45.95  4.0  15.100000      45.90  \n",
      "1  21.322000   45.95  4.0  12.933333      45.95  \n",
      "2  22.195932   45.95  4.0  14.840000      45.95  \n",
      "3  19.412885   45.95  4.0  14.287500      45.95  \n",
      "4  24.324687   45.95  4.0  15.100000      45.95  \n",
      "\n",
      "[5 rows x 30 columns]\n"
     ]
    }
   ],
   "source": [
    "import pandas as pd\n",
    "import plotly.express as px\n",
    "import plotly.graph_objects as go\n",
    "import plotly.io as pio\n",
    "\n",
    "pio.templates.default = \"plotly_white\"\n",
    "\n",
    "data = pd.read_csv(r\"retail_price.csv\", encoding='latin1')\n",
    "print(data.head())"
   ]
  },
  {
   "cell_type": "code",
   "execution_count": 52,
   "metadata": {},
   "outputs": [
    {
     "name": "stdout",
     "output_type": "stream",
     "text": [
      "product_id                    0\n",
      "product_category_name         0\n",
      "month_year                    0\n",
      "qty                           0\n",
      "total_price                   0\n",
      "freight_price                 0\n",
      "unit_price                    0\n",
      "product_name_lenght           0\n",
      "product_description_lenght    0\n",
      "product_photos_qty            0\n",
      "product_weight_g              0\n",
      "product_score                 0\n",
      "customers                     0\n",
      "weekday                       0\n",
      "weekend                       0\n",
      "holiday                       0\n",
      "month                         0\n",
      "year                          0\n",
      "s                             0\n",
      "volume                        0\n",
      "comp_1                        0\n",
      "ps1                           0\n",
      "fp1                           0\n",
      "comp_2                        0\n",
      "ps2                           0\n",
      "fp2                           0\n",
      "comp_3                        0\n",
      "ps3                           0\n",
      "fp3                           0\n",
      "lag_price                     0\n",
      "dtype: int64\n"
     ]
    }
   ],
   "source": [
    "# Let's find the missing values\n",
    "\n",
    "print(data.isnull().sum())"
   ]
  },
  {
   "cell_type": "code",
   "execution_count": 53,
   "metadata": {},
   "outputs": [
    {
     "name": "stdout",
     "output_type": "stream",
     "text": [
      "              qty   total_price  freight_price  unit_price  \\\n",
      "count  676.000000    676.000000     676.000000  676.000000   \n",
      "mean    14.495562   1422.708728      20.682270  106.496800   \n",
      "std     15.443421   1700.123100      10.081817   76.182972   \n",
      "min      1.000000     19.900000       0.000000   19.900000   \n",
      "25%      4.000000    333.700000      14.761912   53.900000   \n",
      "50%     10.000000    807.890000      17.518472   89.900000   \n",
      "75%     18.000000   1887.322500      22.713558  129.990000   \n",
      "max    122.000000  12095.000000      79.760000  364.000000   \n",
      "\n",
      "       product_name_lenght  product_description_lenght  product_photos_qty  \\\n",
      "count           676.000000                  676.000000          676.000000   \n",
      "mean             48.720414                  767.399408            1.994083   \n",
      "std               9.420715                  655.205015            1.420473   \n",
      "min              29.000000                  100.000000            1.000000   \n",
      "25%              40.000000                  339.000000            1.000000   \n",
      "50%              51.000000                  501.000000            1.500000   \n",
      "75%              57.000000                  903.000000            2.000000   \n",
      "max              60.000000                 3006.000000            8.000000   \n",
      "\n",
      "       product_weight_g  product_score   customers  ...      comp_1  \\\n",
      "count        676.000000     676.000000  676.000000  ...  676.000000   \n",
      "mean        1847.498521       4.085503   81.028107  ...   79.452054   \n",
      "std         2274.808483       0.232021   62.055560  ...   47.933358   \n",
      "min          100.000000       3.300000    1.000000  ...   19.900000   \n",
      "25%          348.000000       3.900000   34.000000  ...   49.910000   \n",
      "50%          950.000000       4.100000   62.000000  ...   69.900000   \n",
      "75%         1850.000000       4.200000  116.000000  ...  104.256549   \n",
      "max         9750.000000       4.500000  339.000000  ...  349.900000   \n",
      "\n",
      "              ps1         fp1      comp_2         ps2         fp2      comp_3  \\\n",
      "count  676.000000  676.000000  676.000000  676.000000  676.000000  676.000000   \n",
      "mean     4.159467   18.597610   92.930079    4.123521   18.620644   84.182642   \n",
      "std      0.121652    9.406537   49.481269    0.207189    6.424174   47.745789   \n",
      "min      3.700000    0.095439   19.900000    3.300000    4.410000   19.900000   \n",
      "25%      4.100000   13.826429   53.900000    4.100000   14.485000   53.785714   \n",
      "50%      4.200000   16.618984   89.990000    4.200000   16.811765   59.900000   \n",
      "75%      4.200000   19.732500  117.888889    4.200000   21.665238   99.990000   \n",
      "max      4.500000   57.230000  349.900000    4.400000   57.230000  255.610000   \n",
      "\n",
      "              ps3         fp3   lag_price  \n",
      "count  676.000000  676.000000  676.000000  \n",
      "mean     4.002071   17.965007  107.399684  \n",
      "std      0.233292    5.533256   76.974657  \n",
      "min      3.500000    7.670000   19.850000  \n",
      "25%      3.900000   15.042727   55.668750  \n",
      "50%      4.000000   16.517110   89.900000  \n",
      "75%      4.100000   19.447778  129.990000  \n",
      "max      4.400000   57.230000  364.000000  \n",
      "\n",
      "[8 rows x 27 columns]\n"
     ]
    }
   ],
   "source": [
    "# Descriptive Statistics\n",
    "\n",
    "print(data.describe())"
   ]
  },
  {
   "cell_type": "code",
   "execution_count": 54,
   "metadata": {},
   "outputs": [
    {
     "data": {
      "application/vnd.plotly.v1+json": {
       "config": {
        "plotlyServerURL": "https://plot.ly"
       },
       "data": [
        {
         "alignmentgroup": "True",
         "bingroup": "x",
         "hovertemplate": "unit_price=%{x}<br>count=%{y}<extra></extra>",
         "legendgroup": "",
         "marker": {
          "color": "#636efa",
          "pattern": {
           "shape": ""
          }
         },
         "name": "",
         "nbinsx": 100,
         "offsetgroup": "",
         "orientation": "v",
         "showlegend": false,
         "type": "histogram",
         "x": [
          45.95,
          45.95,
          45.95,
          45.95,
          45.95,
          45.95,
          40.53181818,
          39.99,
          39.99,
          39.99,
          39.99,
          39.99,
          39.99,
          39.99,
          39.99,
          39.24,
          69.9,
          82.63333333,
          97.58823529,
          89,
          89,
          97.33333333,
          99,
          99,
          99,
          99,
          99.5,
          101,
          101,
          101,
          19.9,
          19.9,
          19.9,
          21.54285714,
          24.5,
          24.5,
          32.5,
          32.5,
          35.05714286,
          36.2,
          36.2,
          36.2,
          59.9,
          59.9,
          59.9,
          59.9,
          59.9,
          59.9,
          51.32222222,
          56.97777778,
          49.9,
          51.4,
          53.9,
          53.9,
          52.9,
          49.9,
          49.9,
          49.9,
          19.99,
          19.99,
          19.99,
          19.99,
          19.99,
          19.99,
          23.39740741,
          23.99,
          23.99,
          23.99,
          23.99,
          23.99,
          23.99,
          23.99,
          23.99,
          23.99,
          23.99,
          23.99,
          134.99,
          134.99,
          146.99,
          157.3603704,
          166.99,
          166.99,
          176.99,
          173.8081818,
          169.99,
          110.99,
          110.99,
          110.99,
          116.5284615,
          119.99,
          122.99,
          122.99,
          122.99,
          56.99,
          56.99,
          56.99,
          56.99,
          56.99,
          56.99,
          56.99,
          56.99,
          56.99,
          50.49,
          49.99,
          49.99,
          49.99,
          99.99,
          99.99,
          99.99,
          99.99,
          99.99,
          99.99,
          99.99,
          99.99,
          99.99,
          99.99,
          99.99,
          97.952,
          84.6925,
          89.99,
          89.99,
          89.99,
          89.99,
          89.99,
          89.99,
          89.99,
          89.99,
          89.99,
          89.99,
          89.99,
          83.74,
          79.99,
          79.99,
          79.99,
          79.99,
          82.82142857,
          59.9,
          59.9,
          59.9,
          59.9,
          53.78571429,
          55.75,
          49.9,
          50.35714286,
          53.9,
          53.9,
          53.05789474,
          49.9,
          49.9,
          49.9,
          167,
          119.9,
          93.09489362,
          77.155,
          88,
          88,
          89.9,
          78.9,
          59.9,
          59.9,
          59.9,
          59.9,
          59.9,
          59.9,
          53.64828125,
          55.425,
          49.9,
          50.9,
          53.9,
          53.9,
          53.70952381,
          49.9,
          49.9,
          49.9,
          150.3545455,
          149.9,
          149.9,
          149.9,
          149.9,
          149.9,
          149.9,
          149.9,
          61.99,
          61.99,
          64.99,
          64.99,
          66.99,
          66.99,
          66.99,
          59.9,
          59.9,
          59.9,
          59.9,
          59.9,
          59.9,
          52.40694444,
          55.1,
          49.9,
          50.54516129,
          53.9,
          53.9,
          53.41515152,
          49.9,
          49.91,
          49.91,
          47.35789474,
          48.45944444,
          53.70176471,
          52.06928571,
          49.98,
          51.512,
          50.71,
          157.99,
          171.792,
          169.9,
          160.4,
          149.475,
          140.56,
          149,
          148.5,
          145.9942857,
          123.9666667,
          119.19,
          118.1318182,
          139.9,
          138.98,
          138,
          84.99,
          84.99,
          84.99,
          84.99,
          84.99,
          84.99,
          84.99,
          84.99,
          84.99,
          179.99,
          179.99,
          179.99,
          179.99,
          179.99,
          183.99,
          187.8542857,
          179,
          175.1538462,
          179,
          179,
          159,
          139,
          139,
          59.9,
          59.9,
          59.9,
          59.9,
          59.9,
          59.9,
          59.9,
          53.37910448,
          55.77096774,
          49.9,
          51.025,
          53.9,
          53.9,
          52.56666667,
          49.9,
          49.9,
          49.9,
          163,
          161.5909091,
          160.6692308,
          148.7785714,
          134.9,
          133,
          149,
          128.2416667,
          117.4412903,
          105.648625,
          103.7925234,
          119,
          118.3636364,
          112,
          29.5,
          29.5,
          35,
          35,
          35,
          65,
          65,
          142.5,
          142.5,
          142.5,
          118.05,
          118,
          117.9,
          117.8888889,
          117.7,
          117.975,
          119.9,
          119.1785714,
          118.7,
          116.9066667,
          129.99,
          129.99,
          129.99,
          129.99,
          129.99,
          116.9275,
          119.99,
          129.99,
          129.99,
          129.99,
          129.99,
          129.99,
          129.99,
          94.9,
          100.9,
          109.9,
          109.9,
          98.9,
          98.9,
          98.9,
          98.9,
          90.534,
          84.75608696,
          87.5,
          94,
          73,
          66.34214286,
          79.9,
          19.9,
          19.9,
          19.9,
          20.66666667,
          24.5,
          24.5,
          27.03333333,
          32.5,
          32.74285714,
          34.2,
          349.9,
          349.9,
          349.9,
          349.9,
          349.9,
          349.9,
          349.9,
          349.9,
          349.9,
          349.9,
          322.1363636,
          349.9,
          349.9,
          349.9,
          349.9,
          349.9,
          352.25,
          364,
          364,
          364,
          239.9,
          239.9,
          229.9,
          204.6181818,
          167.5,
          150.3423077,
          145.1666667,
          152.6333333,
          157.1428571,
          157.9454545,
          99.9,
          99.9,
          99.9,
          99.9,
          99.9,
          99.9,
          99.9,
          99.9,
          78.53571429,
          83.83333333,
          229.9,
          219.06,
          216.15,
          203.2909091,
          224.5428571,
          220.77,
          205.6857143,
          216.1875,
          204.3846154,
          199,
          64.99,
          64.99,
          64.99,
          64.99,
          64.99,
          58.79952381,
          59.25666667,
          58.99,
          58.99,
          58.99,
          58.99,
          58.99,
          58.99,
          58.99,
          58.99,
          58.99,
          58.99,
          58.99,
          58.99,
          58.99,
          99,
          99,
          99,
          98.3,
          92,
          92,
          90.875,
          88.24,
          84.9,
          84.9,
          84.9,
          99.99,
          99.99,
          96.65666667,
          109.99,
          119.99,
          120,
          104.25,
          92.594,
          89.99,
          89.99,
          123.3316667,
          120,
          113.3333333,
          110,
          110,
          96.65666667,
          99.99,
          99.99,
          89.9,
          89.9,
          89.9,
          89.9,
          89.9,
          89.9,
          89.9,
          89.9,
          89.9,
          89.9,
          88.48823529,
          86.9,
          86.9,
          86.9,
          85.045,
          83.64961538,
          79.9,
          77.93333333,
          74,
          38.4,
          38.4,
          38.4,
          34.58117647,
          38.4,
          38.4,
          38.4,
          35.48571429,
          35,
          35,
          35,
          35,
          108,
          108,
          108,
          108,
          105.6428571,
          105,
          105,
          105,
          105,
          105,
          78,
          78,
          78,
          78,
          78,
          78,
          78,
          78,
          78,
          78,
          78,
          78,
          78,
          78,
          77.82142857,
          75,
          75,
          75,
          75,
          75,
          69.9953271,
          69.9,
          69.9,
          69.9,
          69.9,
          89.9,
          89.9,
          103.2333333,
          59.9,
          59.9,
          59.9,
          59.9,
          59.9,
          59.9,
          59.9,
          54.45,
          49.9,
          49.9,
          51.23333333,
          53.9,
          53.9,
          49.9,
          49.9,
          49.9,
          49.9,
          38.4,
          38.4,
          38.4,
          38.4,
          36.85428571,
          38.4,
          38.4,
          35.48571429,
          35,
          35,
          35,
          35,
          35,
          325,
          325,
          325,
          325,
          325,
          325,
          325,
          325.8928571,
          330,
          330,
          330,
          330,
          330,
          99.99,
          99.99,
          109.99,
          109.99,
          120,
          120,
          102.5,
          95.29,
          89.99,
          89.99,
          127.7272727,
          120,
          110,
          110,
          110,
          89.99,
          99.99,
          98.32333333,
          85.70428571,
          99.99,
          99.99,
          99.99,
          99.99,
          99.99,
          99.99,
          99.99,
          99.99,
          99.99,
          99.99,
          99.99,
          99.99,
          99.99,
          89.86333333,
          159.99,
          159.99,
          139.99,
          159.99,
          139.99,
          145.7042857,
          151.99,
          154.6958824,
          149.99,
          149.99,
          156.5113514,
          149,
          136.1428571,
          120.9230769,
          119,
          114.4911538,
          119.99,
          119.99,
          339,
          339,
          346.158,
          345.7066667,
          348.8,
          339.9,
          347,
          307.8333333,
          280.6666667,
          258.9695652,
          245.9,
          169.3493182,
          178.0571429,
          149.8525,
          146.6,
          144.96,
          138.59,
          137.9,
          137.9,
          134.9,
          133,
          132.97,
          29.9,
          29.9,
          29.9,
          29.9,
          29.9,
          29.9,
          29.9,
          29.9,
          29.9,
          29.9,
          29.9,
          241.006,
          255.61,
          185,
          197.383,
          179.9,
          164.57,
          232.49,
          174.4333333,
          185.96,
          199,
          182,
          151.8784375,
          150.1333333,
          132.53125,
          138.22,
          155,
          145.5509091,
          109.9,
          109.9,
          97.6425,
          78.7122807,
          81.02391304,
          80.66666667,
          79.8,
          78.9,
          77.9,
          77.9,
          45.9,
          44.15444444,
          45.9,
          45.9,
          45.9,
          47.9,
          47.9,
          47.9,
          47.9,
          47.9,
          215,
          209,
          205,
          199.5098039,
          163.3987097
         ],
         "xaxis": "x",
         "yaxis": "y"
        }
       ],
       "layout": {
        "barmode": "relative",
        "legend": {
         "tracegroupgap": 0
        },
        "template": {
         "data": {
          "bar": [
           {
            "error_x": {
             "color": "#2a3f5f"
            },
            "error_y": {
             "color": "#2a3f5f"
            },
            "marker": {
             "line": {
              "color": "white",
              "width": 0.5
             },
             "pattern": {
              "fillmode": "overlay",
              "size": 10,
              "solidity": 0.2
             }
            },
            "type": "bar"
           }
          ],
          "barpolar": [
           {
            "marker": {
             "line": {
              "color": "white",
              "width": 0.5
             },
             "pattern": {
              "fillmode": "overlay",
              "size": 10,
              "solidity": 0.2
             }
            },
            "type": "barpolar"
           }
          ],
          "carpet": [
           {
            "aaxis": {
             "endlinecolor": "#2a3f5f",
             "gridcolor": "#C8D4E3",
             "linecolor": "#C8D4E3",
             "minorgridcolor": "#C8D4E3",
             "startlinecolor": "#2a3f5f"
            },
            "baxis": {
             "endlinecolor": "#2a3f5f",
             "gridcolor": "#C8D4E3",
             "linecolor": "#C8D4E3",
             "minorgridcolor": "#C8D4E3",
             "startlinecolor": "#2a3f5f"
            },
            "type": "carpet"
           }
          ],
          "choropleth": [
           {
            "colorbar": {
             "outlinewidth": 0,
             "ticks": ""
            },
            "type": "choropleth"
           }
          ],
          "contour": [
           {
            "colorbar": {
             "outlinewidth": 0,
             "ticks": ""
            },
            "colorscale": [
             [
              0,
              "#0d0887"
             ],
             [
              0.1111111111111111,
              "#46039f"
             ],
             [
              0.2222222222222222,
              "#7201a8"
             ],
             [
              0.3333333333333333,
              "#9c179e"
             ],
             [
              0.4444444444444444,
              "#bd3786"
             ],
             [
              0.5555555555555556,
              "#d8576b"
             ],
             [
              0.6666666666666666,
              "#ed7953"
             ],
             [
              0.7777777777777778,
              "#fb9f3a"
             ],
             [
              0.8888888888888888,
              "#fdca26"
             ],
             [
              1,
              "#f0f921"
             ]
            ],
            "type": "contour"
           }
          ],
          "contourcarpet": [
           {
            "colorbar": {
             "outlinewidth": 0,
             "ticks": ""
            },
            "type": "contourcarpet"
           }
          ],
          "heatmap": [
           {
            "colorbar": {
             "outlinewidth": 0,
             "ticks": ""
            },
            "colorscale": [
             [
              0,
              "#0d0887"
             ],
             [
              0.1111111111111111,
              "#46039f"
             ],
             [
              0.2222222222222222,
              "#7201a8"
             ],
             [
              0.3333333333333333,
              "#9c179e"
             ],
             [
              0.4444444444444444,
              "#bd3786"
             ],
             [
              0.5555555555555556,
              "#d8576b"
             ],
             [
              0.6666666666666666,
              "#ed7953"
             ],
             [
              0.7777777777777778,
              "#fb9f3a"
             ],
             [
              0.8888888888888888,
              "#fdca26"
             ],
             [
              1,
              "#f0f921"
             ]
            ],
            "type": "heatmap"
           }
          ],
          "heatmapgl": [
           {
            "colorbar": {
             "outlinewidth": 0,
             "ticks": ""
            },
            "colorscale": [
             [
              0,
              "#0d0887"
             ],
             [
              0.1111111111111111,
              "#46039f"
             ],
             [
              0.2222222222222222,
              "#7201a8"
             ],
             [
              0.3333333333333333,
              "#9c179e"
             ],
             [
              0.4444444444444444,
              "#bd3786"
             ],
             [
              0.5555555555555556,
              "#d8576b"
             ],
             [
              0.6666666666666666,
              "#ed7953"
             ],
             [
              0.7777777777777778,
              "#fb9f3a"
             ],
             [
              0.8888888888888888,
              "#fdca26"
             ],
             [
              1,
              "#f0f921"
             ]
            ],
            "type": "heatmapgl"
           }
          ],
          "histogram": [
           {
            "marker": {
             "pattern": {
              "fillmode": "overlay",
              "size": 10,
              "solidity": 0.2
             }
            },
            "type": "histogram"
           }
          ],
          "histogram2d": [
           {
            "colorbar": {
             "outlinewidth": 0,
             "ticks": ""
            },
            "colorscale": [
             [
              0,
              "#0d0887"
             ],
             [
              0.1111111111111111,
              "#46039f"
             ],
             [
              0.2222222222222222,
              "#7201a8"
             ],
             [
              0.3333333333333333,
              "#9c179e"
             ],
             [
              0.4444444444444444,
              "#bd3786"
             ],
             [
              0.5555555555555556,
              "#d8576b"
             ],
             [
              0.6666666666666666,
              "#ed7953"
             ],
             [
              0.7777777777777778,
              "#fb9f3a"
             ],
             [
              0.8888888888888888,
              "#fdca26"
             ],
             [
              1,
              "#f0f921"
             ]
            ],
            "type": "histogram2d"
           }
          ],
          "histogram2dcontour": [
           {
            "colorbar": {
             "outlinewidth": 0,
             "ticks": ""
            },
            "colorscale": [
             [
              0,
              "#0d0887"
             ],
             [
              0.1111111111111111,
              "#46039f"
             ],
             [
              0.2222222222222222,
              "#7201a8"
             ],
             [
              0.3333333333333333,
              "#9c179e"
             ],
             [
              0.4444444444444444,
              "#bd3786"
             ],
             [
              0.5555555555555556,
              "#d8576b"
             ],
             [
              0.6666666666666666,
              "#ed7953"
             ],
             [
              0.7777777777777778,
              "#fb9f3a"
             ],
             [
              0.8888888888888888,
              "#fdca26"
             ],
             [
              1,
              "#f0f921"
             ]
            ],
            "type": "histogram2dcontour"
           }
          ],
          "mesh3d": [
           {
            "colorbar": {
             "outlinewidth": 0,
             "ticks": ""
            },
            "type": "mesh3d"
           }
          ],
          "parcoords": [
           {
            "line": {
             "colorbar": {
              "outlinewidth": 0,
              "ticks": ""
             }
            },
            "type": "parcoords"
           }
          ],
          "pie": [
           {
            "automargin": true,
            "type": "pie"
           }
          ],
          "scatter": [
           {
            "fillpattern": {
             "fillmode": "overlay",
             "size": 10,
             "solidity": 0.2
            },
            "type": "scatter"
           }
          ],
          "scatter3d": [
           {
            "line": {
             "colorbar": {
              "outlinewidth": 0,
              "ticks": ""
             }
            },
            "marker": {
             "colorbar": {
              "outlinewidth": 0,
              "ticks": ""
             }
            },
            "type": "scatter3d"
           }
          ],
          "scattercarpet": [
           {
            "marker": {
             "colorbar": {
              "outlinewidth": 0,
              "ticks": ""
             }
            },
            "type": "scattercarpet"
           }
          ],
          "scattergeo": [
           {
            "marker": {
             "colorbar": {
              "outlinewidth": 0,
              "ticks": ""
             }
            },
            "type": "scattergeo"
           }
          ],
          "scattergl": [
           {
            "marker": {
             "colorbar": {
              "outlinewidth": 0,
              "ticks": ""
             }
            },
            "type": "scattergl"
           }
          ],
          "scattermapbox": [
           {
            "marker": {
             "colorbar": {
              "outlinewidth": 0,
              "ticks": ""
             }
            },
            "type": "scattermapbox"
           }
          ],
          "scatterpolar": [
           {
            "marker": {
             "colorbar": {
              "outlinewidth": 0,
              "ticks": ""
             }
            },
            "type": "scatterpolar"
           }
          ],
          "scatterpolargl": [
           {
            "marker": {
             "colorbar": {
              "outlinewidth": 0,
              "ticks": ""
             }
            },
            "type": "scatterpolargl"
           }
          ],
          "scatterternary": [
           {
            "marker": {
             "colorbar": {
              "outlinewidth": 0,
              "ticks": ""
             }
            },
            "type": "scatterternary"
           }
          ],
          "surface": [
           {
            "colorbar": {
             "outlinewidth": 0,
             "ticks": ""
            },
            "colorscale": [
             [
              0,
              "#0d0887"
             ],
             [
              0.1111111111111111,
              "#46039f"
             ],
             [
              0.2222222222222222,
              "#7201a8"
             ],
             [
              0.3333333333333333,
              "#9c179e"
             ],
             [
              0.4444444444444444,
              "#bd3786"
             ],
             [
              0.5555555555555556,
              "#d8576b"
             ],
             [
              0.6666666666666666,
              "#ed7953"
             ],
             [
              0.7777777777777778,
              "#fb9f3a"
             ],
             [
              0.8888888888888888,
              "#fdca26"
             ],
             [
              1,
              "#f0f921"
             ]
            ],
            "type": "surface"
           }
          ],
          "table": [
           {
            "cells": {
             "fill": {
              "color": "#EBF0F8"
             },
             "line": {
              "color": "white"
             }
            },
            "header": {
             "fill": {
              "color": "#C8D4E3"
             },
             "line": {
              "color": "white"
             }
            },
            "type": "table"
           }
          ]
         },
         "layout": {
          "annotationdefaults": {
           "arrowcolor": "#2a3f5f",
           "arrowhead": 0,
           "arrowwidth": 1
          },
          "autotypenumbers": "strict",
          "coloraxis": {
           "colorbar": {
            "outlinewidth": 0,
            "ticks": ""
           }
          },
          "colorscale": {
           "diverging": [
            [
             0,
             "#8e0152"
            ],
            [
             0.1,
             "#c51b7d"
            ],
            [
             0.2,
             "#de77ae"
            ],
            [
             0.3,
             "#f1b6da"
            ],
            [
             0.4,
             "#fde0ef"
            ],
            [
             0.5,
             "#f7f7f7"
            ],
            [
             0.6,
             "#e6f5d0"
            ],
            [
             0.7,
             "#b8e186"
            ],
            [
             0.8,
             "#7fbc41"
            ],
            [
             0.9,
             "#4d9221"
            ],
            [
             1,
             "#276419"
            ]
           ],
           "sequential": [
            [
             0,
             "#0d0887"
            ],
            [
             0.1111111111111111,
             "#46039f"
            ],
            [
             0.2222222222222222,
             "#7201a8"
            ],
            [
             0.3333333333333333,
             "#9c179e"
            ],
            [
             0.4444444444444444,
             "#bd3786"
            ],
            [
             0.5555555555555556,
             "#d8576b"
            ],
            [
             0.6666666666666666,
             "#ed7953"
            ],
            [
             0.7777777777777778,
             "#fb9f3a"
            ],
            [
             0.8888888888888888,
             "#fdca26"
            ],
            [
             1,
             "#f0f921"
            ]
           ],
           "sequentialminus": [
            [
             0,
             "#0d0887"
            ],
            [
             0.1111111111111111,
             "#46039f"
            ],
            [
             0.2222222222222222,
             "#7201a8"
            ],
            [
             0.3333333333333333,
             "#9c179e"
            ],
            [
             0.4444444444444444,
             "#bd3786"
            ],
            [
             0.5555555555555556,
             "#d8576b"
            ],
            [
             0.6666666666666666,
             "#ed7953"
            ],
            [
             0.7777777777777778,
             "#fb9f3a"
            ],
            [
             0.8888888888888888,
             "#fdca26"
            ],
            [
             1,
             "#f0f921"
            ]
           ]
          },
          "colorway": [
           "#636efa",
           "#EF553B",
           "#00cc96",
           "#ab63fa",
           "#FFA15A",
           "#19d3f3",
           "#FF6692",
           "#B6E880",
           "#FF97FF",
           "#FECB52"
          ],
          "font": {
           "color": "#2a3f5f"
          },
          "geo": {
           "bgcolor": "white",
           "lakecolor": "white",
           "landcolor": "white",
           "showlakes": true,
           "showland": true,
           "subunitcolor": "#C8D4E3"
          },
          "hoverlabel": {
           "align": "left"
          },
          "hovermode": "closest",
          "mapbox": {
           "style": "light"
          },
          "paper_bgcolor": "white",
          "plot_bgcolor": "white",
          "polar": {
           "angularaxis": {
            "gridcolor": "#EBF0F8",
            "linecolor": "#EBF0F8",
            "ticks": ""
           },
           "bgcolor": "white",
           "radialaxis": {
            "gridcolor": "#EBF0F8",
            "linecolor": "#EBF0F8",
            "ticks": ""
           }
          },
          "scene": {
           "xaxis": {
            "backgroundcolor": "white",
            "gridcolor": "#DFE8F3",
            "gridwidth": 2,
            "linecolor": "#EBF0F8",
            "showbackground": true,
            "ticks": "",
            "zerolinecolor": "#EBF0F8"
           },
           "yaxis": {
            "backgroundcolor": "white",
            "gridcolor": "#DFE8F3",
            "gridwidth": 2,
            "linecolor": "#EBF0F8",
            "showbackground": true,
            "ticks": "",
            "zerolinecolor": "#EBF0F8"
           },
           "zaxis": {
            "backgroundcolor": "white",
            "gridcolor": "#DFE8F3",
            "gridwidth": 2,
            "linecolor": "#EBF0F8",
            "showbackground": true,
            "ticks": "",
            "zerolinecolor": "#EBF0F8"
           }
          },
          "shapedefaults": {
           "line": {
            "color": "#2a3f5f"
           }
          },
          "ternary": {
           "aaxis": {
            "gridcolor": "#DFE8F3",
            "linecolor": "#A2B1C6",
            "ticks": ""
           },
           "baxis": {
            "gridcolor": "#DFE8F3",
            "linecolor": "#A2B1C6",
            "ticks": ""
           },
           "bgcolor": "white",
           "caxis": {
            "gridcolor": "#DFE8F3",
            "linecolor": "#A2B1C6",
            "ticks": ""
           }
          },
          "title": {
           "x": 0.05
          },
          "xaxis": {
           "automargin": true,
           "gridcolor": "#EBF0F8",
           "linecolor": "#EBF0F8",
           "ticks": "",
           "title": {
            "standoff": 15
           },
           "zerolinecolor": "#EBF0F8",
           "zerolinewidth": 2
          },
          "yaxis": {
           "automargin": true,
           "gridcolor": "#EBF0F8",
           "linecolor": "#EBF0F8",
           "ticks": "",
           "title": {
            "standoff": 15
           },
           "zerolinecolor": "#EBF0F8",
           "zerolinewidth": 2
          }
         }
        },
        "title": {
         "text": "Price Distribution"
        },
        "xaxis": {
         "anchor": "y",
         "domain": [
          0,
          1
         ],
         "title": {
          "text": "unit_price"
         }
        },
        "yaxis": {
         "anchor": "x",
         "domain": [
          0,
          1
         ],
         "title": {
          "text": "count"
         }
        }
       }
      }
     },
     "metadata": {},
     "output_type": "display_data"
    }
   ],
   "source": [
    "# Now let’s have a look at the distribution of the prices of the products:\n",
    "\n",
    "fig = px.histogram(data, x=\"unit_price\", nbins=100, title='Price Distribution')\n",
    "fig.show()\n"
   ]
  },
  {
   "cell_type": "code",
   "execution_count": 55,
   "metadata": {},
   "outputs": [
    {
     "data": {
      "application/vnd.plotly.v1+json": {
       "config": {
        "plotlyServerURL": "https://plot.ly"
       },
       "data": [
        {
         "alignmentgroup": "True",
         "hovertemplate": "unit_price=%{y}<extra></extra>",
         "legendgroup": "",
         "marker": {
          "color": "#636efa"
         },
         "name": "",
         "notched": false,
         "offsetgroup": "",
         "orientation": "v",
         "showlegend": false,
         "type": "box",
         "x0": " ",
         "xaxis": "x",
         "y": [
          45.95,
          45.95,
          45.95,
          45.95,
          45.95,
          45.95,
          40.53181818,
          39.99,
          39.99,
          39.99,
          39.99,
          39.99,
          39.99,
          39.99,
          39.99,
          39.24,
          69.9,
          82.63333333,
          97.58823529,
          89,
          89,
          97.33333333,
          99,
          99,
          99,
          99,
          99.5,
          101,
          101,
          101,
          19.9,
          19.9,
          19.9,
          21.54285714,
          24.5,
          24.5,
          32.5,
          32.5,
          35.05714286,
          36.2,
          36.2,
          36.2,
          59.9,
          59.9,
          59.9,
          59.9,
          59.9,
          59.9,
          51.32222222,
          56.97777778,
          49.9,
          51.4,
          53.9,
          53.9,
          52.9,
          49.9,
          49.9,
          49.9,
          19.99,
          19.99,
          19.99,
          19.99,
          19.99,
          19.99,
          23.39740741,
          23.99,
          23.99,
          23.99,
          23.99,
          23.99,
          23.99,
          23.99,
          23.99,
          23.99,
          23.99,
          23.99,
          134.99,
          134.99,
          146.99,
          157.3603704,
          166.99,
          166.99,
          176.99,
          173.8081818,
          169.99,
          110.99,
          110.99,
          110.99,
          116.5284615,
          119.99,
          122.99,
          122.99,
          122.99,
          56.99,
          56.99,
          56.99,
          56.99,
          56.99,
          56.99,
          56.99,
          56.99,
          56.99,
          50.49,
          49.99,
          49.99,
          49.99,
          99.99,
          99.99,
          99.99,
          99.99,
          99.99,
          99.99,
          99.99,
          99.99,
          99.99,
          99.99,
          99.99,
          97.952,
          84.6925,
          89.99,
          89.99,
          89.99,
          89.99,
          89.99,
          89.99,
          89.99,
          89.99,
          89.99,
          89.99,
          89.99,
          83.74,
          79.99,
          79.99,
          79.99,
          79.99,
          82.82142857,
          59.9,
          59.9,
          59.9,
          59.9,
          53.78571429,
          55.75,
          49.9,
          50.35714286,
          53.9,
          53.9,
          53.05789474,
          49.9,
          49.9,
          49.9,
          167,
          119.9,
          93.09489362,
          77.155,
          88,
          88,
          89.9,
          78.9,
          59.9,
          59.9,
          59.9,
          59.9,
          59.9,
          59.9,
          53.64828125,
          55.425,
          49.9,
          50.9,
          53.9,
          53.9,
          53.70952381,
          49.9,
          49.9,
          49.9,
          150.3545455,
          149.9,
          149.9,
          149.9,
          149.9,
          149.9,
          149.9,
          149.9,
          61.99,
          61.99,
          64.99,
          64.99,
          66.99,
          66.99,
          66.99,
          59.9,
          59.9,
          59.9,
          59.9,
          59.9,
          59.9,
          52.40694444,
          55.1,
          49.9,
          50.54516129,
          53.9,
          53.9,
          53.41515152,
          49.9,
          49.91,
          49.91,
          47.35789474,
          48.45944444,
          53.70176471,
          52.06928571,
          49.98,
          51.512,
          50.71,
          157.99,
          171.792,
          169.9,
          160.4,
          149.475,
          140.56,
          149,
          148.5,
          145.9942857,
          123.9666667,
          119.19,
          118.1318182,
          139.9,
          138.98,
          138,
          84.99,
          84.99,
          84.99,
          84.99,
          84.99,
          84.99,
          84.99,
          84.99,
          84.99,
          179.99,
          179.99,
          179.99,
          179.99,
          179.99,
          183.99,
          187.8542857,
          179,
          175.1538462,
          179,
          179,
          159,
          139,
          139,
          59.9,
          59.9,
          59.9,
          59.9,
          59.9,
          59.9,
          59.9,
          53.37910448,
          55.77096774,
          49.9,
          51.025,
          53.9,
          53.9,
          52.56666667,
          49.9,
          49.9,
          49.9,
          163,
          161.5909091,
          160.6692308,
          148.7785714,
          134.9,
          133,
          149,
          128.2416667,
          117.4412903,
          105.648625,
          103.7925234,
          119,
          118.3636364,
          112,
          29.5,
          29.5,
          35,
          35,
          35,
          65,
          65,
          142.5,
          142.5,
          142.5,
          118.05,
          118,
          117.9,
          117.8888889,
          117.7,
          117.975,
          119.9,
          119.1785714,
          118.7,
          116.9066667,
          129.99,
          129.99,
          129.99,
          129.99,
          129.99,
          116.9275,
          119.99,
          129.99,
          129.99,
          129.99,
          129.99,
          129.99,
          129.99,
          94.9,
          100.9,
          109.9,
          109.9,
          98.9,
          98.9,
          98.9,
          98.9,
          90.534,
          84.75608696,
          87.5,
          94,
          73,
          66.34214286,
          79.9,
          19.9,
          19.9,
          19.9,
          20.66666667,
          24.5,
          24.5,
          27.03333333,
          32.5,
          32.74285714,
          34.2,
          349.9,
          349.9,
          349.9,
          349.9,
          349.9,
          349.9,
          349.9,
          349.9,
          349.9,
          349.9,
          322.1363636,
          349.9,
          349.9,
          349.9,
          349.9,
          349.9,
          352.25,
          364,
          364,
          364,
          239.9,
          239.9,
          229.9,
          204.6181818,
          167.5,
          150.3423077,
          145.1666667,
          152.6333333,
          157.1428571,
          157.9454545,
          99.9,
          99.9,
          99.9,
          99.9,
          99.9,
          99.9,
          99.9,
          99.9,
          78.53571429,
          83.83333333,
          229.9,
          219.06,
          216.15,
          203.2909091,
          224.5428571,
          220.77,
          205.6857143,
          216.1875,
          204.3846154,
          199,
          64.99,
          64.99,
          64.99,
          64.99,
          64.99,
          58.79952381,
          59.25666667,
          58.99,
          58.99,
          58.99,
          58.99,
          58.99,
          58.99,
          58.99,
          58.99,
          58.99,
          58.99,
          58.99,
          58.99,
          58.99,
          99,
          99,
          99,
          98.3,
          92,
          92,
          90.875,
          88.24,
          84.9,
          84.9,
          84.9,
          99.99,
          99.99,
          96.65666667,
          109.99,
          119.99,
          120,
          104.25,
          92.594,
          89.99,
          89.99,
          123.3316667,
          120,
          113.3333333,
          110,
          110,
          96.65666667,
          99.99,
          99.99,
          89.9,
          89.9,
          89.9,
          89.9,
          89.9,
          89.9,
          89.9,
          89.9,
          89.9,
          89.9,
          88.48823529,
          86.9,
          86.9,
          86.9,
          85.045,
          83.64961538,
          79.9,
          77.93333333,
          74,
          38.4,
          38.4,
          38.4,
          34.58117647,
          38.4,
          38.4,
          38.4,
          35.48571429,
          35,
          35,
          35,
          35,
          108,
          108,
          108,
          108,
          105.6428571,
          105,
          105,
          105,
          105,
          105,
          78,
          78,
          78,
          78,
          78,
          78,
          78,
          78,
          78,
          78,
          78,
          78,
          78,
          78,
          77.82142857,
          75,
          75,
          75,
          75,
          75,
          69.9953271,
          69.9,
          69.9,
          69.9,
          69.9,
          89.9,
          89.9,
          103.2333333,
          59.9,
          59.9,
          59.9,
          59.9,
          59.9,
          59.9,
          59.9,
          54.45,
          49.9,
          49.9,
          51.23333333,
          53.9,
          53.9,
          49.9,
          49.9,
          49.9,
          49.9,
          38.4,
          38.4,
          38.4,
          38.4,
          36.85428571,
          38.4,
          38.4,
          35.48571429,
          35,
          35,
          35,
          35,
          35,
          325,
          325,
          325,
          325,
          325,
          325,
          325,
          325.8928571,
          330,
          330,
          330,
          330,
          330,
          99.99,
          99.99,
          109.99,
          109.99,
          120,
          120,
          102.5,
          95.29,
          89.99,
          89.99,
          127.7272727,
          120,
          110,
          110,
          110,
          89.99,
          99.99,
          98.32333333,
          85.70428571,
          99.99,
          99.99,
          99.99,
          99.99,
          99.99,
          99.99,
          99.99,
          99.99,
          99.99,
          99.99,
          99.99,
          99.99,
          99.99,
          89.86333333,
          159.99,
          159.99,
          139.99,
          159.99,
          139.99,
          145.7042857,
          151.99,
          154.6958824,
          149.99,
          149.99,
          156.5113514,
          149,
          136.1428571,
          120.9230769,
          119,
          114.4911538,
          119.99,
          119.99,
          339,
          339,
          346.158,
          345.7066667,
          348.8,
          339.9,
          347,
          307.8333333,
          280.6666667,
          258.9695652,
          245.9,
          169.3493182,
          178.0571429,
          149.8525,
          146.6,
          144.96,
          138.59,
          137.9,
          137.9,
          134.9,
          133,
          132.97,
          29.9,
          29.9,
          29.9,
          29.9,
          29.9,
          29.9,
          29.9,
          29.9,
          29.9,
          29.9,
          29.9,
          241.006,
          255.61,
          185,
          197.383,
          179.9,
          164.57,
          232.49,
          174.4333333,
          185.96,
          199,
          182,
          151.8784375,
          150.1333333,
          132.53125,
          138.22,
          155,
          145.5509091,
          109.9,
          109.9,
          97.6425,
          78.7122807,
          81.02391304,
          80.66666667,
          79.8,
          78.9,
          77.9,
          77.9,
          45.9,
          44.15444444,
          45.9,
          45.9,
          45.9,
          47.9,
          47.9,
          47.9,
          47.9,
          47.9,
          215,
          209,
          205,
          199.5098039,
          163.3987097
         ],
         "y0": " ",
         "yaxis": "y"
        }
       ],
       "layout": {
        "boxmode": "group",
        "legend": {
         "tracegroupgap": 0
        },
        "template": {
         "data": {
          "bar": [
           {
            "error_x": {
             "color": "#2a3f5f"
            },
            "error_y": {
             "color": "#2a3f5f"
            },
            "marker": {
             "line": {
              "color": "white",
              "width": 0.5
             },
             "pattern": {
              "fillmode": "overlay",
              "size": 10,
              "solidity": 0.2
             }
            },
            "type": "bar"
           }
          ],
          "barpolar": [
           {
            "marker": {
             "line": {
              "color": "white",
              "width": 0.5
             },
             "pattern": {
              "fillmode": "overlay",
              "size": 10,
              "solidity": 0.2
             }
            },
            "type": "barpolar"
           }
          ],
          "carpet": [
           {
            "aaxis": {
             "endlinecolor": "#2a3f5f",
             "gridcolor": "#C8D4E3",
             "linecolor": "#C8D4E3",
             "minorgridcolor": "#C8D4E3",
             "startlinecolor": "#2a3f5f"
            },
            "baxis": {
             "endlinecolor": "#2a3f5f",
             "gridcolor": "#C8D4E3",
             "linecolor": "#C8D4E3",
             "minorgridcolor": "#C8D4E3",
             "startlinecolor": "#2a3f5f"
            },
            "type": "carpet"
           }
          ],
          "choropleth": [
           {
            "colorbar": {
             "outlinewidth": 0,
             "ticks": ""
            },
            "type": "choropleth"
           }
          ],
          "contour": [
           {
            "colorbar": {
             "outlinewidth": 0,
             "ticks": ""
            },
            "colorscale": [
             [
              0,
              "#0d0887"
             ],
             [
              0.1111111111111111,
              "#46039f"
             ],
             [
              0.2222222222222222,
              "#7201a8"
             ],
             [
              0.3333333333333333,
              "#9c179e"
             ],
             [
              0.4444444444444444,
              "#bd3786"
             ],
             [
              0.5555555555555556,
              "#d8576b"
             ],
             [
              0.6666666666666666,
              "#ed7953"
             ],
             [
              0.7777777777777778,
              "#fb9f3a"
             ],
             [
              0.8888888888888888,
              "#fdca26"
             ],
             [
              1,
              "#f0f921"
             ]
            ],
            "type": "contour"
           }
          ],
          "contourcarpet": [
           {
            "colorbar": {
             "outlinewidth": 0,
             "ticks": ""
            },
            "type": "contourcarpet"
           }
          ],
          "heatmap": [
           {
            "colorbar": {
             "outlinewidth": 0,
             "ticks": ""
            },
            "colorscale": [
             [
              0,
              "#0d0887"
             ],
             [
              0.1111111111111111,
              "#46039f"
             ],
             [
              0.2222222222222222,
              "#7201a8"
             ],
             [
              0.3333333333333333,
              "#9c179e"
             ],
             [
              0.4444444444444444,
              "#bd3786"
             ],
             [
              0.5555555555555556,
              "#d8576b"
             ],
             [
              0.6666666666666666,
              "#ed7953"
             ],
             [
              0.7777777777777778,
              "#fb9f3a"
             ],
             [
              0.8888888888888888,
              "#fdca26"
             ],
             [
              1,
              "#f0f921"
             ]
            ],
            "type": "heatmap"
           }
          ],
          "heatmapgl": [
           {
            "colorbar": {
             "outlinewidth": 0,
             "ticks": ""
            },
            "colorscale": [
             [
              0,
              "#0d0887"
             ],
             [
              0.1111111111111111,
              "#46039f"
             ],
             [
              0.2222222222222222,
              "#7201a8"
             ],
             [
              0.3333333333333333,
              "#9c179e"
             ],
             [
              0.4444444444444444,
              "#bd3786"
             ],
             [
              0.5555555555555556,
              "#d8576b"
             ],
             [
              0.6666666666666666,
              "#ed7953"
             ],
             [
              0.7777777777777778,
              "#fb9f3a"
             ],
             [
              0.8888888888888888,
              "#fdca26"
             ],
             [
              1,
              "#f0f921"
             ]
            ],
            "type": "heatmapgl"
           }
          ],
          "histogram": [
           {
            "marker": {
             "pattern": {
              "fillmode": "overlay",
              "size": 10,
              "solidity": 0.2
             }
            },
            "type": "histogram"
           }
          ],
          "histogram2d": [
           {
            "colorbar": {
             "outlinewidth": 0,
             "ticks": ""
            },
            "colorscale": [
             [
              0,
              "#0d0887"
             ],
             [
              0.1111111111111111,
              "#46039f"
             ],
             [
              0.2222222222222222,
              "#7201a8"
             ],
             [
              0.3333333333333333,
              "#9c179e"
             ],
             [
              0.4444444444444444,
              "#bd3786"
             ],
             [
              0.5555555555555556,
              "#d8576b"
             ],
             [
              0.6666666666666666,
              "#ed7953"
             ],
             [
              0.7777777777777778,
              "#fb9f3a"
             ],
             [
              0.8888888888888888,
              "#fdca26"
             ],
             [
              1,
              "#f0f921"
             ]
            ],
            "type": "histogram2d"
           }
          ],
          "histogram2dcontour": [
           {
            "colorbar": {
             "outlinewidth": 0,
             "ticks": ""
            },
            "colorscale": [
             [
              0,
              "#0d0887"
             ],
             [
              0.1111111111111111,
              "#46039f"
             ],
             [
              0.2222222222222222,
              "#7201a8"
             ],
             [
              0.3333333333333333,
              "#9c179e"
             ],
             [
              0.4444444444444444,
              "#bd3786"
             ],
             [
              0.5555555555555556,
              "#d8576b"
             ],
             [
              0.6666666666666666,
              "#ed7953"
             ],
             [
              0.7777777777777778,
              "#fb9f3a"
             ],
             [
              0.8888888888888888,
              "#fdca26"
             ],
             [
              1,
              "#f0f921"
             ]
            ],
            "type": "histogram2dcontour"
           }
          ],
          "mesh3d": [
           {
            "colorbar": {
             "outlinewidth": 0,
             "ticks": ""
            },
            "type": "mesh3d"
           }
          ],
          "parcoords": [
           {
            "line": {
             "colorbar": {
              "outlinewidth": 0,
              "ticks": ""
             }
            },
            "type": "parcoords"
           }
          ],
          "pie": [
           {
            "automargin": true,
            "type": "pie"
           }
          ],
          "scatter": [
           {
            "fillpattern": {
             "fillmode": "overlay",
             "size": 10,
             "solidity": 0.2
            },
            "type": "scatter"
           }
          ],
          "scatter3d": [
           {
            "line": {
             "colorbar": {
              "outlinewidth": 0,
              "ticks": ""
             }
            },
            "marker": {
             "colorbar": {
              "outlinewidth": 0,
              "ticks": ""
             }
            },
            "type": "scatter3d"
           }
          ],
          "scattercarpet": [
           {
            "marker": {
             "colorbar": {
              "outlinewidth": 0,
              "ticks": ""
             }
            },
            "type": "scattercarpet"
           }
          ],
          "scattergeo": [
           {
            "marker": {
             "colorbar": {
              "outlinewidth": 0,
              "ticks": ""
             }
            },
            "type": "scattergeo"
           }
          ],
          "scattergl": [
           {
            "marker": {
             "colorbar": {
              "outlinewidth": 0,
              "ticks": ""
             }
            },
            "type": "scattergl"
           }
          ],
          "scattermapbox": [
           {
            "marker": {
             "colorbar": {
              "outlinewidth": 0,
              "ticks": ""
             }
            },
            "type": "scattermapbox"
           }
          ],
          "scatterpolar": [
           {
            "marker": {
             "colorbar": {
              "outlinewidth": 0,
              "ticks": ""
             }
            },
            "type": "scatterpolar"
           }
          ],
          "scatterpolargl": [
           {
            "marker": {
             "colorbar": {
              "outlinewidth": 0,
              "ticks": ""
             }
            },
            "type": "scatterpolargl"
           }
          ],
          "scatterternary": [
           {
            "marker": {
             "colorbar": {
              "outlinewidth": 0,
              "ticks": ""
             }
            },
            "type": "scatterternary"
           }
          ],
          "surface": [
           {
            "colorbar": {
             "outlinewidth": 0,
             "ticks": ""
            },
            "colorscale": [
             [
              0,
              "#0d0887"
             ],
             [
              0.1111111111111111,
              "#46039f"
             ],
             [
              0.2222222222222222,
              "#7201a8"
             ],
             [
              0.3333333333333333,
              "#9c179e"
             ],
             [
              0.4444444444444444,
              "#bd3786"
             ],
             [
              0.5555555555555556,
              "#d8576b"
             ],
             [
              0.6666666666666666,
              "#ed7953"
             ],
             [
              0.7777777777777778,
              "#fb9f3a"
             ],
             [
              0.8888888888888888,
              "#fdca26"
             ],
             [
              1,
              "#f0f921"
             ]
            ],
            "type": "surface"
           }
          ],
          "table": [
           {
            "cells": {
             "fill": {
              "color": "#EBF0F8"
             },
             "line": {
              "color": "white"
             }
            },
            "header": {
             "fill": {
              "color": "#C8D4E3"
             },
             "line": {
              "color": "white"
             }
            },
            "type": "table"
           }
          ]
         },
         "layout": {
          "annotationdefaults": {
           "arrowcolor": "#2a3f5f",
           "arrowhead": 0,
           "arrowwidth": 1
          },
          "autotypenumbers": "strict",
          "coloraxis": {
           "colorbar": {
            "outlinewidth": 0,
            "ticks": ""
           }
          },
          "colorscale": {
           "diverging": [
            [
             0,
             "#8e0152"
            ],
            [
             0.1,
             "#c51b7d"
            ],
            [
             0.2,
             "#de77ae"
            ],
            [
             0.3,
             "#f1b6da"
            ],
            [
             0.4,
             "#fde0ef"
            ],
            [
             0.5,
             "#f7f7f7"
            ],
            [
             0.6,
             "#e6f5d0"
            ],
            [
             0.7,
             "#b8e186"
            ],
            [
             0.8,
             "#7fbc41"
            ],
            [
             0.9,
             "#4d9221"
            ],
            [
             1,
             "#276419"
            ]
           ],
           "sequential": [
            [
             0,
             "#0d0887"
            ],
            [
             0.1111111111111111,
             "#46039f"
            ],
            [
             0.2222222222222222,
             "#7201a8"
            ],
            [
             0.3333333333333333,
             "#9c179e"
            ],
            [
             0.4444444444444444,
             "#bd3786"
            ],
            [
             0.5555555555555556,
             "#d8576b"
            ],
            [
             0.6666666666666666,
             "#ed7953"
            ],
            [
             0.7777777777777778,
             "#fb9f3a"
            ],
            [
             0.8888888888888888,
             "#fdca26"
            ],
            [
             1,
             "#f0f921"
            ]
           ],
           "sequentialminus": [
            [
             0,
             "#0d0887"
            ],
            [
             0.1111111111111111,
             "#46039f"
            ],
            [
             0.2222222222222222,
             "#7201a8"
            ],
            [
             0.3333333333333333,
             "#9c179e"
            ],
            [
             0.4444444444444444,
             "#bd3786"
            ],
            [
             0.5555555555555556,
             "#d8576b"
            ],
            [
             0.6666666666666666,
             "#ed7953"
            ],
            [
             0.7777777777777778,
             "#fb9f3a"
            ],
            [
             0.8888888888888888,
             "#fdca26"
            ],
            [
             1,
             "#f0f921"
            ]
           ]
          },
          "colorway": [
           "#636efa",
           "#EF553B",
           "#00cc96",
           "#ab63fa",
           "#FFA15A",
           "#19d3f3",
           "#FF6692",
           "#B6E880",
           "#FF97FF",
           "#FECB52"
          ],
          "font": {
           "color": "#2a3f5f"
          },
          "geo": {
           "bgcolor": "white",
           "lakecolor": "white",
           "landcolor": "white",
           "showlakes": true,
           "showland": true,
           "subunitcolor": "#C8D4E3"
          },
          "hoverlabel": {
           "align": "left"
          },
          "hovermode": "closest",
          "mapbox": {
           "style": "light"
          },
          "paper_bgcolor": "white",
          "plot_bgcolor": "white",
          "polar": {
           "angularaxis": {
            "gridcolor": "#EBF0F8",
            "linecolor": "#EBF0F8",
            "ticks": ""
           },
           "bgcolor": "white",
           "radialaxis": {
            "gridcolor": "#EBF0F8",
            "linecolor": "#EBF0F8",
            "ticks": ""
           }
          },
          "scene": {
           "xaxis": {
            "backgroundcolor": "white",
            "gridcolor": "#DFE8F3",
            "gridwidth": 2,
            "linecolor": "#EBF0F8",
            "showbackground": true,
            "ticks": "",
            "zerolinecolor": "#EBF0F8"
           },
           "yaxis": {
            "backgroundcolor": "white",
            "gridcolor": "#DFE8F3",
            "gridwidth": 2,
            "linecolor": "#EBF0F8",
            "showbackground": true,
            "ticks": "",
            "zerolinecolor": "#EBF0F8"
           },
           "zaxis": {
            "backgroundcolor": "white",
            "gridcolor": "#DFE8F3",
            "gridwidth": 2,
            "linecolor": "#EBF0F8",
            "showbackground": true,
            "ticks": "",
            "zerolinecolor": "#EBF0F8"
           }
          },
          "shapedefaults": {
           "line": {
            "color": "#2a3f5f"
           }
          },
          "ternary": {
           "aaxis": {
            "gridcolor": "#DFE8F3",
            "linecolor": "#A2B1C6",
            "ticks": ""
           },
           "baxis": {
            "gridcolor": "#DFE8F3",
            "linecolor": "#A2B1C6",
            "ticks": ""
           },
           "bgcolor": "white",
           "caxis": {
            "gridcolor": "#DFE8F3",
            "linecolor": "#A2B1C6",
            "ticks": ""
           }
          },
          "title": {
           "x": 0.05
          },
          "xaxis": {
           "automargin": true,
           "gridcolor": "#EBF0F8",
           "linecolor": "#EBF0F8",
           "ticks": "",
           "title": {
            "standoff": 15
           },
           "zerolinecolor": "#EBF0F8",
           "zerolinewidth": 2
          },
          "yaxis": {
           "automargin": true,
           "gridcolor": "#EBF0F8",
           "linecolor": "#EBF0F8",
           "ticks": "",
           "title": {
            "standoff": 15
           },
           "zerolinecolor": "#EBF0F8",
           "zerolinewidth": 2
          }
         }
        },
        "title": {
         "text": "Box Plot of Unit Price"
        },
        "xaxis": {
         "anchor": "y",
         "domain": [
          0,
          1
         ]
        },
        "yaxis": {
         "anchor": "x",
         "domain": [
          0,
          1
         ],
         "title": {
          "text": "unit_price"
         }
        }
       }
      }
     },
     "metadata": {},
     "output_type": "display_data"
    }
   ],
   "source": [
    "# see the distribution of the unit prices using a box plot:\n",
    "fig = px.box(data, \n",
    "             y='unit_price', \n",
    "             title='Box Plot of Unit Price')\n",
    "fig.show()"
   ]
  },
  {
   "cell_type": "code",
   "execution_count": 56,
   "metadata": {},
   "outputs": [
    {
     "data": {
      "application/vnd.plotly.v1+json": {
       "config": {
        "plotlyServerURL": "https://plot.ly"
       },
       "data": [
        {
         "alignmentgroup": "True",
         "bingroup": "x",
         "hovertemplate": "total_price=%{x}<br>count=%{y}<extra></extra>",
         "legendgroup": "",
         "marker": {
          "color": "#636efa",
          "pattern": {
           "shape": ""
          }
         },
         "name": "",
         "nbinsx": 20,
         "offsetgroup": "",
         "orientation": "v",
         "showlegend": false,
         "type": "histogram",
         "x": [
          45.95,
          137.85,
          275.7,
          183.8,
          91.9,
          137.85,
          445.85,
          239.94,
          759.81,
          719.82,
          679.83,
          519.87,
          759.81,
          199.95,
          319.92,
          313.92,
          419.4,
          247.9,
          1956,
          712,
          890,
          683,
          891,
          1386,
          1683,
          1089,
          398,
          202,
          101,
          101,
          258.7,
          477.6,
          179.1,
          603.2,
          686,
          392,
          162.5,
          195,
          245.4,
          108.6,
          72.4,
          36.2,
          59.9,
          59.9,
          239.6,
          359.4,
          299.5,
          658.9,
          1043.6,
          571.8,
          548.9,
          411.2,
          161.7,
          431.2,
          477.1,
          249.5,
          299.4,
          349.3,
          219.89,
          179.91,
          259.87,
          319.84,
          419.79,
          579.71,
          651.72,
          575.76,
          647.73,
          671.72,
          455.81,
          455.81,
          335.86,
          191.92,
          167.93,
          71.97,
          71.97,
          47.98,
          134.99,
          134.99,
          1763.88,
          4248.73,
          4842.71,
          2170.87,
          1415.92,
          1911.89,
          1019.94,
          110.99,
          221.98,
          998.91,
          1514.87,
          2759.77,
          5288.57,
          4058.67,
          3935.68,
          227.96,
          398.93,
          398.93,
          968.83,
          968.83,
          1139.8,
          1367.76,
          569.9,
          227.96,
          706.86,
          99.98,
          399.92,
          199.96,
          199.98,
          1799.82,
          1099.89,
          1399.86,
          799.92,
          599.94,
          899.91,
          199.98,
          299.97,
          599.94,
          899.91,
          489.76,
          338.77,
          539.94,
          539.94,
          809.91,
          1529.83,
          1619.82,
          1889.79,
          2159.76,
          2339.74,
          1709.81,
          1799.8,
          1529.83,
          1339.84,
          1119.86,
          1279.84,
          1039.87,
          799.9,
          579.75,
          778.7,
          1377.7,
          778.7,
          2156.4,
          3711.7,
          2468.6,
          1946.1,
          2411.2,
          1401.4,
          1509.2,
          1319.5,
          748.5,
          149.7,
          299.4,
          167,
          239.8,
          5453.96,
          3465.8,
          528,
          880,
          269.7,
          236.7,
          179.7,
          179.7,
          1138.1,
          1617.3,
          1018.3,
          1856.9,
          4712.19,
          1769.7,
          1447.1,
          1828.4,
          1886.5,
          700.7,
          1559.1,
          299.4,
          698.6,
          499,
          3307.8,
          10343.1,
          7644.9,
          5246.5,
          7794.8,
          4047.3,
          1948.7,
          749.5,
          185.97,
          805.87,
          974.85,
          2469.62,
          1741.74,
          1808.73,
          1875.72,
          239.6,
          59.9,
          838.6,
          2336.1,
          2216.3,
          2336.1,
          4769.7,
          2881.6,
          598.8,
          1970.1,
          1670.9,
          2479.4,
          2982.4,
          598.8,
          299.46,
          299.46,
          994.04,
          2809.65,
          965.91,
          1723.08,
          449.82,
          257.56,
          557.85,
          789.95,
          1016.95,
          849.5,
          1604,
          2391.6,
          3660,
          894,
          1188,
          2043.92,
          1115.7,
          1191.9,
          2598.9,
          139.9,
          694.9,
          414,
          254.97,
          339.96,
          254.97,
          3059.64,
          4249.5,
          1104.87,
          594.93,
          339.96,
          169.98,
          179.99,
          539.97,
          359.98,
          1079.94,
          2339.87,
          2759.85,
          2629.96,
          2148,
          2277,
          1969,
          537,
          1590,
          1112,
          973,
          179.7,
          419.3,
          239.6,
          1138.1,
          1257.9,
          1377.7,
          1138.1,
          4397.7,
          2232.6,
          1247.5,
          2247.6,
          1347.5,
          1078,
          888.3,
          399.2,
          449.1,
          349.3,
          652,
          1777.5,
          2088.7,
          2762.5,
          134.9,
          1995,
          596,
          769.45,
          3640.68,
          8961.49,
          11820.2,
          1071,
          1302,
          112,
          29.5,
          2242,
          910,
          140,
          140,
          130,
          65,
          142.5,
          142.5,
          285,
          944.4,
          1416,
          707.4,
          1296.8,
          470.8,
          943.8,
          2038.3,
          1668.5,
          593.5,
          1987.4,
          1039.92,
          1819.86,
          2339.82,
          2209.83,
          2079.84,
          1870.84,
          1199.9,
          1169.91,
          389.97,
          519.96,
          259.98,
          129.99,
          129.99,
          379.6,
          611.4,
          1099,
          219.8,
          395.6,
          395.6,
          593.4,
          98.9,
          2795.14,
          2537.19,
          1139.8,
          470,
          292,
          1199.48,
          79.9,
          19.9,
          218.9,
          179.1,
          248,
          563.5,
          416.5,
          271.2,
          32.5,
          229.2,
          205.2,
          2799.2,
          1399.6,
          699.8,
          349.9,
          1399.6,
          699.8,
          349.9,
          2449.3,
          2449.3,
          3499,
          3543.5,
          2449.3,
          4198.8,
          5248.5,
          5948.3,
          2449.3,
          3513.1,
          4004,
          4004,
          3276,
          479.8,
          479.8,
          459.8,
          2250.8,
          2680,
          3908.9,
          4355,
          457.9,
          2200,
          1737.4,
          99.9,
          299.7,
          1298.7,
          1298.7,
          1198.8,
          1298.7,
          1298.7,
          999,
          1099.5,
          754.5,
          1839.2,
          2190.6,
          1729.2,
          2395.2,
          6287.2,
          2207.7,
          4319.4,
          3459,
          2657,
          3383,
          64.99,
          324.95,
          584.91,
          584.91,
          1039.84,
          1234.79,
          888.85,
          1297.78,
          1474.75,
          1120.81,
          1415.76,
          530.91,
          353.94,
          825.86,
          589.9,
          648.89,
          235.96,
          353.94,
          117.98,
          176.97,
          792,
          2178,
          693,
          1082,
          1196,
          276,
          815,
          1235.36,
          1188.6,
          764.1,
          84.9,
          99.99,
          1099.89,
          759.92,
          219.98,
          239.98,
          240,
          417,
          1105.92,
          1889.79,
          1259.86,
          1479.98,
          1680,
          680,
          770,
          880,
          969.9,
          499.95,
          199.98,
          179.8,
          1977.8,
          3056.6,
          5214.2,
          4584.9,
          5394,
          3326.3,
          2067.7,
          1258.6,
          3596,
          1594.2,
          1477.3,
          1911.8,
          1477.3,
          510.27,
          2174.89,
          1837.7,
          781.3,
          518,
          38.4,
          230.4,
          307.2,
          1170.35,
          153.6,
          576,
          153.6,
          493.4,
          140,
          140,
          70,
          35,
          1404,
          1404,
          4752,
          3564,
          2214,
          2205,
          3885,
          2940,
          840,
          735,
          78,
          234,
          78,
          390,
          234,
          156,
          468,
          702,
          78,
          78,
          1248,
          390,
          3042,
          3120,
          2179,
          375,
          975,
          375,
          3300,
          3525,
          8538,
          3075.6,
          4543.5,
          5801.7,
          6430.8,
          179.8,
          179.8,
          309.7,
          299.5,
          119.8,
          299.5,
          898.5,
          1138.1,
          2036.6,
          778.7,
          495.5,
          49.9,
          49.9,
          203.6,
          107.8,
          107.8,
          199.6,
          249.5,
          149.7,
          149.7,
          38.4,
          307.2,
          460.8,
          960,
          1026.51,
          76.8,
          345.6,
          601.8,
          595,
          385,
          455,
          350,
          560,
          1950,
          3575,
          650,
          3900,
          1950,
          3250,
          7475,
          9125,
          6930,
          6270,
          5280,
          4290,
          9240,
          99.99,
          499.95,
          439.96,
          659.94,
          120,
          240,
          735,
          1619.93,
          2519.72,
          2429.73,
          1405,
          840,
          660,
          550,
          220,
          539.94,
          699.93,
          589.94,
          599.93,
          1399.86,
          1699.83,
          2199.78,
          1399.86,
          1099.89,
          1399.86,
          299.97,
          199.98,
          399.96,
          299.97,
          299.97,
          99.99,
          199.98,
          269.59,
          479.97,
          479.97,
          699.95,
          479.97,
          839.94,
          1019.93,
          1679.89,
          2629.83,
          2699.82,
          3449.77,
          6746.9,
          4619,
          5986,
          6764,
          2975,
          3086.76,
          1079.91,
          1199.9,
          678,
          339,
          3461.58,
          3111.36,
          3836.8,
          339.9,
          1735,
          1847,
          1684,
          5956.3,
          983.6,
          7651.27,
          2715.7,
          2247.72,
          584.77,
          1884.45,
          1656.87,
          2206.4,
          2482.2,
          269.8,
          665,
          398.91,
          29.9,
          179.4,
          179.4,
          448.5,
          478.4,
          328.9,
          657.8,
          657.8,
          209.3,
          538.2,
          388.7,
          1205.03,
          766.83,
          925,
          1973.83,
          2698.5,
          3291.4,
          929.96,
          3139.8,
          929.8,
          398,
          1092,
          4860.11,
          1351.2,
          4241,
          2073.3,
          310,
          1601.06,
          109.9,
          1318.8,
          2831.55,
          5581.8,
          2187.3,
          1042.9,
          876.9,
          789,
          545.3,
          155.8,
          1331.1,
          1421.67,
          550.8,
          872.1,
          734.4,
          383.2,
          335.3,
          95.8,
          191.6,
          95.8,
          215,
          2090,
          12095,
          10375,
          5222.36
         ],
         "xaxis": "x",
         "yaxis": "y"
        }
       ],
       "layout": {
        "barmode": "relative",
        "legend": {
         "tracegroupgap": 0
        },
        "template": {
         "data": {
          "bar": [
           {
            "error_x": {
             "color": "#2a3f5f"
            },
            "error_y": {
             "color": "#2a3f5f"
            },
            "marker": {
             "line": {
              "color": "white",
              "width": 0.5
             },
             "pattern": {
              "fillmode": "overlay",
              "size": 10,
              "solidity": 0.2
             }
            },
            "type": "bar"
           }
          ],
          "barpolar": [
           {
            "marker": {
             "line": {
              "color": "white",
              "width": 0.5
             },
             "pattern": {
              "fillmode": "overlay",
              "size": 10,
              "solidity": 0.2
             }
            },
            "type": "barpolar"
           }
          ],
          "carpet": [
           {
            "aaxis": {
             "endlinecolor": "#2a3f5f",
             "gridcolor": "#C8D4E3",
             "linecolor": "#C8D4E3",
             "minorgridcolor": "#C8D4E3",
             "startlinecolor": "#2a3f5f"
            },
            "baxis": {
             "endlinecolor": "#2a3f5f",
             "gridcolor": "#C8D4E3",
             "linecolor": "#C8D4E3",
             "minorgridcolor": "#C8D4E3",
             "startlinecolor": "#2a3f5f"
            },
            "type": "carpet"
           }
          ],
          "choropleth": [
           {
            "colorbar": {
             "outlinewidth": 0,
             "ticks": ""
            },
            "type": "choropleth"
           }
          ],
          "contour": [
           {
            "colorbar": {
             "outlinewidth": 0,
             "ticks": ""
            },
            "colorscale": [
             [
              0,
              "#0d0887"
             ],
             [
              0.1111111111111111,
              "#46039f"
             ],
             [
              0.2222222222222222,
              "#7201a8"
             ],
             [
              0.3333333333333333,
              "#9c179e"
             ],
             [
              0.4444444444444444,
              "#bd3786"
             ],
             [
              0.5555555555555556,
              "#d8576b"
             ],
             [
              0.6666666666666666,
              "#ed7953"
             ],
             [
              0.7777777777777778,
              "#fb9f3a"
             ],
             [
              0.8888888888888888,
              "#fdca26"
             ],
             [
              1,
              "#f0f921"
             ]
            ],
            "type": "contour"
           }
          ],
          "contourcarpet": [
           {
            "colorbar": {
             "outlinewidth": 0,
             "ticks": ""
            },
            "type": "contourcarpet"
           }
          ],
          "heatmap": [
           {
            "colorbar": {
             "outlinewidth": 0,
             "ticks": ""
            },
            "colorscale": [
             [
              0,
              "#0d0887"
             ],
             [
              0.1111111111111111,
              "#46039f"
             ],
             [
              0.2222222222222222,
              "#7201a8"
             ],
             [
              0.3333333333333333,
              "#9c179e"
             ],
             [
              0.4444444444444444,
              "#bd3786"
             ],
             [
              0.5555555555555556,
              "#d8576b"
             ],
             [
              0.6666666666666666,
              "#ed7953"
             ],
             [
              0.7777777777777778,
              "#fb9f3a"
             ],
             [
              0.8888888888888888,
              "#fdca26"
             ],
             [
              1,
              "#f0f921"
             ]
            ],
            "type": "heatmap"
           }
          ],
          "heatmapgl": [
           {
            "colorbar": {
             "outlinewidth": 0,
             "ticks": ""
            },
            "colorscale": [
             [
              0,
              "#0d0887"
             ],
             [
              0.1111111111111111,
              "#46039f"
             ],
             [
              0.2222222222222222,
              "#7201a8"
             ],
             [
              0.3333333333333333,
              "#9c179e"
             ],
             [
              0.4444444444444444,
              "#bd3786"
             ],
             [
              0.5555555555555556,
              "#d8576b"
             ],
             [
              0.6666666666666666,
              "#ed7953"
             ],
             [
              0.7777777777777778,
              "#fb9f3a"
             ],
             [
              0.8888888888888888,
              "#fdca26"
             ],
             [
              1,
              "#f0f921"
             ]
            ],
            "type": "heatmapgl"
           }
          ],
          "histogram": [
           {
            "marker": {
             "pattern": {
              "fillmode": "overlay",
              "size": 10,
              "solidity": 0.2
             }
            },
            "type": "histogram"
           }
          ],
          "histogram2d": [
           {
            "colorbar": {
             "outlinewidth": 0,
             "ticks": ""
            },
            "colorscale": [
             [
              0,
              "#0d0887"
             ],
             [
              0.1111111111111111,
              "#46039f"
             ],
             [
              0.2222222222222222,
              "#7201a8"
             ],
             [
              0.3333333333333333,
              "#9c179e"
             ],
             [
              0.4444444444444444,
              "#bd3786"
             ],
             [
              0.5555555555555556,
              "#d8576b"
             ],
             [
              0.6666666666666666,
              "#ed7953"
             ],
             [
              0.7777777777777778,
              "#fb9f3a"
             ],
             [
              0.8888888888888888,
              "#fdca26"
             ],
             [
              1,
              "#f0f921"
             ]
            ],
            "type": "histogram2d"
           }
          ],
          "histogram2dcontour": [
           {
            "colorbar": {
             "outlinewidth": 0,
             "ticks": ""
            },
            "colorscale": [
             [
              0,
              "#0d0887"
             ],
             [
              0.1111111111111111,
              "#46039f"
             ],
             [
              0.2222222222222222,
              "#7201a8"
             ],
             [
              0.3333333333333333,
              "#9c179e"
             ],
             [
              0.4444444444444444,
              "#bd3786"
             ],
             [
              0.5555555555555556,
              "#d8576b"
             ],
             [
              0.6666666666666666,
              "#ed7953"
             ],
             [
              0.7777777777777778,
              "#fb9f3a"
             ],
             [
              0.8888888888888888,
              "#fdca26"
             ],
             [
              1,
              "#f0f921"
             ]
            ],
            "type": "histogram2dcontour"
           }
          ],
          "mesh3d": [
           {
            "colorbar": {
             "outlinewidth": 0,
             "ticks": ""
            },
            "type": "mesh3d"
           }
          ],
          "parcoords": [
           {
            "line": {
             "colorbar": {
              "outlinewidth": 0,
              "ticks": ""
             }
            },
            "type": "parcoords"
           }
          ],
          "pie": [
           {
            "automargin": true,
            "type": "pie"
           }
          ],
          "scatter": [
           {
            "fillpattern": {
             "fillmode": "overlay",
             "size": 10,
             "solidity": 0.2
            },
            "type": "scatter"
           }
          ],
          "scatter3d": [
           {
            "line": {
             "colorbar": {
              "outlinewidth": 0,
              "ticks": ""
             }
            },
            "marker": {
             "colorbar": {
              "outlinewidth": 0,
              "ticks": ""
             }
            },
            "type": "scatter3d"
           }
          ],
          "scattercarpet": [
           {
            "marker": {
             "colorbar": {
              "outlinewidth": 0,
              "ticks": ""
             }
            },
            "type": "scattercarpet"
           }
          ],
          "scattergeo": [
           {
            "marker": {
             "colorbar": {
              "outlinewidth": 0,
              "ticks": ""
             }
            },
            "type": "scattergeo"
           }
          ],
          "scattergl": [
           {
            "marker": {
             "colorbar": {
              "outlinewidth": 0,
              "ticks": ""
             }
            },
            "type": "scattergl"
           }
          ],
          "scattermapbox": [
           {
            "marker": {
             "colorbar": {
              "outlinewidth": 0,
              "ticks": ""
             }
            },
            "type": "scattermapbox"
           }
          ],
          "scatterpolar": [
           {
            "marker": {
             "colorbar": {
              "outlinewidth": 0,
              "ticks": ""
             }
            },
            "type": "scatterpolar"
           }
          ],
          "scatterpolargl": [
           {
            "marker": {
             "colorbar": {
              "outlinewidth": 0,
              "ticks": ""
             }
            },
            "type": "scatterpolargl"
           }
          ],
          "scatterternary": [
           {
            "marker": {
             "colorbar": {
              "outlinewidth": 0,
              "ticks": ""
             }
            },
            "type": "scatterternary"
           }
          ],
          "surface": [
           {
            "colorbar": {
             "outlinewidth": 0,
             "ticks": ""
            },
            "colorscale": [
             [
              0,
              "#0d0887"
             ],
             [
              0.1111111111111111,
              "#46039f"
             ],
             [
              0.2222222222222222,
              "#7201a8"
             ],
             [
              0.3333333333333333,
              "#9c179e"
             ],
             [
              0.4444444444444444,
              "#bd3786"
             ],
             [
              0.5555555555555556,
              "#d8576b"
             ],
             [
              0.6666666666666666,
              "#ed7953"
             ],
             [
              0.7777777777777778,
              "#fb9f3a"
             ],
             [
              0.8888888888888888,
              "#fdca26"
             ],
             [
              1,
              "#f0f921"
             ]
            ],
            "type": "surface"
           }
          ],
          "table": [
           {
            "cells": {
             "fill": {
              "color": "#EBF0F8"
             },
             "line": {
              "color": "white"
             }
            },
            "header": {
             "fill": {
              "color": "#C8D4E3"
             },
             "line": {
              "color": "white"
             }
            },
            "type": "table"
           }
          ]
         },
         "layout": {
          "annotationdefaults": {
           "arrowcolor": "#2a3f5f",
           "arrowhead": 0,
           "arrowwidth": 1
          },
          "autotypenumbers": "strict",
          "coloraxis": {
           "colorbar": {
            "outlinewidth": 0,
            "ticks": ""
           }
          },
          "colorscale": {
           "diverging": [
            [
             0,
             "#8e0152"
            ],
            [
             0.1,
             "#c51b7d"
            ],
            [
             0.2,
             "#de77ae"
            ],
            [
             0.3,
             "#f1b6da"
            ],
            [
             0.4,
             "#fde0ef"
            ],
            [
             0.5,
             "#f7f7f7"
            ],
            [
             0.6,
             "#e6f5d0"
            ],
            [
             0.7,
             "#b8e186"
            ],
            [
             0.8,
             "#7fbc41"
            ],
            [
             0.9,
             "#4d9221"
            ],
            [
             1,
             "#276419"
            ]
           ],
           "sequential": [
            [
             0,
             "#0d0887"
            ],
            [
             0.1111111111111111,
             "#46039f"
            ],
            [
             0.2222222222222222,
             "#7201a8"
            ],
            [
             0.3333333333333333,
             "#9c179e"
            ],
            [
             0.4444444444444444,
             "#bd3786"
            ],
            [
             0.5555555555555556,
             "#d8576b"
            ],
            [
             0.6666666666666666,
             "#ed7953"
            ],
            [
             0.7777777777777778,
             "#fb9f3a"
            ],
            [
             0.8888888888888888,
             "#fdca26"
            ],
            [
             1,
             "#f0f921"
            ]
           ],
           "sequentialminus": [
            [
             0,
             "#0d0887"
            ],
            [
             0.1111111111111111,
             "#46039f"
            ],
            [
             0.2222222222222222,
             "#7201a8"
            ],
            [
             0.3333333333333333,
             "#9c179e"
            ],
            [
             0.4444444444444444,
             "#bd3786"
            ],
            [
             0.5555555555555556,
             "#d8576b"
            ],
            [
             0.6666666666666666,
             "#ed7953"
            ],
            [
             0.7777777777777778,
             "#fb9f3a"
            ],
            [
             0.8888888888888888,
             "#fdca26"
            ],
            [
             1,
             "#f0f921"
            ]
           ]
          },
          "colorway": [
           "#636efa",
           "#EF553B",
           "#00cc96",
           "#ab63fa",
           "#FFA15A",
           "#19d3f3",
           "#FF6692",
           "#B6E880",
           "#FF97FF",
           "#FECB52"
          ],
          "font": {
           "color": "#2a3f5f"
          },
          "geo": {
           "bgcolor": "white",
           "lakecolor": "white",
           "landcolor": "white",
           "showlakes": true,
           "showland": true,
           "subunitcolor": "#C8D4E3"
          },
          "hoverlabel": {
           "align": "left"
          },
          "hovermode": "closest",
          "mapbox": {
           "style": "light"
          },
          "paper_bgcolor": "white",
          "plot_bgcolor": "white",
          "polar": {
           "angularaxis": {
            "gridcolor": "#EBF0F8",
            "linecolor": "#EBF0F8",
            "ticks": ""
           },
           "bgcolor": "white",
           "radialaxis": {
            "gridcolor": "#EBF0F8",
            "linecolor": "#EBF0F8",
            "ticks": ""
           }
          },
          "scene": {
           "xaxis": {
            "backgroundcolor": "white",
            "gridcolor": "#DFE8F3",
            "gridwidth": 2,
            "linecolor": "#EBF0F8",
            "showbackground": true,
            "ticks": "",
            "zerolinecolor": "#EBF0F8"
           },
           "yaxis": {
            "backgroundcolor": "white",
            "gridcolor": "#DFE8F3",
            "gridwidth": 2,
            "linecolor": "#EBF0F8",
            "showbackground": true,
            "ticks": "",
            "zerolinecolor": "#EBF0F8"
           },
           "zaxis": {
            "backgroundcolor": "white",
            "gridcolor": "#DFE8F3",
            "gridwidth": 2,
            "linecolor": "#EBF0F8",
            "showbackground": true,
            "ticks": "",
            "zerolinecolor": "#EBF0F8"
           }
          },
          "shapedefaults": {
           "line": {
            "color": "#2a3f5f"
           }
          },
          "ternary": {
           "aaxis": {
            "gridcolor": "#DFE8F3",
            "linecolor": "#A2B1C6",
            "ticks": ""
           },
           "baxis": {
            "gridcolor": "#DFE8F3",
            "linecolor": "#A2B1C6",
            "ticks": ""
           },
           "bgcolor": "white",
           "caxis": {
            "gridcolor": "#DFE8F3",
            "linecolor": "#A2B1C6",
            "ticks": ""
           }
          },
          "title": {
           "x": 0.05
          },
          "xaxis": {
           "automargin": true,
           "gridcolor": "#EBF0F8",
           "linecolor": "#EBF0F8",
           "ticks": "",
           "title": {
            "standoff": 15
           },
           "zerolinecolor": "#EBF0F8",
           "zerolinewidth": 2
          },
          "yaxis": {
           "automargin": true,
           "gridcolor": "#EBF0F8",
           "linecolor": "#EBF0F8",
           "ticks": "",
           "title": {
            "standoff": 15
           },
           "zerolinecolor": "#EBF0F8",
           "zerolinewidth": 2
          }
         }
        },
        "title": {
         "text": "Distribution of Total Price"
        },
        "xaxis": {
         "anchor": "y",
         "domain": [
          0,
          1
         ],
         "title": {
          "text": "total_price"
         }
        },
        "yaxis": {
         "anchor": "x",
         "domain": [
          0,
          1
         ],
         "title": {
          "text": "count"
         }
        }
       }
      }
     },
     "metadata": {},
     "output_type": "display_data"
    }
   ],
   "source": [
    "# let’s have a look at the distribution of the total prices of the products:\n",
    "fig = px.histogram(data, \n",
    "                   x='total_price', \n",
    "                   nbins=20, \n",
    "                   title='Distribution of Total Price')\n",
    "fig.show()"
   ]
  },
  {
   "cell_type": "code",
   "execution_count": 57,
   "metadata": {},
   "outputs": [
    {
     "name": "stdout",
     "output_type": "stream",
     "text": [
      "Requirement already satisfied: statsmodels in c:\\users\\khali\\appdata\\local\\programs\\python\\python311\\lib\\site-packages (0.14.0)\n",
      "Requirement already satisfied: numpy>=1.18 in c:\\users\\khali\\appdata\\local\\programs\\python\\python311\\lib\\site-packages (from statsmodels) (1.26.1)\n",
      "Requirement already satisfied: scipy!=1.9.2,>=1.4 in c:\\users\\khali\\appdata\\local\\programs\\python\\python311\\lib\\site-packages (from statsmodels) (1.11.3)\n",
      "Requirement already satisfied: pandas>=1.0 in c:\\users\\khali\\appdata\\local\\programs\\python\\python311\\lib\\site-packages (from statsmodels) (2.1.1)\n",
      "Requirement already satisfied: patsy>=0.5.2 in c:\\users\\khali\\appdata\\local\\programs\\python\\python311\\lib\\site-packages (from statsmodels) (0.5.3)\n",
      "Requirement already satisfied: packaging>=21.3 in c:\\users\\khali\\appdata\\roaming\\python\\python311\\site-packages (from statsmodels) (23.2)\n",
      "Requirement already satisfied: python-dateutil>=2.8.2 in c:\\users\\khali\\appdata\\roaming\\python\\python311\\site-packages (from pandas>=1.0->statsmodels) (2.8.2)\n",
      "Requirement already satisfied: pytz>=2020.1 in c:\\users\\khali\\appdata\\local\\programs\\python\\python311\\lib\\site-packages (from pandas>=1.0->statsmodels) (2023.3.post1)\n",
      "Requirement already satisfied: tzdata>=2022.1 in c:\\users\\khali\\appdata\\local\\programs\\python\\python311\\lib\\site-packages (from pandas>=1.0->statsmodels) (2023.3)\n",
      "Requirement already satisfied: six in c:\\users\\khali\\appdata\\roaming\\python\\python311\\site-packages (from patsy>=0.5.2->statsmodels) (1.16.0)\n",
      "Note: you may need to restart the kernel to use updated packages.\n"
     ]
    },
    {
     "name": "stderr",
     "output_type": "stream",
     "text": [
      "\n",
      "[notice] A new release of pip is available: 23.1.2 -> 23.3\n",
      "[notice] To update, run: python.exe -m pip install --upgrade pip\n"
     ]
    }
   ],
   "source": [
    "%pip install statsmodels"
   ]
  },
  {
   "cell_type": "code",
   "execution_count": 58,
   "metadata": {},
   "outputs": [
    {
     "data": {
      "application/vnd.plotly.v1+json": {
       "config": {
        "plotlyServerURL": "https://plot.ly"
       },
       "data": [
        {
         "hovertemplate": "qty=%{x}<br>total_price=%{y}<extra></extra>",
         "legendgroup": "",
         "marker": {
          "color": "#636efa",
          "symbol": "circle"
         },
         "mode": "markers",
         "name": "",
         "orientation": "v",
         "showlegend": false,
         "type": "scatter",
         "x": [
          1,
          3,
          6,
          4,
          2,
          3,
          11,
          6,
          19,
          18,
          17,
          13,
          19,
          5,
          8,
          8,
          6,
          3,
          20,
          8,
          10,
          7,
          9,
          14,
          17,
          11,
          4,
          2,
          1,
          1,
          13,
          24,
          9,
          28,
          28,
          16,
          5,
          6,
          7,
          3,
          2,
          1,
          1,
          1,
          4,
          6,
          5,
          11,
          20,
          10,
          11,
          8,
          3,
          8,
          9,
          5,
          6,
          7,
          11,
          9,
          13,
          16,
          21,
          29,
          28,
          24,
          27,
          28,
          19,
          19,
          14,
          8,
          7,
          3,
          3,
          2,
          1,
          1,
          12,
          27,
          29,
          13,
          8,
          11,
          6,
          1,
          2,
          9,
          13,
          23,
          43,
          33,
          32,
          4,
          7,
          7,
          17,
          17,
          20,
          24,
          10,
          4,
          14,
          2,
          8,
          4,
          2,
          18,
          11,
          14,
          8,
          6,
          9,
          2,
          3,
          6,
          9,
          5,
          4,
          6,
          6,
          9,
          17,
          18,
          21,
          24,
          26,
          19,
          20,
          17,
          16,
          14,
          16,
          13,
          10,
          7,
          13,
          23,
          13,
          36,
          69,
          44,
          39,
          48,
          26,
          28,
          25,
          15,
          3,
          6,
          1,
          2,
          57,
          45,
          6,
          10,
          3,
          3,
          3,
          3,
          19,
          27,
          17,
          31,
          87,
          32,
          29,
          36,
          35,
          13,
          29,
          6,
          14,
          10,
          22,
          69,
          51,
          35,
          52,
          27,
          13,
          5,
          3,
          13,
          15,
          38,
          26,
          27,
          28,
          4,
          1,
          14,
          39,
          37,
          39,
          91,
          51,
          12,
          39,
          31,
          46,
          56,
          12,
          6,
          6,
          21,
          58,
          18,
          33,
          9,
          5,
          11,
          5,
          6,
          5,
          10,
          16,
          26,
          6,
          8,
          14,
          9,
          10,
          22,
          1,
          5,
          3,
          3,
          4,
          3,
          36,
          50,
          13,
          7,
          4,
          2,
          1,
          3,
          2,
          6,
          13,
          15,
          14,
          12,
          13,
          11,
          3,
          10,
          8,
          7,
          3,
          7,
          4,
          19,
          21,
          23,
          19,
          82,
          40,
          25,
          44,
          25,
          20,
          17,
          8,
          9,
          7,
          4,
          11,
          13,
          18,
          1,
          15,
          4,
          6,
          31,
          85,
          114,
          9,
          11,
          1,
          1,
          76,
          26,
          4,
          4,
          2,
          1,
          1,
          1,
          2,
          8,
          12,
          6,
          11,
          4,
          8,
          17,
          14,
          5,
          17,
          8,
          14,
          18,
          17,
          16,
          16,
          10,
          9,
          3,
          4,
          2,
          1,
          1,
          4,
          6,
          10,
          2,
          4,
          4,
          6,
          1,
          31,
          30,
          13,
          5,
          4,
          18,
          1,
          1,
          11,
          9,
          12,
          23,
          17,
          10,
          1,
          7,
          6,
          8,
          4,
          2,
          1,
          4,
          2,
          1,
          7,
          7,
          10,
          11,
          7,
          12,
          15,
          17,
          7,
          10,
          11,
          11,
          9,
          2,
          2,
          2,
          11,
          16,
          26,
          30,
          3,
          14,
          11,
          1,
          3,
          13,
          13,
          12,
          13,
          13,
          10,
          14,
          9,
          8,
          10,
          8,
          12,
          28,
          10,
          21,
          16,
          13,
          17,
          1,
          5,
          9,
          9,
          16,
          21,
          15,
          22,
          25,
          19,
          24,
          9,
          6,
          14,
          10,
          11,
          4,
          6,
          2,
          3,
          8,
          22,
          7,
          11,
          13,
          3,
          9,
          14,
          14,
          9,
          1,
          1,
          11,
          8,
          2,
          2,
          2,
          4,
          12,
          21,
          14,
          12,
          14,
          6,
          7,
          8,
          10,
          5,
          2,
          2,
          22,
          34,
          58,
          51,
          60,
          37,
          23,
          14,
          40,
          18,
          17,
          22,
          17,
          6,
          26,
          23,
          10,
          7,
          1,
          6,
          8,
          34,
          4,
          15,
          4,
          14,
          4,
          4,
          2,
          1,
          13,
          13,
          44,
          33,
          21,
          21,
          37,
          28,
          8,
          7,
          1,
          3,
          1,
          5,
          3,
          2,
          6,
          9,
          1,
          1,
          16,
          5,
          39,
          40,
          28,
          5,
          13,
          5,
          44,
          47,
          122,
          44,
          65,
          83,
          92,
          2,
          2,
          3,
          5,
          2,
          5,
          15,
          19,
          34,
          13,
          9,
          1,
          1,
          4,
          2,
          2,
          4,
          5,
          3,
          3,
          1,
          8,
          12,
          25,
          28,
          2,
          9,
          17,
          17,
          11,
          13,
          10,
          16,
          6,
          11,
          2,
          12,
          6,
          10,
          23,
          28,
          21,
          19,
          16,
          13,
          28,
          1,
          5,
          4,
          6,
          1,
          2,
          7,
          17,
          28,
          27,
          11,
          7,
          6,
          5,
          2,
          6,
          7,
          6,
          7,
          14,
          17,
          22,
          14,
          11,
          14,
          3,
          2,
          4,
          3,
          3,
          1,
          2,
          3,
          3,
          3,
          5,
          3,
          6,
          7,
          11,
          17,
          18,
          23,
          43,
          31,
          44,
          56,
          25,
          27,
          9,
          10,
          2,
          1,
          10,
          9,
          11,
          1,
          5,
          6,
          6,
          23,
          4,
          45,
          15,
          15,
          4,
          13,
          12,
          16,
          18,
          2,
          5,
          3,
          1,
          6,
          6,
          15,
          16,
          11,
          22,
          22,
          7,
          18,
          13,
          5,
          3,
          5,
          10,
          15,
          20,
          4,
          18,
          5,
          2,
          6,
          32,
          9,
          32,
          15,
          2,
          11,
          1,
          12,
          29,
          71,
          27,
          13,
          11,
          10,
          7,
          2,
          29,
          32,
          12,
          19,
          16,
          8,
          7,
          2,
          4,
          2,
          1,
          10,
          59,
          52,
          32
         ],
         "xaxis": "x",
         "y": [
          45.95,
          137.85,
          275.7,
          183.8,
          91.9,
          137.85,
          445.85,
          239.94,
          759.81,
          719.82,
          679.83,
          519.87,
          759.81,
          199.95,
          319.92,
          313.92,
          419.4,
          247.9,
          1956,
          712,
          890,
          683,
          891,
          1386,
          1683,
          1089,
          398,
          202,
          101,
          101,
          258.7,
          477.6,
          179.1,
          603.2,
          686,
          392,
          162.5,
          195,
          245.4,
          108.6,
          72.4,
          36.2,
          59.9,
          59.9,
          239.6,
          359.4,
          299.5,
          658.9,
          1043.6,
          571.8,
          548.9,
          411.2,
          161.7,
          431.2,
          477.1,
          249.5,
          299.4,
          349.3,
          219.89,
          179.91,
          259.87,
          319.84,
          419.79,
          579.71,
          651.72,
          575.76,
          647.73,
          671.72,
          455.81,
          455.81,
          335.86,
          191.92,
          167.93,
          71.97,
          71.97,
          47.98,
          134.99,
          134.99,
          1763.88,
          4248.73,
          4842.71,
          2170.87,
          1415.92,
          1911.89,
          1019.94,
          110.99,
          221.98,
          998.91,
          1514.87,
          2759.77,
          5288.57,
          4058.67,
          3935.68,
          227.96,
          398.93,
          398.93,
          968.83,
          968.83,
          1139.8,
          1367.76,
          569.9,
          227.96,
          706.86,
          99.98,
          399.92,
          199.96,
          199.98,
          1799.82,
          1099.89,
          1399.86,
          799.92,
          599.94,
          899.91,
          199.98,
          299.97,
          599.94,
          899.91,
          489.76,
          338.77,
          539.94,
          539.94,
          809.91,
          1529.83,
          1619.82,
          1889.79,
          2159.76,
          2339.74,
          1709.81,
          1799.8,
          1529.83,
          1339.84,
          1119.86,
          1279.84,
          1039.87,
          799.9,
          579.75,
          778.7,
          1377.7,
          778.7,
          2156.4,
          3711.7,
          2468.6,
          1946.1,
          2411.2,
          1401.4,
          1509.2,
          1319.5,
          748.5,
          149.7,
          299.4,
          167,
          239.8,
          5453.96,
          3465.8,
          528,
          880,
          269.7,
          236.7,
          179.7,
          179.7,
          1138.1,
          1617.3,
          1018.3,
          1856.9,
          4712.19,
          1769.7,
          1447.1,
          1828.4,
          1886.5,
          700.7,
          1559.1,
          299.4,
          698.6,
          499,
          3307.8,
          10343.1,
          7644.9,
          5246.5,
          7794.8,
          4047.3,
          1948.7,
          749.5,
          185.97,
          805.87,
          974.85,
          2469.62,
          1741.74,
          1808.73,
          1875.72,
          239.6,
          59.9,
          838.6,
          2336.1,
          2216.3,
          2336.1,
          4769.7,
          2881.6,
          598.8,
          1970.1,
          1670.9,
          2479.4,
          2982.4,
          598.8,
          299.46,
          299.46,
          994.04,
          2809.65,
          965.91,
          1723.08,
          449.82,
          257.56,
          557.85,
          789.95,
          1016.95,
          849.5,
          1604,
          2391.6,
          3660,
          894,
          1188,
          2043.92,
          1115.7,
          1191.9,
          2598.9,
          139.9,
          694.9,
          414,
          254.97,
          339.96,
          254.97,
          3059.64,
          4249.5,
          1104.87,
          594.93,
          339.96,
          169.98,
          179.99,
          539.97,
          359.98,
          1079.94,
          2339.87,
          2759.85,
          2629.96,
          2148,
          2277,
          1969,
          537,
          1590,
          1112,
          973,
          179.7,
          419.3,
          239.6,
          1138.1,
          1257.9,
          1377.7,
          1138.1,
          4397.7,
          2232.6,
          1247.5,
          2247.6,
          1347.5,
          1078,
          888.3,
          399.2,
          449.1,
          349.3,
          652,
          1777.5,
          2088.7,
          2762.5,
          134.9,
          1995,
          596,
          769.45,
          3640.68,
          8961.49,
          11820.2,
          1071,
          1302,
          112,
          29.5,
          2242,
          910,
          140,
          140,
          130,
          65,
          142.5,
          142.5,
          285,
          944.4,
          1416,
          707.4,
          1296.8,
          470.8,
          943.8,
          2038.3,
          1668.5,
          593.5,
          1987.4,
          1039.92,
          1819.86,
          2339.82,
          2209.83,
          2079.84,
          1870.84,
          1199.9,
          1169.91,
          389.97,
          519.96,
          259.98,
          129.99,
          129.99,
          379.6,
          611.4,
          1099,
          219.8,
          395.6,
          395.6,
          593.4,
          98.9,
          2795.14,
          2537.19,
          1139.8,
          470,
          292,
          1199.48,
          79.9,
          19.9,
          218.9,
          179.1,
          248,
          563.5,
          416.5,
          271.2,
          32.5,
          229.2,
          205.2,
          2799.2,
          1399.6,
          699.8,
          349.9,
          1399.6,
          699.8,
          349.9,
          2449.3,
          2449.3,
          3499,
          3543.5,
          2449.3,
          4198.8,
          5248.5,
          5948.3,
          2449.3,
          3513.1,
          4004,
          4004,
          3276,
          479.8,
          479.8,
          459.8,
          2250.8,
          2680,
          3908.9,
          4355,
          457.9,
          2200,
          1737.4,
          99.9,
          299.7,
          1298.7,
          1298.7,
          1198.8,
          1298.7,
          1298.7,
          999,
          1099.5,
          754.5,
          1839.2,
          2190.6,
          1729.2,
          2395.2,
          6287.2,
          2207.7,
          4319.4,
          3459,
          2657,
          3383,
          64.99,
          324.95,
          584.91,
          584.91,
          1039.84,
          1234.79,
          888.85,
          1297.78,
          1474.75,
          1120.81,
          1415.76,
          530.91,
          353.94,
          825.86,
          589.9,
          648.89,
          235.96,
          353.94,
          117.98,
          176.97,
          792,
          2178,
          693,
          1082,
          1196,
          276,
          815,
          1235.36,
          1188.6,
          764.1,
          84.9,
          99.99,
          1099.89,
          759.92,
          219.98,
          239.98,
          240,
          417,
          1105.92,
          1889.79,
          1259.86,
          1479.98,
          1680,
          680,
          770,
          880,
          969.9,
          499.95,
          199.98,
          179.8,
          1977.8,
          3056.6,
          5214.2,
          4584.9,
          5394,
          3326.3,
          2067.7,
          1258.6,
          3596,
          1594.2,
          1477.3,
          1911.8,
          1477.3,
          510.27,
          2174.89,
          1837.7,
          781.3,
          518,
          38.4,
          230.4,
          307.2,
          1170.35,
          153.6,
          576,
          153.6,
          493.4,
          140,
          140,
          70,
          35,
          1404,
          1404,
          4752,
          3564,
          2214,
          2205,
          3885,
          2940,
          840,
          735,
          78,
          234,
          78,
          390,
          234,
          156,
          468,
          702,
          78,
          78,
          1248,
          390,
          3042,
          3120,
          2179,
          375,
          975,
          375,
          3300,
          3525,
          8538,
          3075.6,
          4543.5,
          5801.7,
          6430.8,
          179.8,
          179.8,
          309.7,
          299.5,
          119.8,
          299.5,
          898.5,
          1138.1,
          2036.6,
          778.7,
          495.5,
          49.9,
          49.9,
          203.6,
          107.8,
          107.8,
          199.6,
          249.5,
          149.7,
          149.7,
          38.4,
          307.2,
          460.8,
          960,
          1026.51,
          76.8,
          345.6,
          601.8,
          595,
          385,
          455,
          350,
          560,
          1950,
          3575,
          650,
          3900,
          1950,
          3250,
          7475,
          9125,
          6930,
          6270,
          5280,
          4290,
          9240,
          99.99,
          499.95,
          439.96,
          659.94,
          120,
          240,
          735,
          1619.93,
          2519.72,
          2429.73,
          1405,
          840,
          660,
          550,
          220,
          539.94,
          699.93,
          589.94,
          599.93,
          1399.86,
          1699.83,
          2199.78,
          1399.86,
          1099.89,
          1399.86,
          299.97,
          199.98,
          399.96,
          299.97,
          299.97,
          99.99,
          199.98,
          269.59,
          479.97,
          479.97,
          699.95,
          479.97,
          839.94,
          1019.93,
          1679.89,
          2629.83,
          2699.82,
          3449.77,
          6746.9,
          4619,
          5986,
          6764,
          2975,
          3086.76,
          1079.91,
          1199.9,
          678,
          339,
          3461.58,
          3111.36,
          3836.8,
          339.9,
          1735,
          1847,
          1684,
          5956.3,
          983.6,
          7651.27,
          2715.7,
          2247.72,
          584.77,
          1884.45,
          1656.87,
          2206.4,
          2482.2,
          269.8,
          665,
          398.91,
          29.9,
          179.4,
          179.4,
          448.5,
          478.4,
          328.9,
          657.8,
          657.8,
          209.3,
          538.2,
          388.7,
          1205.03,
          766.83,
          925,
          1973.83,
          2698.5,
          3291.4,
          929.96,
          3139.8,
          929.8,
          398,
          1092,
          4860.11,
          1351.2,
          4241,
          2073.3,
          310,
          1601.06,
          109.9,
          1318.8,
          2831.55,
          5581.8,
          2187.3,
          1042.9,
          876.9,
          789,
          545.3,
          155.8,
          1331.1,
          1421.67,
          550.8,
          872.1,
          734.4,
          383.2,
          335.3,
          95.8,
          191.6,
          95.8,
          215,
          2090,
          12095,
          10375,
          5222.36
         ],
         "yaxis": "y"
        },
        {
         "hovertemplate": "<b>OLS trendline</b><br>total_price = 82.5219 * qty + 226.507<br>R<sup>2</sup>=0.561908<br><br>qty=%{x}<br>total_price=%{y} <b>(trend)</b><extra></extra>",
         "legendgroup": "",
         "marker": {
          "color": "#636efa",
          "symbol": "circle"
         },
         "mode": "lines",
         "name": "",
         "showlegend": false,
         "type": "scatter",
         "x": [
          1,
          1,
          1,
          1,
          1,
          1,
          1,
          1,
          1,
          1,
          1,
          1,
          1,
          1,
          1,
          1,
          1,
          1,
          1,
          1,
          1,
          1,
          1,
          1,
          1,
          1,
          1,
          1,
          1,
          1,
          1,
          1,
          1,
          1,
          1,
          1,
          1,
          1,
          1,
          1,
          1,
          1,
          1,
          1,
          1,
          1,
          1,
          1,
          2,
          2,
          2,
          2,
          2,
          2,
          2,
          2,
          2,
          2,
          2,
          2,
          2,
          2,
          2,
          2,
          2,
          2,
          2,
          2,
          2,
          2,
          2,
          2,
          2,
          2,
          2,
          2,
          2,
          2,
          2,
          2,
          2,
          2,
          2,
          2,
          2,
          2,
          2,
          2,
          2,
          2,
          2,
          2,
          2,
          2,
          3,
          3,
          3,
          3,
          3,
          3,
          3,
          3,
          3,
          3,
          3,
          3,
          3,
          3,
          3,
          3,
          3,
          3,
          3,
          3,
          3,
          3,
          3,
          3,
          3,
          3,
          3,
          3,
          3,
          3,
          3,
          3,
          3,
          3,
          3,
          3,
          3,
          3,
          3,
          4,
          4,
          4,
          4,
          4,
          4,
          4,
          4,
          4,
          4,
          4,
          4,
          4,
          4,
          4,
          4,
          4,
          4,
          4,
          4,
          4,
          4,
          4,
          4,
          4,
          4,
          4,
          4,
          4,
          4,
          4,
          4,
          4,
          4,
          4,
          4,
          4,
          5,
          5,
          5,
          5,
          5,
          5,
          5,
          5,
          5,
          5,
          5,
          5,
          5,
          5,
          5,
          5,
          5,
          5,
          5,
          5,
          5,
          5,
          5,
          5,
          5,
          5,
          5,
          5,
          5,
          6,
          6,
          6,
          6,
          6,
          6,
          6,
          6,
          6,
          6,
          6,
          6,
          6,
          6,
          6,
          6,
          6,
          6,
          6,
          6,
          6,
          6,
          6,
          6,
          6,
          6,
          6,
          6,
          6,
          6,
          6,
          6,
          6,
          6,
          6,
          6,
          6,
          6,
          6,
          6,
          6,
          6,
          7,
          7,
          7,
          7,
          7,
          7,
          7,
          7,
          7,
          7,
          7,
          7,
          7,
          7,
          7,
          7,
          7,
          7,
          7,
          7,
          7,
          7,
          7,
          7,
          7,
          7,
          7,
          7,
          8,
          8,
          8,
          8,
          8,
          8,
          8,
          8,
          8,
          8,
          8,
          8,
          8,
          8,
          8,
          8,
          8,
          8,
          8,
          8,
          8,
          8,
          8,
          8,
          8,
          9,
          9,
          9,
          9,
          9,
          9,
          9,
          9,
          9,
          9,
          9,
          9,
          9,
          9,
          9,
          9,
          9,
          9,
          9,
          9,
          9,
          9,
          9,
          9,
          9,
          9,
          9,
          10,
          10,
          10,
          10,
          10,
          10,
          10,
          10,
          10,
          10,
          10,
          10,
          10,
          10,
          10,
          10,
          10,
          10,
          10,
          10,
          10,
          10,
          10,
          10,
          10,
          10,
          10,
          11,
          11,
          11,
          11,
          11,
          11,
          11,
          11,
          11,
          11,
          11,
          11,
          11,
          11,
          11,
          11,
          11,
          11,
          11,
          11,
          11,
          11,
          11,
          11,
          11,
          11,
          11,
          11,
          11,
          11,
          12,
          12,
          12,
          12,
          12,
          12,
          12,
          12,
          12,
          12,
          12,
          12,
          12,
          12,
          12,
          12,
          13,
          13,
          13,
          13,
          13,
          13,
          13,
          13,
          13,
          13,
          13,
          13,
          13,
          13,
          13,
          13,
          13,
          13,
          13,
          13,
          13,
          13,
          13,
          13,
          13,
          13,
          13,
          13,
          13,
          13,
          13,
          14,
          14,
          14,
          14,
          14,
          14,
          14,
          14,
          14,
          14,
          14,
          14,
          14,
          14,
          14,
          14,
          14,
          14,
          14,
          14,
          14,
          14,
          14,
          15,
          15,
          15,
          15,
          15,
          15,
          15,
          15,
          15,
          15,
          15,
          15,
          15,
          16,
          16,
          16,
          16,
          16,
          16,
          16,
          16,
          16,
          16,
          16,
          16,
          16,
          16,
          16,
          16,
          17,
          17,
          17,
          17,
          17,
          17,
          17,
          17,
          17,
          17,
          17,
          17,
          17,
          17,
          17,
          17,
          17,
          17,
          17,
          17,
          17,
          18,
          18,
          18,
          18,
          18,
          18,
          18,
          18,
          18,
          18,
          18,
          18,
          19,
          19,
          19,
          19,
          19,
          19,
          19,
          19,
          19,
          19,
          19,
          19,
          20,
          20,
          20,
          20,
          20,
          20,
          21,
          21,
          21,
          21,
          21,
          21,
          21,
          21,
          21,
          21,
          22,
          22,
          22,
          22,
          22,
          22,
          22,
          22,
          22,
          23,
          23,
          23,
          23,
          23,
          23,
          23,
          23,
          23,
          24,
          24,
          24,
          24,
          24,
          25,
          25,
          25,
          25,
          25,
          25,
          26,
          26,
          26,
          26,
          26,
          26,
          26,
          27,
          27,
          27,
          27,
          27,
          27,
          27,
          27,
          28,
          28,
          28,
          28,
          28,
          28,
          28,
          28,
          28,
          28,
          28,
          28,
          28,
          29,
          29,
          29,
          29,
          29,
          29,
          30,
          30,
          31,
          31,
          31,
          31,
          31,
          32,
          32,
          32,
          32,
          32,
          32,
          33,
          33,
          33,
          34,
          34,
          34,
          35,
          35,
          36,
          36,
          36,
          37,
          37,
          37,
          38,
          39,
          39,
          39,
          39,
          39,
          40,
          40,
          40,
          43,
          43,
          44,
          44,
          44,
          44,
          44,
          44,
          45,
          45,
          46,
          47,
          48,
          50,
          51,
          51,
          51,
          52,
          52,
          56,
          56,
          57,
          58,
          58,
          59,
          60,
          65,
          69,
          69,
          71,
          76,
          82,
          83,
          85,
          87,
          91,
          92,
          114,
          122
         ],
         "xaxis": "x",
         "y": [
          309.0287166787696,
          309.0287166787696,
          309.0287166787696,
          309.0287166787696,
          309.0287166787696,
          309.0287166787696,
          309.0287166787696,
          309.0287166787696,
          309.0287166787696,
          309.0287166787696,
          309.0287166787696,
          309.0287166787696,
          309.0287166787696,
          309.0287166787696,
          309.0287166787696,
          309.0287166787696,
          309.0287166787696,
          309.0287166787696,
          309.0287166787696,
          309.0287166787696,
          309.0287166787696,
          309.0287166787696,
          309.0287166787696,
          309.0287166787696,
          309.0287166787696,
          309.0287166787696,
          309.0287166787696,
          309.0287166787696,
          309.0287166787696,
          309.0287166787696,
          309.0287166787696,
          309.0287166787696,
          309.0287166787696,
          309.0287166787696,
          309.0287166787696,
          309.0287166787696,
          309.0287166787696,
          309.0287166787696,
          309.0287166787696,
          309.0287166787696,
          309.0287166787696,
          309.0287166787696,
          309.0287166787696,
          309.0287166787696,
          309.0287166787696,
          309.0287166787696,
          309.0287166787696,
          309.0287166787696,
          391.5506598471519,
          391.5506598471519,
          391.5506598471519,
          391.5506598471519,
          391.5506598471519,
          391.5506598471519,
          391.5506598471519,
          391.5506598471519,
          391.5506598471519,
          391.5506598471519,
          391.5506598471519,
          391.5506598471519,
          391.5506598471519,
          391.5506598471519,
          391.5506598471519,
          391.5506598471519,
          391.5506598471519,
          391.5506598471519,
          391.5506598471519,
          391.5506598471519,
          391.5506598471519,
          391.5506598471519,
          391.5506598471519,
          391.5506598471519,
          391.5506598471519,
          391.5506598471519,
          391.5506598471519,
          391.5506598471519,
          391.5506598471519,
          391.5506598471519,
          391.5506598471519,
          391.5506598471519,
          391.5506598471519,
          391.5506598471519,
          391.5506598471519,
          391.5506598471519,
          391.5506598471519,
          391.5506598471519,
          391.5506598471519,
          391.5506598471519,
          391.5506598471519,
          391.5506598471519,
          391.5506598471519,
          391.5506598471519,
          391.5506598471519,
          391.5506598471519,
          474.0726030155341,
          474.0726030155341,
          474.0726030155341,
          474.0726030155341,
          474.0726030155341,
          474.0726030155341,
          474.0726030155341,
          474.0726030155341,
          474.0726030155341,
          474.0726030155341,
          474.0726030155341,
          474.0726030155341,
          474.0726030155341,
          474.0726030155341,
          474.0726030155341,
          474.0726030155341,
          474.0726030155341,
          474.0726030155341,
          474.0726030155341,
          474.0726030155341,
          474.0726030155341,
          474.0726030155341,
          474.0726030155341,
          474.0726030155341,
          474.0726030155341,
          474.0726030155341,
          474.0726030155341,
          474.0726030155341,
          474.0726030155341,
          474.0726030155341,
          474.0726030155341,
          474.0726030155341,
          474.0726030155341,
          474.0726030155341,
          474.0726030155341,
          474.0726030155341,
          474.0726030155341,
          474.0726030155341,
          474.0726030155341,
          556.5945461839165,
          556.5945461839165,
          556.5945461839165,
          556.5945461839165,
          556.5945461839165,
          556.5945461839165,
          556.5945461839165,
          556.5945461839165,
          556.5945461839165,
          556.5945461839165,
          556.5945461839165,
          556.5945461839165,
          556.5945461839165,
          556.5945461839165,
          556.5945461839165,
          556.5945461839165,
          556.5945461839165,
          556.5945461839165,
          556.5945461839165,
          556.5945461839165,
          556.5945461839165,
          556.5945461839165,
          556.5945461839165,
          556.5945461839165,
          556.5945461839165,
          556.5945461839165,
          556.5945461839165,
          556.5945461839165,
          556.5945461839165,
          556.5945461839165,
          556.5945461839165,
          556.5945461839165,
          556.5945461839165,
          556.5945461839165,
          556.5945461839165,
          556.5945461839165,
          556.5945461839165,
          639.1164893522987,
          639.1164893522987,
          639.1164893522987,
          639.1164893522987,
          639.1164893522987,
          639.1164893522987,
          639.1164893522987,
          639.1164893522987,
          639.1164893522987,
          639.1164893522987,
          639.1164893522987,
          639.1164893522987,
          639.1164893522987,
          639.1164893522987,
          639.1164893522987,
          639.1164893522987,
          639.1164893522987,
          639.1164893522987,
          639.1164893522987,
          639.1164893522987,
          639.1164893522987,
          639.1164893522987,
          639.1164893522987,
          639.1164893522987,
          639.1164893522987,
          639.1164893522987,
          639.1164893522987,
          639.1164893522987,
          639.1164893522987,
          721.6384325206809,
          721.6384325206809,
          721.6384325206809,
          721.6384325206809,
          721.6384325206809,
          721.6384325206809,
          721.6384325206809,
          721.6384325206809,
          721.6384325206809,
          721.6384325206809,
          721.6384325206809,
          721.6384325206809,
          721.6384325206809,
          721.6384325206809,
          721.6384325206809,
          721.6384325206809,
          721.6384325206809,
          721.6384325206809,
          721.6384325206809,
          721.6384325206809,
          721.6384325206809,
          721.6384325206809,
          721.6384325206809,
          721.6384325206809,
          721.6384325206809,
          721.6384325206809,
          721.6384325206809,
          721.6384325206809,
          721.6384325206809,
          721.6384325206809,
          721.6384325206809,
          721.6384325206809,
          721.6384325206809,
          721.6384325206809,
          721.6384325206809,
          721.6384325206809,
          721.6384325206809,
          721.6384325206809,
          721.6384325206809,
          721.6384325206809,
          721.6384325206809,
          721.6384325206809,
          804.1603756890632,
          804.1603756890632,
          804.1603756890632,
          804.1603756890632,
          804.1603756890632,
          804.1603756890632,
          804.1603756890632,
          804.1603756890632,
          804.1603756890632,
          804.1603756890632,
          804.1603756890632,
          804.1603756890632,
          804.1603756890632,
          804.1603756890632,
          804.1603756890632,
          804.1603756890632,
          804.1603756890632,
          804.1603756890632,
          804.1603756890632,
          804.1603756890632,
          804.1603756890632,
          804.1603756890632,
          804.1603756890632,
          804.1603756890632,
          804.1603756890632,
          804.1603756890632,
          804.1603756890632,
          804.1603756890632,
          886.6823188574455,
          886.6823188574455,
          886.6823188574455,
          886.6823188574455,
          886.6823188574455,
          886.6823188574455,
          886.6823188574455,
          886.6823188574455,
          886.6823188574455,
          886.6823188574455,
          886.6823188574455,
          886.6823188574455,
          886.6823188574455,
          886.6823188574455,
          886.6823188574455,
          886.6823188574455,
          886.6823188574455,
          886.6823188574455,
          886.6823188574455,
          886.6823188574455,
          886.6823188574455,
          886.6823188574455,
          886.6823188574455,
          886.6823188574455,
          886.6823188574455,
          969.2042620258277,
          969.2042620258277,
          969.2042620258277,
          969.2042620258277,
          969.2042620258277,
          969.2042620258277,
          969.2042620258277,
          969.2042620258277,
          969.2042620258277,
          969.2042620258277,
          969.2042620258277,
          969.2042620258277,
          969.2042620258277,
          969.2042620258277,
          969.2042620258277,
          969.2042620258277,
          969.2042620258277,
          969.2042620258277,
          969.2042620258277,
          969.2042620258277,
          969.2042620258277,
          969.2042620258277,
          969.2042620258277,
          969.2042620258277,
          969.2042620258277,
          969.2042620258277,
          969.2042620258277,
          1051.72620519421,
          1051.72620519421,
          1051.72620519421,
          1051.72620519421,
          1051.72620519421,
          1051.72620519421,
          1051.72620519421,
          1051.72620519421,
          1051.72620519421,
          1051.72620519421,
          1051.72620519421,
          1051.72620519421,
          1051.72620519421,
          1051.72620519421,
          1051.72620519421,
          1051.72620519421,
          1051.72620519421,
          1051.72620519421,
          1051.72620519421,
          1051.72620519421,
          1051.72620519421,
          1051.72620519421,
          1051.72620519421,
          1051.72620519421,
          1051.72620519421,
          1051.72620519421,
          1051.72620519421,
          1134.2481483625922,
          1134.2481483625922,
          1134.2481483625922,
          1134.2481483625922,
          1134.2481483625922,
          1134.2481483625922,
          1134.2481483625922,
          1134.2481483625922,
          1134.2481483625922,
          1134.2481483625922,
          1134.2481483625922,
          1134.2481483625922,
          1134.2481483625922,
          1134.2481483625922,
          1134.2481483625922,
          1134.2481483625922,
          1134.2481483625922,
          1134.2481483625922,
          1134.2481483625922,
          1134.2481483625922,
          1134.2481483625922,
          1134.2481483625922,
          1134.2481483625922,
          1134.2481483625922,
          1134.2481483625922,
          1134.2481483625922,
          1134.2481483625922,
          1134.2481483625922,
          1134.2481483625922,
          1134.2481483625922,
          1216.7700915309745,
          1216.7700915309745,
          1216.7700915309745,
          1216.7700915309745,
          1216.7700915309745,
          1216.7700915309745,
          1216.7700915309745,
          1216.7700915309745,
          1216.7700915309745,
          1216.7700915309745,
          1216.7700915309745,
          1216.7700915309745,
          1216.7700915309745,
          1216.7700915309745,
          1216.7700915309745,
          1216.7700915309745,
          1299.2920346993567,
          1299.2920346993567,
          1299.2920346993567,
          1299.2920346993567,
          1299.2920346993567,
          1299.2920346993567,
          1299.2920346993567,
          1299.2920346993567,
          1299.2920346993567,
          1299.2920346993567,
          1299.2920346993567,
          1299.2920346993567,
          1299.2920346993567,
          1299.2920346993567,
          1299.2920346993567,
          1299.2920346993567,
          1299.2920346993567,
          1299.2920346993567,
          1299.2920346993567,
          1299.2920346993567,
          1299.2920346993567,
          1299.2920346993567,
          1299.2920346993567,
          1299.2920346993567,
          1299.2920346993567,
          1299.2920346993567,
          1299.2920346993567,
          1299.2920346993567,
          1299.2920346993567,
          1299.2920346993567,
          1299.2920346993567,
          1381.8139778677391,
          1381.8139778677391,
          1381.8139778677391,
          1381.8139778677391,
          1381.8139778677391,
          1381.8139778677391,
          1381.8139778677391,
          1381.8139778677391,
          1381.8139778677391,
          1381.8139778677391,
          1381.8139778677391,
          1381.8139778677391,
          1381.8139778677391,
          1381.8139778677391,
          1381.8139778677391,
          1381.8139778677391,
          1381.8139778677391,
          1381.8139778677391,
          1381.8139778677391,
          1381.8139778677391,
          1381.8139778677391,
          1381.8139778677391,
          1381.8139778677391,
          1464.3359210361214,
          1464.3359210361214,
          1464.3359210361214,
          1464.3359210361214,
          1464.3359210361214,
          1464.3359210361214,
          1464.3359210361214,
          1464.3359210361214,
          1464.3359210361214,
          1464.3359210361214,
          1464.3359210361214,
          1464.3359210361214,
          1464.3359210361214,
          1546.8578642045036,
          1546.8578642045036,
          1546.8578642045036,
          1546.8578642045036,
          1546.8578642045036,
          1546.8578642045036,
          1546.8578642045036,
          1546.8578642045036,
          1546.8578642045036,
          1546.8578642045036,
          1546.8578642045036,
          1546.8578642045036,
          1546.8578642045036,
          1546.8578642045036,
          1546.8578642045036,
          1546.8578642045036,
          1629.3798073728858,
          1629.3798073728858,
          1629.3798073728858,
          1629.3798073728858,
          1629.3798073728858,
          1629.3798073728858,
          1629.3798073728858,
          1629.3798073728858,
          1629.3798073728858,
          1629.3798073728858,
          1629.3798073728858,
          1629.3798073728858,
          1629.3798073728858,
          1629.3798073728858,
          1629.3798073728858,
          1629.3798073728858,
          1629.3798073728858,
          1629.3798073728858,
          1629.3798073728858,
          1629.3798073728858,
          1629.3798073728858,
          1711.901750541268,
          1711.901750541268,
          1711.901750541268,
          1711.901750541268,
          1711.901750541268,
          1711.901750541268,
          1711.901750541268,
          1711.901750541268,
          1711.901750541268,
          1711.901750541268,
          1711.901750541268,
          1711.901750541268,
          1794.4236937096505,
          1794.4236937096505,
          1794.4236937096505,
          1794.4236937096505,
          1794.4236937096505,
          1794.4236937096505,
          1794.4236937096505,
          1794.4236937096505,
          1794.4236937096505,
          1794.4236937096505,
          1794.4236937096505,
          1794.4236937096505,
          1876.9456368780327,
          1876.9456368780327,
          1876.9456368780327,
          1876.9456368780327,
          1876.9456368780327,
          1876.9456368780327,
          1959.467580046415,
          1959.467580046415,
          1959.467580046415,
          1959.467580046415,
          1959.467580046415,
          1959.467580046415,
          1959.467580046415,
          1959.467580046415,
          1959.467580046415,
          1959.467580046415,
          2041.9895232147971,
          2041.9895232147971,
          2041.9895232147971,
          2041.9895232147971,
          2041.9895232147971,
          2041.9895232147971,
          2041.9895232147971,
          2041.9895232147971,
          2041.9895232147971,
          2124.511466383179,
          2124.511466383179,
          2124.511466383179,
          2124.511466383179,
          2124.511466383179,
          2124.511466383179,
          2124.511466383179,
          2124.511466383179,
          2124.511466383179,
          2207.033409551562,
          2207.033409551562,
          2207.033409551562,
          2207.033409551562,
          2207.033409551562,
          2289.5553527199436,
          2289.5553527199436,
          2289.5553527199436,
          2289.5553527199436,
          2289.5553527199436,
          2289.5553527199436,
          2372.0772958883263,
          2372.0772958883263,
          2372.0772958883263,
          2372.0772958883263,
          2372.0772958883263,
          2372.0772958883263,
          2372.0772958883263,
          2454.599239056709,
          2454.599239056709,
          2454.599239056709,
          2454.599239056709,
          2454.599239056709,
          2454.599239056709,
          2454.599239056709,
          2454.599239056709,
          2537.1211822250907,
          2537.1211822250907,
          2537.1211822250907,
          2537.1211822250907,
          2537.1211822250907,
          2537.1211822250907,
          2537.1211822250907,
          2537.1211822250907,
          2537.1211822250907,
          2537.1211822250907,
          2537.1211822250907,
          2537.1211822250907,
          2537.1211822250907,
          2619.6431253934734,
          2619.6431253934734,
          2619.6431253934734,
          2619.6431253934734,
          2619.6431253934734,
          2619.6431253934734,
          2702.165068561855,
          2702.165068561855,
          2784.687011730238,
          2784.687011730238,
          2784.687011730238,
          2784.687011730238,
          2784.687011730238,
          2867.2089548986196,
          2867.2089548986196,
          2867.2089548986196,
          2867.2089548986196,
          2867.2089548986196,
          2867.2089548986196,
          2949.7308980670023,
          2949.7308980670023,
          2949.7308980670023,
          3032.252841235384,
          3032.252841235384,
          3032.252841235384,
          3114.7747844037667,
          3114.7747844037667,
          3197.2967275721485,
          3197.2967275721485,
          3197.2967275721485,
          3279.818670740531,
          3279.818670740531,
          3279.818670740531,
          3362.340613908914,
          3444.8625570772956,
          3444.8625570772956,
          3444.8625570772956,
          3444.8625570772956,
          3444.8625570772956,
          3527.3845002456783,
          3527.3845002456783,
          3527.3845002456783,
          3774.9503297508245,
          3774.9503297508245,
          3857.472272919207,
          3857.472272919207,
          3857.472272919207,
          3857.472272919207,
          3857.472272919207,
          3857.472272919207,
          3939.994216087589,
          3939.994216087589,
          4022.5161592559716,
          4105.038102424353,
          4187.560045592736,
          4352.6039319295005,
          4435.125875097883,
          4435.125875097883,
          4435.125875097883,
          4517.647818266265,
          4517.647818266265,
          4847.735590939795,
          4847.735590939795,
          4930.2575341081765,
          5012.779477276559,
          5012.779477276559,
          5095.301420444941,
          5177.823363613324,
          5590.433079455235,
          5920.520852128764,
          5920.520852128764,
          6085.5647384655285,
          6498.17445430744,
          6993.306113317733,
          7075.828056486115,
          7240.87194282288,
          7405.915829159645,
          7736.003601833174,
          7818.525545001556,
          9634.008294705965,
          10294.183840053023
         ],
         "yaxis": "y"
        }
       ],
       "layout": {
        "legend": {
         "tracegroupgap": 0
        },
        "template": {
         "data": {
          "bar": [
           {
            "error_x": {
             "color": "#2a3f5f"
            },
            "error_y": {
             "color": "#2a3f5f"
            },
            "marker": {
             "line": {
              "color": "white",
              "width": 0.5
             },
             "pattern": {
              "fillmode": "overlay",
              "size": 10,
              "solidity": 0.2
             }
            },
            "type": "bar"
           }
          ],
          "barpolar": [
           {
            "marker": {
             "line": {
              "color": "white",
              "width": 0.5
             },
             "pattern": {
              "fillmode": "overlay",
              "size": 10,
              "solidity": 0.2
             }
            },
            "type": "barpolar"
           }
          ],
          "carpet": [
           {
            "aaxis": {
             "endlinecolor": "#2a3f5f",
             "gridcolor": "#C8D4E3",
             "linecolor": "#C8D4E3",
             "minorgridcolor": "#C8D4E3",
             "startlinecolor": "#2a3f5f"
            },
            "baxis": {
             "endlinecolor": "#2a3f5f",
             "gridcolor": "#C8D4E3",
             "linecolor": "#C8D4E3",
             "minorgridcolor": "#C8D4E3",
             "startlinecolor": "#2a3f5f"
            },
            "type": "carpet"
           }
          ],
          "choropleth": [
           {
            "colorbar": {
             "outlinewidth": 0,
             "ticks": ""
            },
            "type": "choropleth"
           }
          ],
          "contour": [
           {
            "colorbar": {
             "outlinewidth": 0,
             "ticks": ""
            },
            "colorscale": [
             [
              0,
              "#0d0887"
             ],
             [
              0.1111111111111111,
              "#46039f"
             ],
             [
              0.2222222222222222,
              "#7201a8"
             ],
             [
              0.3333333333333333,
              "#9c179e"
             ],
             [
              0.4444444444444444,
              "#bd3786"
             ],
             [
              0.5555555555555556,
              "#d8576b"
             ],
             [
              0.6666666666666666,
              "#ed7953"
             ],
             [
              0.7777777777777778,
              "#fb9f3a"
             ],
             [
              0.8888888888888888,
              "#fdca26"
             ],
             [
              1,
              "#f0f921"
             ]
            ],
            "type": "contour"
           }
          ],
          "contourcarpet": [
           {
            "colorbar": {
             "outlinewidth": 0,
             "ticks": ""
            },
            "type": "contourcarpet"
           }
          ],
          "heatmap": [
           {
            "colorbar": {
             "outlinewidth": 0,
             "ticks": ""
            },
            "colorscale": [
             [
              0,
              "#0d0887"
             ],
             [
              0.1111111111111111,
              "#46039f"
             ],
             [
              0.2222222222222222,
              "#7201a8"
             ],
             [
              0.3333333333333333,
              "#9c179e"
             ],
             [
              0.4444444444444444,
              "#bd3786"
             ],
             [
              0.5555555555555556,
              "#d8576b"
             ],
             [
              0.6666666666666666,
              "#ed7953"
             ],
             [
              0.7777777777777778,
              "#fb9f3a"
             ],
             [
              0.8888888888888888,
              "#fdca26"
             ],
             [
              1,
              "#f0f921"
             ]
            ],
            "type": "heatmap"
           }
          ],
          "heatmapgl": [
           {
            "colorbar": {
             "outlinewidth": 0,
             "ticks": ""
            },
            "colorscale": [
             [
              0,
              "#0d0887"
             ],
             [
              0.1111111111111111,
              "#46039f"
             ],
             [
              0.2222222222222222,
              "#7201a8"
             ],
             [
              0.3333333333333333,
              "#9c179e"
             ],
             [
              0.4444444444444444,
              "#bd3786"
             ],
             [
              0.5555555555555556,
              "#d8576b"
             ],
             [
              0.6666666666666666,
              "#ed7953"
             ],
             [
              0.7777777777777778,
              "#fb9f3a"
             ],
             [
              0.8888888888888888,
              "#fdca26"
             ],
             [
              1,
              "#f0f921"
             ]
            ],
            "type": "heatmapgl"
           }
          ],
          "histogram": [
           {
            "marker": {
             "pattern": {
              "fillmode": "overlay",
              "size": 10,
              "solidity": 0.2
             }
            },
            "type": "histogram"
           }
          ],
          "histogram2d": [
           {
            "colorbar": {
             "outlinewidth": 0,
             "ticks": ""
            },
            "colorscale": [
             [
              0,
              "#0d0887"
             ],
             [
              0.1111111111111111,
              "#46039f"
             ],
             [
              0.2222222222222222,
              "#7201a8"
             ],
             [
              0.3333333333333333,
              "#9c179e"
             ],
             [
              0.4444444444444444,
              "#bd3786"
             ],
             [
              0.5555555555555556,
              "#d8576b"
             ],
             [
              0.6666666666666666,
              "#ed7953"
             ],
             [
              0.7777777777777778,
              "#fb9f3a"
             ],
             [
              0.8888888888888888,
              "#fdca26"
             ],
             [
              1,
              "#f0f921"
             ]
            ],
            "type": "histogram2d"
           }
          ],
          "histogram2dcontour": [
           {
            "colorbar": {
             "outlinewidth": 0,
             "ticks": ""
            },
            "colorscale": [
             [
              0,
              "#0d0887"
             ],
             [
              0.1111111111111111,
              "#46039f"
             ],
             [
              0.2222222222222222,
              "#7201a8"
             ],
             [
              0.3333333333333333,
              "#9c179e"
             ],
             [
              0.4444444444444444,
              "#bd3786"
             ],
             [
              0.5555555555555556,
              "#d8576b"
             ],
             [
              0.6666666666666666,
              "#ed7953"
             ],
             [
              0.7777777777777778,
              "#fb9f3a"
             ],
             [
              0.8888888888888888,
              "#fdca26"
             ],
             [
              1,
              "#f0f921"
             ]
            ],
            "type": "histogram2dcontour"
           }
          ],
          "mesh3d": [
           {
            "colorbar": {
             "outlinewidth": 0,
             "ticks": ""
            },
            "type": "mesh3d"
           }
          ],
          "parcoords": [
           {
            "line": {
             "colorbar": {
              "outlinewidth": 0,
              "ticks": ""
             }
            },
            "type": "parcoords"
           }
          ],
          "pie": [
           {
            "automargin": true,
            "type": "pie"
           }
          ],
          "scatter": [
           {
            "fillpattern": {
             "fillmode": "overlay",
             "size": 10,
             "solidity": 0.2
            },
            "type": "scatter"
           }
          ],
          "scatter3d": [
           {
            "line": {
             "colorbar": {
              "outlinewidth": 0,
              "ticks": ""
             }
            },
            "marker": {
             "colorbar": {
              "outlinewidth": 0,
              "ticks": ""
             }
            },
            "type": "scatter3d"
           }
          ],
          "scattercarpet": [
           {
            "marker": {
             "colorbar": {
              "outlinewidth": 0,
              "ticks": ""
             }
            },
            "type": "scattercarpet"
           }
          ],
          "scattergeo": [
           {
            "marker": {
             "colorbar": {
              "outlinewidth": 0,
              "ticks": ""
             }
            },
            "type": "scattergeo"
           }
          ],
          "scattergl": [
           {
            "marker": {
             "colorbar": {
              "outlinewidth": 0,
              "ticks": ""
             }
            },
            "type": "scattergl"
           }
          ],
          "scattermapbox": [
           {
            "marker": {
             "colorbar": {
              "outlinewidth": 0,
              "ticks": ""
             }
            },
            "type": "scattermapbox"
           }
          ],
          "scatterpolar": [
           {
            "marker": {
             "colorbar": {
              "outlinewidth": 0,
              "ticks": ""
             }
            },
            "type": "scatterpolar"
           }
          ],
          "scatterpolargl": [
           {
            "marker": {
             "colorbar": {
              "outlinewidth": 0,
              "ticks": ""
             }
            },
            "type": "scatterpolargl"
           }
          ],
          "scatterternary": [
           {
            "marker": {
             "colorbar": {
              "outlinewidth": 0,
              "ticks": ""
             }
            },
            "type": "scatterternary"
           }
          ],
          "surface": [
           {
            "colorbar": {
             "outlinewidth": 0,
             "ticks": ""
            },
            "colorscale": [
             [
              0,
              "#0d0887"
             ],
             [
              0.1111111111111111,
              "#46039f"
             ],
             [
              0.2222222222222222,
              "#7201a8"
             ],
             [
              0.3333333333333333,
              "#9c179e"
             ],
             [
              0.4444444444444444,
              "#bd3786"
             ],
             [
              0.5555555555555556,
              "#d8576b"
             ],
             [
              0.6666666666666666,
              "#ed7953"
             ],
             [
              0.7777777777777778,
              "#fb9f3a"
             ],
             [
              0.8888888888888888,
              "#fdca26"
             ],
             [
              1,
              "#f0f921"
             ]
            ],
            "type": "surface"
           }
          ],
          "table": [
           {
            "cells": {
             "fill": {
              "color": "#EBF0F8"
             },
             "line": {
              "color": "white"
             }
            },
            "header": {
             "fill": {
              "color": "#C8D4E3"
             },
             "line": {
              "color": "white"
             }
            },
            "type": "table"
           }
          ]
         },
         "layout": {
          "annotationdefaults": {
           "arrowcolor": "#2a3f5f",
           "arrowhead": 0,
           "arrowwidth": 1
          },
          "autotypenumbers": "strict",
          "coloraxis": {
           "colorbar": {
            "outlinewidth": 0,
            "ticks": ""
           }
          },
          "colorscale": {
           "diverging": [
            [
             0,
             "#8e0152"
            ],
            [
             0.1,
             "#c51b7d"
            ],
            [
             0.2,
             "#de77ae"
            ],
            [
             0.3,
             "#f1b6da"
            ],
            [
             0.4,
             "#fde0ef"
            ],
            [
             0.5,
             "#f7f7f7"
            ],
            [
             0.6,
             "#e6f5d0"
            ],
            [
             0.7,
             "#b8e186"
            ],
            [
             0.8,
             "#7fbc41"
            ],
            [
             0.9,
             "#4d9221"
            ],
            [
             1,
             "#276419"
            ]
           ],
           "sequential": [
            [
             0,
             "#0d0887"
            ],
            [
             0.1111111111111111,
             "#46039f"
            ],
            [
             0.2222222222222222,
             "#7201a8"
            ],
            [
             0.3333333333333333,
             "#9c179e"
            ],
            [
             0.4444444444444444,
             "#bd3786"
            ],
            [
             0.5555555555555556,
             "#d8576b"
            ],
            [
             0.6666666666666666,
             "#ed7953"
            ],
            [
             0.7777777777777778,
             "#fb9f3a"
            ],
            [
             0.8888888888888888,
             "#fdca26"
            ],
            [
             1,
             "#f0f921"
            ]
           ],
           "sequentialminus": [
            [
             0,
             "#0d0887"
            ],
            [
             0.1111111111111111,
             "#46039f"
            ],
            [
             0.2222222222222222,
             "#7201a8"
            ],
            [
             0.3333333333333333,
             "#9c179e"
            ],
            [
             0.4444444444444444,
             "#bd3786"
            ],
            [
             0.5555555555555556,
             "#d8576b"
            ],
            [
             0.6666666666666666,
             "#ed7953"
            ],
            [
             0.7777777777777778,
             "#fb9f3a"
            ],
            [
             0.8888888888888888,
             "#fdca26"
            ],
            [
             1,
             "#f0f921"
            ]
           ]
          },
          "colorway": [
           "#636efa",
           "#EF553B",
           "#00cc96",
           "#ab63fa",
           "#FFA15A",
           "#19d3f3",
           "#FF6692",
           "#B6E880",
           "#FF97FF",
           "#FECB52"
          ],
          "font": {
           "color": "#2a3f5f"
          },
          "geo": {
           "bgcolor": "white",
           "lakecolor": "white",
           "landcolor": "white",
           "showlakes": true,
           "showland": true,
           "subunitcolor": "#C8D4E3"
          },
          "hoverlabel": {
           "align": "left"
          },
          "hovermode": "closest",
          "mapbox": {
           "style": "light"
          },
          "paper_bgcolor": "white",
          "plot_bgcolor": "white",
          "polar": {
           "angularaxis": {
            "gridcolor": "#EBF0F8",
            "linecolor": "#EBF0F8",
            "ticks": ""
           },
           "bgcolor": "white",
           "radialaxis": {
            "gridcolor": "#EBF0F8",
            "linecolor": "#EBF0F8",
            "ticks": ""
           }
          },
          "scene": {
           "xaxis": {
            "backgroundcolor": "white",
            "gridcolor": "#DFE8F3",
            "gridwidth": 2,
            "linecolor": "#EBF0F8",
            "showbackground": true,
            "ticks": "",
            "zerolinecolor": "#EBF0F8"
           },
           "yaxis": {
            "backgroundcolor": "white",
            "gridcolor": "#DFE8F3",
            "gridwidth": 2,
            "linecolor": "#EBF0F8",
            "showbackground": true,
            "ticks": "",
            "zerolinecolor": "#EBF0F8"
           },
           "zaxis": {
            "backgroundcolor": "white",
            "gridcolor": "#DFE8F3",
            "gridwidth": 2,
            "linecolor": "#EBF0F8",
            "showbackground": true,
            "ticks": "",
            "zerolinecolor": "#EBF0F8"
           }
          },
          "shapedefaults": {
           "line": {
            "color": "#2a3f5f"
           }
          },
          "ternary": {
           "aaxis": {
            "gridcolor": "#DFE8F3",
            "linecolor": "#A2B1C6",
            "ticks": ""
           },
           "baxis": {
            "gridcolor": "#DFE8F3",
            "linecolor": "#A2B1C6",
            "ticks": ""
           },
           "bgcolor": "white",
           "caxis": {
            "gridcolor": "#DFE8F3",
            "linecolor": "#A2B1C6",
            "ticks": ""
           }
          },
          "title": {
           "x": 0.05
          },
          "xaxis": {
           "automargin": true,
           "gridcolor": "#EBF0F8",
           "linecolor": "#EBF0F8",
           "ticks": "",
           "title": {
            "standoff": 15
           },
           "zerolinecolor": "#EBF0F8",
           "zerolinewidth": 2
          },
          "yaxis": {
           "automargin": true,
           "gridcolor": "#EBF0F8",
           "linecolor": "#EBF0F8",
           "ticks": "",
           "title": {
            "standoff": 15
           },
           "zerolinecolor": "#EBF0F8",
           "zerolinewidth": 2
          }
         }
        },
        "title": {
         "text": "Relationship between Quantity and Total Price"
        },
        "xaxis": {
         "anchor": "y",
         "domain": [
          0,
          1
         ],
         "title": {
          "text": "qty"
         }
        },
        "yaxis": {
         "anchor": "x",
         "domain": [
          0,
          1
         ],
         "title": {
          "text": "total_price"
         }
        }
       }
      }
     },
     "metadata": {},
     "output_type": "display_data"
    }
   ],
   "source": [
    "# Now let’s have a look at the relationship between quantity and total prices:\n",
    "import statsmodels.api as sm\n",
    "import plotly.express as px\n",
    "\n",
    "fig = px.scatter(data, \n",
    "                 x='qty', \n",
    "                 y='total_price', \n",
    "                 title='Relationship between Quantity and Total Price',trendline=\"ols\")\n",
    "fig.show()\n",
    "\n",
    "\n"
   ]
  },
  {
   "cell_type": "markdown",
   "metadata": {},
   "source": [
    "### The relationship between quantity and total prices is linear, indicating that the price structure is based on a fixed unit price, where the total price is calculated by multiplying the quantity by the unit price. This means that the total price increases linearly with the quantity of the product purchased. To optimize retail prices, it is important to understand the relationship between quantity and total prices for different product categories. By analyzing the average total prices by product categories, can identify the optimal prices for each category that maximize revenue and profit while keeping customers happy. \n",
    "\n"
   ]
  },
  {
   "cell_type": "code",
   "execution_count": 59,
   "metadata": {},
   "outputs": [
    {
     "data": {
      "application/vnd.plotly.v1+json": {
       "config": {
        "plotlyServerURL": "https://plot.ly"
       },
       "data": [
        {
         "alignmentgroup": "True",
         "hovertemplate": "product_category_name=%{x}<br>total_price=%{y}<extra></extra>",
         "legendgroup": "",
         "marker": {
          "color": "#636efa",
          "pattern": {
           "shape": ""
          }
         },
         "name": "",
         "offsetgroup": "",
         "orientation": "v",
         "showlegend": false,
         "textposition": "auto",
         "type": "bar",
         "x": [
          "bed_bath_table",
          "bed_bath_table",
          "bed_bath_table",
          "bed_bath_table",
          "bed_bath_table",
          "bed_bath_table",
          "bed_bath_table",
          "bed_bath_table",
          "bed_bath_table",
          "bed_bath_table",
          "bed_bath_table",
          "bed_bath_table",
          "bed_bath_table",
          "bed_bath_table",
          "bed_bath_table",
          "bed_bath_table",
          "garden_tools",
          "garden_tools",
          "garden_tools",
          "garden_tools",
          "garden_tools",
          "garden_tools",
          "garden_tools",
          "garden_tools",
          "garden_tools",
          "garden_tools",
          "garden_tools",
          "garden_tools",
          "garden_tools",
          "garden_tools",
          "consoles_games",
          "consoles_games",
          "consoles_games",
          "consoles_games",
          "consoles_games",
          "consoles_games",
          "consoles_games",
          "consoles_games",
          "consoles_games",
          "consoles_games",
          "consoles_games",
          "consoles_games",
          "garden_tools",
          "garden_tools",
          "garden_tools",
          "garden_tools",
          "garden_tools",
          "garden_tools",
          "garden_tools",
          "garden_tools",
          "garden_tools",
          "garden_tools",
          "garden_tools",
          "garden_tools",
          "garden_tools",
          "garden_tools",
          "garden_tools",
          "garden_tools",
          "health_beauty",
          "health_beauty",
          "health_beauty",
          "health_beauty",
          "health_beauty",
          "health_beauty",
          "health_beauty",
          "health_beauty",
          "health_beauty",
          "health_beauty",
          "health_beauty",
          "health_beauty",
          "health_beauty",
          "health_beauty",
          "health_beauty",
          "health_beauty",
          "health_beauty",
          "health_beauty",
          "cool_stuff",
          "cool_stuff",
          "cool_stuff",
          "cool_stuff",
          "cool_stuff",
          "cool_stuff",
          "cool_stuff",
          "cool_stuff",
          "cool_stuff",
          "health_beauty",
          "health_beauty",
          "health_beauty",
          "health_beauty",
          "health_beauty",
          "health_beauty",
          "health_beauty",
          "health_beauty",
          "perfumery",
          "perfumery",
          "perfumery",
          "perfumery",
          "perfumery",
          "perfumery",
          "perfumery",
          "perfumery",
          "perfumery",
          "perfumery",
          "perfumery",
          "perfumery",
          "perfumery",
          "cool_stuff",
          "cool_stuff",
          "cool_stuff",
          "cool_stuff",
          "cool_stuff",
          "cool_stuff",
          "cool_stuff",
          "cool_stuff",
          "cool_stuff",
          "cool_stuff",
          "cool_stuff",
          "cool_stuff",
          "cool_stuff",
          "health_beauty",
          "health_beauty",
          "health_beauty",
          "health_beauty",
          "health_beauty",
          "health_beauty",
          "health_beauty",
          "health_beauty",
          "health_beauty",
          "health_beauty",
          "health_beauty",
          "health_beauty",
          "health_beauty",
          "health_beauty",
          "health_beauty",
          "health_beauty",
          "health_beauty",
          "garden_tools",
          "garden_tools",
          "garden_tools",
          "garden_tools",
          "garden_tools",
          "garden_tools",
          "garden_tools",
          "garden_tools",
          "garden_tools",
          "garden_tools",
          "garden_tools",
          "garden_tools",
          "garden_tools",
          "garden_tools",
          "computers_accessories",
          "computers_accessories",
          "computers_accessories",
          "computers_accessories",
          "computers_accessories",
          "computers_accessories",
          "computers_accessories",
          "computers_accessories",
          "garden_tools",
          "garden_tools",
          "garden_tools",
          "garden_tools",
          "garden_tools",
          "garden_tools",
          "garden_tools",
          "garden_tools",
          "garden_tools",
          "garden_tools",
          "garden_tools",
          "garden_tools",
          "garden_tools",
          "garden_tools",
          "garden_tools",
          "garden_tools",
          "computers_accessories",
          "computers_accessories",
          "computers_accessories",
          "computers_accessories",
          "computers_accessories",
          "computers_accessories",
          "computers_accessories",
          "computers_accessories",
          "health_beauty",
          "health_beauty",
          "health_beauty",
          "health_beauty",
          "health_beauty",
          "health_beauty",
          "health_beauty",
          "garden_tools",
          "garden_tools",
          "garden_tools",
          "garden_tools",
          "garden_tools",
          "garden_tools",
          "garden_tools",
          "garden_tools",
          "garden_tools",
          "garden_tools",
          "garden_tools",
          "garden_tools",
          "garden_tools",
          "garden_tools",
          "garden_tools",
          "garden_tools",
          "health_beauty",
          "health_beauty",
          "health_beauty",
          "health_beauty",
          "health_beauty",
          "health_beauty",
          "health_beauty",
          "watches_gifts",
          "watches_gifts",
          "watches_gifts",
          "watches_gifts",
          "watches_gifts",
          "watches_gifts",
          "watches_gifts",
          "watches_gifts",
          "watches_gifts",
          "watches_gifts",
          "watches_gifts",
          "watches_gifts",
          "watches_gifts",
          "watches_gifts",
          "watches_gifts",
          "health_beauty",
          "health_beauty",
          "health_beauty",
          "health_beauty",
          "health_beauty",
          "health_beauty",
          "health_beauty",
          "health_beauty",
          "health_beauty",
          "garden_tools",
          "garden_tools",
          "garden_tools",
          "garden_tools",
          "garden_tools",
          "garden_tools",
          "garden_tools",
          "garden_tools",
          "garden_tools",
          "garden_tools",
          "garden_tools",
          "garden_tools",
          "garden_tools",
          "garden_tools",
          "garden_tools",
          "garden_tools",
          "garden_tools",
          "garden_tools",
          "garden_tools",
          "garden_tools",
          "garden_tools",
          "garden_tools",
          "garden_tools",
          "garden_tools",
          "garden_tools",
          "garden_tools",
          "garden_tools",
          "garden_tools",
          "garden_tools",
          "garden_tools",
          "garden_tools",
          "watches_gifts",
          "watches_gifts",
          "watches_gifts",
          "watches_gifts",
          "watches_gifts",
          "watches_gifts",
          "watches_gifts",
          "watches_gifts",
          "watches_gifts",
          "watches_gifts",
          "watches_gifts",
          "watches_gifts",
          "watches_gifts",
          "watches_gifts",
          "cool_stuff",
          "cool_stuff",
          "cool_stuff",
          "cool_stuff",
          "cool_stuff",
          "cool_stuff",
          "cool_stuff",
          "perfumery",
          "perfumery",
          "perfumery",
          "perfumery",
          "perfumery",
          "perfumery",
          "perfumery",
          "perfumery",
          "perfumery",
          "perfumery",
          "perfumery",
          "perfumery",
          "perfumery",
          "cool_stuff",
          "cool_stuff",
          "cool_stuff",
          "cool_stuff",
          "cool_stuff",
          "cool_stuff",
          "cool_stuff",
          "cool_stuff",
          "cool_stuff",
          "cool_stuff",
          "cool_stuff",
          "cool_stuff",
          "cool_stuff",
          "computers_accessories",
          "computers_accessories",
          "computers_accessories",
          "computers_accessories",
          "computers_accessories",
          "computers_accessories",
          "computers_accessories",
          "computers_accessories",
          "computers_accessories",
          "computers_accessories",
          "computers_accessories",
          "computers_accessories",
          "computers_accessories",
          "computers_accessories",
          "computers_accessories",
          "consoles_games",
          "consoles_games",
          "consoles_games",
          "consoles_games",
          "consoles_games",
          "consoles_games",
          "consoles_games",
          "consoles_games",
          "consoles_games",
          "consoles_games",
          "health_beauty",
          "health_beauty",
          "health_beauty",
          "health_beauty",
          "health_beauty",
          "health_beauty",
          "health_beauty",
          "health_beauty",
          "health_beauty",
          "health_beauty",
          "health_beauty",
          "health_beauty",
          "health_beauty",
          "health_beauty",
          "health_beauty",
          "health_beauty",
          "health_beauty",
          "health_beauty",
          "health_beauty",
          "health_beauty",
          "watches_gifts",
          "watches_gifts",
          "watches_gifts",
          "watches_gifts",
          "watches_gifts",
          "watches_gifts",
          "watches_gifts",
          "watches_gifts",
          "watches_gifts",
          "watches_gifts",
          "furniture_decor",
          "furniture_decor",
          "furniture_decor",
          "furniture_decor",
          "furniture_decor",
          "furniture_decor",
          "furniture_decor",
          "furniture_decor",
          "furniture_decor",
          "furniture_decor",
          "watches_gifts",
          "watches_gifts",
          "watches_gifts",
          "watches_gifts",
          "watches_gifts",
          "watches_gifts",
          "watches_gifts",
          "watches_gifts",
          "watches_gifts",
          "watches_gifts",
          "health_beauty",
          "health_beauty",
          "health_beauty",
          "health_beauty",
          "health_beauty",
          "health_beauty",
          "health_beauty",
          "health_beauty",
          "health_beauty",
          "health_beauty",
          "health_beauty",
          "health_beauty",
          "health_beauty",
          "health_beauty",
          "health_beauty",
          "health_beauty",
          "health_beauty",
          "health_beauty",
          "health_beauty",
          "health_beauty",
          "bed_bath_table",
          "bed_bath_table",
          "bed_bath_table",
          "bed_bath_table",
          "bed_bath_table",
          "bed_bath_table",
          "bed_bath_table",
          "bed_bath_table",
          "bed_bath_table",
          "bed_bath_table",
          "bed_bath_table",
          "garden_tools",
          "garden_tools",
          "garden_tools",
          "garden_tools",
          "garden_tools",
          "garden_tools",
          "garden_tools",
          "garden_tools",
          "garden_tools",
          "garden_tools",
          "garden_tools",
          "garden_tools",
          "garden_tools",
          "garden_tools",
          "garden_tools",
          "garden_tools",
          "garden_tools",
          "garden_tools",
          "bed_bath_table",
          "bed_bath_table",
          "bed_bath_table",
          "bed_bath_table",
          "bed_bath_table",
          "bed_bath_table",
          "bed_bath_table",
          "bed_bath_table",
          "bed_bath_table",
          "bed_bath_table",
          "bed_bath_table",
          "bed_bath_table",
          "bed_bath_table",
          "bed_bath_table",
          "bed_bath_table",
          "bed_bath_table",
          "bed_bath_table",
          "bed_bath_table",
          "bed_bath_table",
          "furniture_decor",
          "furniture_decor",
          "furniture_decor",
          "furniture_decor",
          "furniture_decor",
          "furniture_decor",
          "furniture_decor",
          "furniture_decor",
          "furniture_decor",
          "furniture_decor",
          "furniture_decor",
          "furniture_decor",
          "watches_gifts",
          "watches_gifts",
          "watches_gifts",
          "watches_gifts",
          "watches_gifts",
          "watches_gifts",
          "watches_gifts",
          "watches_gifts",
          "watches_gifts",
          "watches_gifts",
          "watches_gifts",
          "watches_gifts",
          "watches_gifts",
          "watches_gifts",
          "watches_gifts",
          "watches_gifts",
          "watches_gifts",
          "watches_gifts",
          "watches_gifts",
          "watches_gifts",
          "watches_gifts",
          "watches_gifts",
          "watches_gifts",
          "watches_gifts",
          "watches_gifts",
          "furniture_decor",
          "furniture_decor",
          "furniture_decor",
          "furniture_decor",
          "furniture_decor",
          "furniture_decor",
          "furniture_decor",
          "furniture_decor",
          "furniture_decor",
          "furniture_decor",
          "furniture_decor",
          "furniture_decor",
          "furniture_decor",
          "garden_tools",
          "garden_tools",
          "garden_tools",
          "garden_tools",
          "garden_tools",
          "garden_tools",
          "garden_tools",
          "garden_tools",
          "garden_tools",
          "garden_tools",
          "garden_tools",
          "garden_tools",
          "garden_tools",
          "garden_tools",
          "garden_tools",
          "garden_tools",
          "garden_tools",
          "furniture_decor",
          "furniture_decor",
          "furniture_decor",
          "furniture_decor",
          "furniture_decor",
          "furniture_decor",
          "furniture_decor",
          "furniture_decor",
          "furniture_decor",
          "furniture_decor",
          "furniture_decor",
          "furniture_decor",
          "furniture_decor",
          "health_beauty",
          "health_beauty",
          "health_beauty",
          "health_beauty",
          "health_beauty",
          "health_beauty",
          "health_beauty",
          "health_beauty",
          "health_beauty",
          "health_beauty",
          "health_beauty",
          "health_beauty",
          "health_beauty",
          "garden_tools",
          "garden_tools",
          "garden_tools",
          "garden_tools",
          "garden_tools",
          "garden_tools",
          "garden_tools",
          "garden_tools",
          "garden_tools",
          "garden_tools",
          "garden_tools",
          "garden_tools",
          "garden_tools",
          "garden_tools",
          "garden_tools",
          "garden_tools",
          "garden_tools",
          "garden_tools",
          "cool_stuff",
          "cool_stuff",
          "cool_stuff",
          "cool_stuff",
          "cool_stuff",
          "cool_stuff",
          "cool_stuff",
          "cool_stuff",
          "cool_stuff",
          "cool_stuff",
          "cool_stuff",
          "cool_stuff",
          "cool_stuff",
          "cool_stuff",
          "cool_stuff",
          "computers_accessories",
          "computers_accessories",
          "computers_accessories",
          "computers_accessories",
          "computers_accessories",
          "computers_accessories",
          "computers_accessories",
          "computers_accessories",
          "computers_accessories",
          "computers_accessories",
          "computers_accessories",
          "computers_accessories",
          "computers_accessories",
          "computers_accessories",
          "computers_accessories",
          "computers_accessories",
          "computers_accessories",
          "computers_accessories",
          "watches_gifts",
          "watches_gifts",
          "watches_gifts",
          "watches_gifts",
          "watches_gifts",
          "watches_gifts",
          "watches_gifts",
          "watches_gifts",
          "watches_gifts",
          "watches_gifts",
          "watches_gifts",
          "watches_gifts",
          "computers_accessories",
          "computers_accessories",
          "computers_accessories",
          "computers_accessories",
          "computers_accessories",
          "computers_accessories",
          "computers_accessories",
          "computers_accessories",
          "computers_accessories",
          "computers_accessories",
          "health_beauty",
          "health_beauty",
          "health_beauty",
          "health_beauty",
          "health_beauty",
          "health_beauty",
          "health_beauty",
          "health_beauty",
          "health_beauty",
          "health_beauty",
          "health_beauty",
          "watches_gifts",
          "watches_gifts",
          "watches_gifts",
          "watches_gifts",
          "watches_gifts",
          "watches_gifts",
          "watches_gifts",
          "watches_gifts",
          "watches_gifts",
          "watches_gifts",
          "watches_gifts",
          "watches_gifts",
          "watches_gifts",
          "watches_gifts",
          "watches_gifts",
          "watches_gifts",
          "watches_gifts",
          "computers_accessories",
          "computers_accessories",
          "computers_accessories",
          "computers_accessories",
          "computers_accessories",
          "computers_accessories",
          "computers_accessories",
          "computers_accessories",
          "computers_accessories",
          "computers_accessories",
          "bed_bath_table",
          "bed_bath_table",
          "bed_bath_table",
          "bed_bath_table",
          "bed_bath_table",
          "bed_bath_table",
          "bed_bath_table",
          "bed_bath_table",
          "bed_bath_table",
          "bed_bath_table",
          "bed_bath_table",
          "bed_bath_table",
          "bed_bath_table",
          "bed_bath_table",
          "bed_bath_table"
         ],
         "xaxis": "x",
         "y": [
          45.95,
          137.85,
          275.7,
          183.8,
          91.9,
          137.85,
          445.85,
          239.94,
          759.81,
          719.82,
          679.83,
          519.87,
          759.81,
          199.95,
          319.92,
          313.92,
          419.4,
          247.9,
          1956,
          712,
          890,
          683,
          891,
          1386,
          1683,
          1089,
          398,
          202,
          101,
          101,
          258.7,
          477.6,
          179.1,
          603.2,
          686,
          392,
          162.5,
          195,
          245.4,
          108.6,
          72.4,
          36.2,
          59.9,
          59.9,
          239.6,
          359.4,
          299.5,
          658.9,
          1043.6,
          571.8,
          548.9,
          411.2,
          161.7,
          431.2,
          477.1,
          249.5,
          299.4,
          349.3,
          219.89,
          179.91,
          259.87,
          319.84,
          419.79,
          579.71,
          651.72,
          575.76,
          647.73,
          671.72,
          455.81,
          455.81,
          335.86,
          191.92,
          167.93,
          71.97,
          71.97,
          47.98,
          134.99,
          134.99,
          1763.88,
          4248.73,
          4842.71,
          2170.87,
          1415.92,
          1911.89,
          1019.94,
          110.99,
          221.98,
          998.91,
          1514.87,
          2759.77,
          5288.57,
          4058.67,
          3935.68,
          227.96,
          398.93,
          398.93,
          968.83,
          968.83,
          1139.8,
          1367.76,
          569.9,
          227.96,
          706.86,
          99.98,
          399.92,
          199.96,
          199.98,
          1799.82,
          1099.89,
          1399.86,
          799.92,
          599.94,
          899.91,
          199.98,
          299.97,
          599.94,
          899.91,
          489.76,
          338.77,
          539.94,
          539.94,
          809.91,
          1529.83,
          1619.82,
          1889.79,
          2159.76,
          2339.74,
          1709.81,
          1799.8,
          1529.83,
          1339.84,
          1119.86,
          1279.84,
          1039.87,
          799.9,
          579.75,
          778.7,
          1377.7,
          778.7,
          2156.4,
          3711.7,
          2468.6,
          1946.1,
          2411.2,
          1401.4,
          1509.2,
          1319.5,
          748.5,
          149.7,
          299.4,
          167,
          239.8,
          5453.96,
          3465.8,
          528,
          880,
          269.7,
          236.7,
          179.7,
          179.7,
          1138.1,
          1617.3,
          1018.3,
          1856.9,
          4712.19,
          1769.7,
          1447.1,
          1828.4,
          1886.5,
          700.7,
          1559.1,
          299.4,
          698.6,
          499,
          3307.8,
          10343.1,
          7644.9,
          5246.5,
          7794.8,
          4047.3,
          1948.7,
          749.5,
          185.97,
          805.87,
          974.85,
          2469.62,
          1741.74,
          1808.73,
          1875.72,
          239.6,
          59.9,
          838.6,
          2336.1,
          2216.3,
          2336.1,
          4769.7,
          2881.6,
          598.8,
          1970.1,
          1670.9,
          2479.4,
          2982.4,
          598.8,
          299.46,
          299.46,
          994.04,
          2809.65,
          965.91,
          1723.08,
          449.82,
          257.56,
          557.85,
          789.95,
          1016.95,
          849.5,
          1604,
          2391.6,
          3660,
          894,
          1188,
          2043.92,
          1115.7,
          1191.9,
          2598.9,
          139.9,
          694.9,
          414,
          254.97,
          339.96,
          254.97,
          3059.64,
          4249.5,
          1104.87,
          594.93,
          339.96,
          169.98,
          179.99,
          539.97,
          359.98,
          1079.94,
          2339.87,
          2759.85,
          2629.96,
          2148,
          2277,
          1969,
          537,
          1590,
          1112,
          973,
          179.7,
          419.3,
          239.6,
          1138.1,
          1257.9,
          1377.7,
          1138.1,
          4397.7,
          2232.6,
          1247.5,
          2247.6,
          1347.5,
          1078,
          888.3,
          399.2,
          449.1,
          349.3,
          652,
          1777.5,
          2088.7,
          2762.5,
          134.9,
          1995,
          596,
          769.45,
          3640.68,
          8961.49,
          11820.2,
          1071,
          1302,
          112,
          29.5,
          2242,
          910,
          140,
          140,
          130,
          65,
          142.5,
          142.5,
          285,
          944.4,
          1416,
          707.4,
          1296.8,
          470.8,
          943.8,
          2038.3,
          1668.5,
          593.5,
          1987.4,
          1039.92,
          1819.86,
          2339.82,
          2209.83,
          2079.84,
          1870.84,
          1199.9,
          1169.91,
          389.97,
          519.96,
          259.98,
          129.99,
          129.99,
          379.6,
          611.4,
          1099,
          219.8,
          395.6,
          395.6,
          593.4,
          98.9,
          2795.14,
          2537.19,
          1139.8,
          470,
          292,
          1199.48,
          79.9,
          19.9,
          218.9,
          179.1,
          248,
          563.5,
          416.5,
          271.2,
          32.5,
          229.2,
          205.2,
          2799.2,
          1399.6,
          699.8,
          349.9,
          1399.6,
          699.8,
          349.9,
          2449.3,
          2449.3,
          3499,
          3543.5,
          2449.3,
          4198.8,
          5248.5,
          5948.3,
          2449.3,
          3513.1,
          4004,
          4004,
          3276,
          479.8,
          479.8,
          459.8,
          2250.8,
          2680,
          3908.9,
          4355,
          457.9,
          2200,
          1737.4,
          99.9,
          299.7,
          1298.7,
          1298.7,
          1198.8,
          1298.7,
          1298.7,
          999,
          1099.5,
          754.5,
          1839.2,
          2190.6,
          1729.2,
          2395.2,
          6287.2,
          2207.7,
          4319.4,
          3459,
          2657,
          3383,
          64.99,
          324.95,
          584.91,
          584.91,
          1039.84,
          1234.79,
          888.85,
          1297.78,
          1474.75,
          1120.81,
          1415.76,
          530.91,
          353.94,
          825.86,
          589.9,
          648.89,
          235.96,
          353.94,
          117.98,
          176.97,
          792,
          2178,
          693,
          1082,
          1196,
          276,
          815,
          1235.36,
          1188.6,
          764.1,
          84.9,
          99.99,
          1099.89,
          759.92,
          219.98,
          239.98,
          240,
          417,
          1105.92,
          1889.79,
          1259.86,
          1479.98,
          1680,
          680,
          770,
          880,
          969.9,
          499.95,
          199.98,
          179.8,
          1977.8,
          3056.6,
          5214.2,
          4584.9,
          5394,
          3326.3,
          2067.7,
          1258.6,
          3596,
          1594.2,
          1477.3,
          1911.8,
          1477.3,
          510.27,
          2174.89,
          1837.7,
          781.3,
          518,
          38.4,
          230.4,
          307.2,
          1170.35,
          153.6,
          576,
          153.6,
          493.4,
          140,
          140,
          70,
          35,
          1404,
          1404,
          4752,
          3564,
          2214,
          2205,
          3885,
          2940,
          840,
          735,
          78,
          234,
          78,
          390,
          234,
          156,
          468,
          702,
          78,
          78,
          1248,
          390,
          3042,
          3120,
          2179,
          375,
          975,
          375,
          3300,
          3525,
          8538,
          3075.6,
          4543.5,
          5801.7,
          6430.8,
          179.8,
          179.8,
          309.7,
          299.5,
          119.8,
          299.5,
          898.5,
          1138.1,
          2036.6,
          778.7,
          495.5,
          49.9,
          49.9,
          203.6,
          107.8,
          107.8,
          199.6,
          249.5,
          149.7,
          149.7,
          38.4,
          307.2,
          460.8,
          960,
          1026.51,
          76.8,
          345.6,
          601.8,
          595,
          385,
          455,
          350,
          560,
          1950,
          3575,
          650,
          3900,
          1950,
          3250,
          7475,
          9125,
          6930,
          6270,
          5280,
          4290,
          9240,
          99.99,
          499.95,
          439.96,
          659.94,
          120,
          240,
          735,
          1619.93,
          2519.72,
          2429.73,
          1405,
          840,
          660,
          550,
          220,
          539.94,
          699.93,
          589.94,
          599.93,
          1399.86,
          1699.83,
          2199.78,
          1399.86,
          1099.89,
          1399.86,
          299.97,
          199.98,
          399.96,
          299.97,
          299.97,
          99.99,
          199.98,
          269.59,
          479.97,
          479.97,
          699.95,
          479.97,
          839.94,
          1019.93,
          1679.89,
          2629.83,
          2699.82,
          3449.77,
          6746.9,
          4619,
          5986,
          6764,
          2975,
          3086.76,
          1079.91,
          1199.9,
          678,
          339,
          3461.58,
          3111.36,
          3836.8,
          339.9,
          1735,
          1847,
          1684,
          5956.3,
          983.6,
          7651.27,
          2715.7,
          2247.72,
          584.77,
          1884.45,
          1656.87,
          2206.4,
          2482.2,
          269.8,
          665,
          398.91,
          29.9,
          179.4,
          179.4,
          448.5,
          478.4,
          328.9,
          657.8,
          657.8,
          209.3,
          538.2,
          388.7,
          1205.03,
          766.83,
          925,
          1973.83,
          2698.5,
          3291.4,
          929.96,
          3139.8,
          929.8,
          398,
          1092,
          4860.11,
          1351.2,
          4241,
          2073.3,
          310,
          1601.06,
          109.9,
          1318.8,
          2831.55,
          5581.8,
          2187.3,
          1042.9,
          876.9,
          789,
          545.3,
          155.8,
          1331.1,
          1421.67,
          550.8,
          872.1,
          734.4,
          383.2,
          335.3,
          95.8,
          191.6,
          95.8,
          215,
          2090,
          12095,
          10375,
          5222.36
         ],
         "yaxis": "y"
        }
       ],
       "layout": {
        "barmode": "relative",
        "legend": {
         "tracegroupgap": 0
        },
        "template": {
         "data": {
          "bar": [
           {
            "error_x": {
             "color": "#2a3f5f"
            },
            "error_y": {
             "color": "#2a3f5f"
            },
            "marker": {
             "line": {
              "color": "white",
              "width": 0.5
             },
             "pattern": {
              "fillmode": "overlay",
              "size": 10,
              "solidity": 0.2
             }
            },
            "type": "bar"
           }
          ],
          "barpolar": [
           {
            "marker": {
             "line": {
              "color": "white",
              "width": 0.5
             },
             "pattern": {
              "fillmode": "overlay",
              "size": 10,
              "solidity": 0.2
             }
            },
            "type": "barpolar"
           }
          ],
          "carpet": [
           {
            "aaxis": {
             "endlinecolor": "#2a3f5f",
             "gridcolor": "#C8D4E3",
             "linecolor": "#C8D4E3",
             "minorgridcolor": "#C8D4E3",
             "startlinecolor": "#2a3f5f"
            },
            "baxis": {
             "endlinecolor": "#2a3f5f",
             "gridcolor": "#C8D4E3",
             "linecolor": "#C8D4E3",
             "minorgridcolor": "#C8D4E3",
             "startlinecolor": "#2a3f5f"
            },
            "type": "carpet"
           }
          ],
          "choropleth": [
           {
            "colorbar": {
             "outlinewidth": 0,
             "ticks": ""
            },
            "type": "choropleth"
           }
          ],
          "contour": [
           {
            "colorbar": {
             "outlinewidth": 0,
             "ticks": ""
            },
            "colorscale": [
             [
              0,
              "#0d0887"
             ],
             [
              0.1111111111111111,
              "#46039f"
             ],
             [
              0.2222222222222222,
              "#7201a8"
             ],
             [
              0.3333333333333333,
              "#9c179e"
             ],
             [
              0.4444444444444444,
              "#bd3786"
             ],
             [
              0.5555555555555556,
              "#d8576b"
             ],
             [
              0.6666666666666666,
              "#ed7953"
             ],
             [
              0.7777777777777778,
              "#fb9f3a"
             ],
             [
              0.8888888888888888,
              "#fdca26"
             ],
             [
              1,
              "#f0f921"
             ]
            ],
            "type": "contour"
           }
          ],
          "contourcarpet": [
           {
            "colorbar": {
             "outlinewidth": 0,
             "ticks": ""
            },
            "type": "contourcarpet"
           }
          ],
          "heatmap": [
           {
            "colorbar": {
             "outlinewidth": 0,
             "ticks": ""
            },
            "colorscale": [
             [
              0,
              "#0d0887"
             ],
             [
              0.1111111111111111,
              "#46039f"
             ],
             [
              0.2222222222222222,
              "#7201a8"
             ],
             [
              0.3333333333333333,
              "#9c179e"
             ],
             [
              0.4444444444444444,
              "#bd3786"
             ],
             [
              0.5555555555555556,
              "#d8576b"
             ],
             [
              0.6666666666666666,
              "#ed7953"
             ],
             [
              0.7777777777777778,
              "#fb9f3a"
             ],
             [
              0.8888888888888888,
              "#fdca26"
             ],
             [
              1,
              "#f0f921"
             ]
            ],
            "type": "heatmap"
           }
          ],
          "heatmapgl": [
           {
            "colorbar": {
             "outlinewidth": 0,
             "ticks": ""
            },
            "colorscale": [
             [
              0,
              "#0d0887"
             ],
             [
              0.1111111111111111,
              "#46039f"
             ],
             [
              0.2222222222222222,
              "#7201a8"
             ],
             [
              0.3333333333333333,
              "#9c179e"
             ],
             [
              0.4444444444444444,
              "#bd3786"
             ],
             [
              0.5555555555555556,
              "#d8576b"
             ],
             [
              0.6666666666666666,
              "#ed7953"
             ],
             [
              0.7777777777777778,
              "#fb9f3a"
             ],
             [
              0.8888888888888888,
              "#fdca26"
             ],
             [
              1,
              "#f0f921"
             ]
            ],
            "type": "heatmapgl"
           }
          ],
          "histogram": [
           {
            "marker": {
             "pattern": {
              "fillmode": "overlay",
              "size": 10,
              "solidity": 0.2
             }
            },
            "type": "histogram"
           }
          ],
          "histogram2d": [
           {
            "colorbar": {
             "outlinewidth": 0,
             "ticks": ""
            },
            "colorscale": [
             [
              0,
              "#0d0887"
             ],
             [
              0.1111111111111111,
              "#46039f"
             ],
             [
              0.2222222222222222,
              "#7201a8"
             ],
             [
              0.3333333333333333,
              "#9c179e"
             ],
             [
              0.4444444444444444,
              "#bd3786"
             ],
             [
              0.5555555555555556,
              "#d8576b"
             ],
             [
              0.6666666666666666,
              "#ed7953"
             ],
             [
              0.7777777777777778,
              "#fb9f3a"
             ],
             [
              0.8888888888888888,
              "#fdca26"
             ],
             [
              1,
              "#f0f921"
             ]
            ],
            "type": "histogram2d"
           }
          ],
          "histogram2dcontour": [
           {
            "colorbar": {
             "outlinewidth": 0,
             "ticks": ""
            },
            "colorscale": [
             [
              0,
              "#0d0887"
             ],
             [
              0.1111111111111111,
              "#46039f"
             ],
             [
              0.2222222222222222,
              "#7201a8"
             ],
             [
              0.3333333333333333,
              "#9c179e"
             ],
             [
              0.4444444444444444,
              "#bd3786"
             ],
             [
              0.5555555555555556,
              "#d8576b"
             ],
             [
              0.6666666666666666,
              "#ed7953"
             ],
             [
              0.7777777777777778,
              "#fb9f3a"
             ],
             [
              0.8888888888888888,
              "#fdca26"
             ],
             [
              1,
              "#f0f921"
             ]
            ],
            "type": "histogram2dcontour"
           }
          ],
          "mesh3d": [
           {
            "colorbar": {
             "outlinewidth": 0,
             "ticks": ""
            },
            "type": "mesh3d"
           }
          ],
          "parcoords": [
           {
            "line": {
             "colorbar": {
              "outlinewidth": 0,
              "ticks": ""
             }
            },
            "type": "parcoords"
           }
          ],
          "pie": [
           {
            "automargin": true,
            "type": "pie"
           }
          ],
          "scatter": [
           {
            "fillpattern": {
             "fillmode": "overlay",
             "size": 10,
             "solidity": 0.2
            },
            "type": "scatter"
           }
          ],
          "scatter3d": [
           {
            "line": {
             "colorbar": {
              "outlinewidth": 0,
              "ticks": ""
             }
            },
            "marker": {
             "colorbar": {
              "outlinewidth": 0,
              "ticks": ""
             }
            },
            "type": "scatter3d"
           }
          ],
          "scattercarpet": [
           {
            "marker": {
             "colorbar": {
              "outlinewidth": 0,
              "ticks": ""
             }
            },
            "type": "scattercarpet"
           }
          ],
          "scattergeo": [
           {
            "marker": {
             "colorbar": {
              "outlinewidth": 0,
              "ticks": ""
             }
            },
            "type": "scattergeo"
           }
          ],
          "scattergl": [
           {
            "marker": {
             "colorbar": {
              "outlinewidth": 0,
              "ticks": ""
             }
            },
            "type": "scattergl"
           }
          ],
          "scattermapbox": [
           {
            "marker": {
             "colorbar": {
              "outlinewidth": 0,
              "ticks": ""
             }
            },
            "type": "scattermapbox"
           }
          ],
          "scatterpolar": [
           {
            "marker": {
             "colorbar": {
              "outlinewidth": 0,
              "ticks": ""
             }
            },
            "type": "scatterpolar"
           }
          ],
          "scatterpolargl": [
           {
            "marker": {
             "colorbar": {
              "outlinewidth": 0,
              "ticks": ""
             }
            },
            "type": "scatterpolargl"
           }
          ],
          "scatterternary": [
           {
            "marker": {
             "colorbar": {
              "outlinewidth": 0,
              "ticks": ""
             }
            },
            "type": "scatterternary"
           }
          ],
          "surface": [
           {
            "colorbar": {
             "outlinewidth": 0,
             "ticks": ""
            },
            "colorscale": [
             [
              0,
              "#0d0887"
             ],
             [
              0.1111111111111111,
              "#46039f"
             ],
             [
              0.2222222222222222,
              "#7201a8"
             ],
             [
              0.3333333333333333,
              "#9c179e"
             ],
             [
              0.4444444444444444,
              "#bd3786"
             ],
             [
              0.5555555555555556,
              "#d8576b"
             ],
             [
              0.6666666666666666,
              "#ed7953"
             ],
             [
              0.7777777777777778,
              "#fb9f3a"
             ],
             [
              0.8888888888888888,
              "#fdca26"
             ],
             [
              1,
              "#f0f921"
             ]
            ],
            "type": "surface"
           }
          ],
          "table": [
           {
            "cells": {
             "fill": {
              "color": "#EBF0F8"
             },
             "line": {
              "color": "white"
             }
            },
            "header": {
             "fill": {
              "color": "#C8D4E3"
             },
             "line": {
              "color": "white"
             }
            },
            "type": "table"
           }
          ]
         },
         "layout": {
          "annotationdefaults": {
           "arrowcolor": "#2a3f5f",
           "arrowhead": 0,
           "arrowwidth": 1
          },
          "autotypenumbers": "strict",
          "coloraxis": {
           "colorbar": {
            "outlinewidth": 0,
            "ticks": ""
           }
          },
          "colorscale": {
           "diverging": [
            [
             0,
             "#8e0152"
            ],
            [
             0.1,
             "#c51b7d"
            ],
            [
             0.2,
             "#de77ae"
            ],
            [
             0.3,
             "#f1b6da"
            ],
            [
             0.4,
             "#fde0ef"
            ],
            [
             0.5,
             "#f7f7f7"
            ],
            [
             0.6,
             "#e6f5d0"
            ],
            [
             0.7,
             "#b8e186"
            ],
            [
             0.8,
             "#7fbc41"
            ],
            [
             0.9,
             "#4d9221"
            ],
            [
             1,
             "#276419"
            ]
           ],
           "sequential": [
            [
             0,
             "#0d0887"
            ],
            [
             0.1111111111111111,
             "#46039f"
            ],
            [
             0.2222222222222222,
             "#7201a8"
            ],
            [
             0.3333333333333333,
             "#9c179e"
            ],
            [
             0.4444444444444444,
             "#bd3786"
            ],
            [
             0.5555555555555556,
             "#d8576b"
            ],
            [
             0.6666666666666666,
             "#ed7953"
            ],
            [
             0.7777777777777778,
             "#fb9f3a"
            ],
            [
             0.8888888888888888,
             "#fdca26"
            ],
            [
             1,
             "#f0f921"
            ]
           ],
           "sequentialminus": [
            [
             0,
             "#0d0887"
            ],
            [
             0.1111111111111111,
             "#46039f"
            ],
            [
             0.2222222222222222,
             "#7201a8"
            ],
            [
             0.3333333333333333,
             "#9c179e"
            ],
            [
             0.4444444444444444,
             "#bd3786"
            ],
            [
             0.5555555555555556,
             "#d8576b"
            ],
            [
             0.6666666666666666,
             "#ed7953"
            ],
            [
             0.7777777777777778,
             "#fb9f3a"
            ],
            [
             0.8888888888888888,
             "#fdca26"
            ],
            [
             1,
             "#f0f921"
            ]
           ]
          },
          "colorway": [
           "#636efa",
           "#EF553B",
           "#00cc96",
           "#ab63fa",
           "#FFA15A",
           "#19d3f3",
           "#FF6692",
           "#B6E880",
           "#FF97FF",
           "#FECB52"
          ],
          "font": {
           "color": "#2a3f5f"
          },
          "geo": {
           "bgcolor": "white",
           "lakecolor": "white",
           "landcolor": "white",
           "showlakes": true,
           "showland": true,
           "subunitcolor": "#C8D4E3"
          },
          "hoverlabel": {
           "align": "left"
          },
          "hovermode": "closest",
          "mapbox": {
           "style": "light"
          },
          "paper_bgcolor": "white",
          "plot_bgcolor": "white",
          "polar": {
           "angularaxis": {
            "gridcolor": "#EBF0F8",
            "linecolor": "#EBF0F8",
            "ticks": ""
           },
           "bgcolor": "white",
           "radialaxis": {
            "gridcolor": "#EBF0F8",
            "linecolor": "#EBF0F8",
            "ticks": ""
           }
          },
          "scene": {
           "xaxis": {
            "backgroundcolor": "white",
            "gridcolor": "#DFE8F3",
            "gridwidth": 2,
            "linecolor": "#EBF0F8",
            "showbackground": true,
            "ticks": "",
            "zerolinecolor": "#EBF0F8"
           },
           "yaxis": {
            "backgroundcolor": "white",
            "gridcolor": "#DFE8F3",
            "gridwidth": 2,
            "linecolor": "#EBF0F8",
            "showbackground": true,
            "ticks": "",
            "zerolinecolor": "#EBF0F8"
           },
           "zaxis": {
            "backgroundcolor": "white",
            "gridcolor": "#DFE8F3",
            "gridwidth": 2,
            "linecolor": "#EBF0F8",
            "showbackground": true,
            "ticks": "",
            "zerolinecolor": "#EBF0F8"
           }
          },
          "shapedefaults": {
           "line": {
            "color": "#2a3f5f"
           }
          },
          "ternary": {
           "aaxis": {
            "gridcolor": "#DFE8F3",
            "linecolor": "#A2B1C6",
            "ticks": ""
           },
           "baxis": {
            "gridcolor": "#DFE8F3",
            "linecolor": "#A2B1C6",
            "ticks": ""
           },
           "bgcolor": "white",
           "caxis": {
            "gridcolor": "#DFE8F3",
            "linecolor": "#A2B1C6",
            "ticks": ""
           }
          },
          "title": {
           "x": 0.05
          },
          "xaxis": {
           "automargin": true,
           "gridcolor": "#EBF0F8",
           "linecolor": "#EBF0F8",
           "ticks": "",
           "title": {
            "standoff": 15
           },
           "zerolinecolor": "#EBF0F8",
           "zerolinewidth": 2
          },
          "yaxis": {
           "automargin": true,
           "gridcolor": "#EBF0F8",
           "linecolor": "#EBF0F8",
           "ticks": "",
           "title": {
            "standoff": 15
           },
           "zerolinecolor": "#EBF0F8",
           "zerolinewidth": 2
          }
         }
        },
        "title": {
         "text": "Average Total Price by Product Category"
        },
        "xaxis": {
         "anchor": "y",
         "domain": [
          0,
          1
         ],
         "title": {
          "text": "product_category_name"
         }
        },
        "yaxis": {
         "anchor": "x",
         "domain": [
          0,
          1
         ],
         "title": {
          "text": "total_price"
         }
        }
       }
      }
     },
     "metadata": {},
     "output_type": "display_data"
    }
   ],
   "source": [
    "fig = px.bar(data, x='product_category_name', \n",
    "             y='total_price', \n",
    "             title='Average Total Price by Product Category')\n",
    "fig.show()"
   ]
  },
  {
   "cell_type": "code",
   "execution_count": 60,
   "metadata": {},
   "outputs": [
    {
     "data": {
      "application/vnd.plotly.v1+json": {
       "config": {
        "plotlyServerURL": "https://plot.ly"
       },
       "data": [
        {
         "alignmentgroup": "True",
         "hovertemplate": "weekday=%{x}<br>total_price=%{y}<extra></extra>",
         "legendgroup": "",
         "marker": {
          "color": "#636efa"
         },
         "name": "",
         "notched": false,
         "offsetgroup": "",
         "orientation": "v",
         "showlegend": false,
         "type": "box",
         "x": [
          23,
          22,
          21,
          23,
          21,
          22,
          22,
          21,
          23,
          20,
          22,
          21,
          23,
          21,
          22,
          23,
          23,
          20,
          23,
          22,
          21,
          23,
          21,
          22,
          22,
          21,
          23,
          20,
          22,
          21,
          21,
          23,
          21,
          22,
          22,
          21,
          20,
          22,
          21,
          23,
          21,
          22,
          20,
          23,
          21,
          23,
          21,
          22,
          22,
          21,
          23,
          20,
          22,
          21,
          23,
          21,
          22,
          23,
          20,
          23,
          20,
          23,
          22,
          21,
          23,
          21,
          22,
          22,
          21,
          23,
          20,
          22,
          23,
          21,
          22,
          23,
          21,
          23,
          22,
          22,
          21,
          23,
          20,
          22,
          21,
          23,
          20,
          22,
          21,
          23,
          21,
          22,
          23,
          22,
          21,
          23,
          21,
          22,
          22,
          21,
          23,
          20,
          22,
          21,
          22,
          23,
          20,
          23,
          22,
          21,
          23,
          21,
          22,
          22,
          21,
          23,
          20,
          22,
          21,
          23,
          23,
          22,
          21,
          23,
          21,
          22,
          22,
          21,
          23,
          20,
          22,
          21,
          23,
          21,
          22,
          23,
          21,
          23,
          21,
          22,
          22,
          21,
          23,
          20,
          22,
          21,
          23,
          21,
          22,
          23,
          22,
          21,
          23,
          20,
          22,
          21,
          21,
          22,
          23,
          22,
          21,
          23,
          21,
          22,
          22,
          21,
          23,
          20,
          22,
          21,
          23,
          21,
          22,
          23,
          23,
          20,
          22,
          21,
          23,
          21,
          22,
          23,
          23,
          22,
          21,
          23,
          21,
          22,
          23,
          23,
          22,
          21,
          23,
          21,
          22,
          22,
          21,
          23,
          20,
          22,
          21,
          23,
          21,
          22,
          23,
          20,
          22,
          21,
          23,
          21,
          22,
          23,
          22,
          21,
          23,
          21,
          22,
          22,
          21,
          23,
          20,
          22,
          21,
          23,
          21,
          22,
          23,
          23,
          21,
          22,
          22,
          21,
          23,
          20,
          22,
          21,
          20,
          20,
          21,
          22,
          22,
          21,
          23,
          20,
          22,
          21,
          23,
          21,
          22,
          23,
          20,
          23,
          22,
          21,
          23,
          21,
          22,
          22,
          21,
          23,
          20,
          22,
          21,
          23,
          21,
          22,
          23,
          22,
          21,
          23,
          21,
          22,
          22,
          21,
          20,
          22,
          21,
          23,
          21,
          22,
          23,
          21,
          23,
          22,
          21,
          23,
          21,
          23,
          23,
          21,
          22,
          22,
          21,
          23,
          20,
          22,
          21,
          23,
          21,
          22,
          23,
          23,
          20,
          23,
          22,
          21,
          23,
          22,
          22,
          21,
          23,
          20,
          22,
          21,
          23,
          22,
          21,
          23,
          21,
          22,
          22,
          21,
          23,
          20,
          22,
          21,
          21,
          22,
          23,
          21,
          23,
          21,
          22,
          22,
          21,
          23,
          20,
          22,
          21,
          22,
          20,
          23,
          20,
          23,
          22,
          21,
          23,
          21,
          22,
          22,
          21,
          23,
          20,
          22,
          21,
          23,
          21,
          22,
          23,
          21,
          22,
          23,
          20,
          22,
          21,
          23,
          21,
          22,
          23,
          22,
          21,
          23,
          20,
          22,
          21,
          23,
          21,
          22,
          23,
          23,
          21,
          22,
          22,
          21,
          23,
          20,
          22,
          21,
          23,
          22,
          20,
          23,
          20,
          23,
          22,
          21,
          23,
          21,
          22,
          22,
          21,
          23,
          20,
          22,
          21,
          23,
          21,
          22,
          23,
          22,
          22,
          21,
          23,
          20,
          22,
          21,
          23,
          21,
          22,
          23,
          20,
          23,
          20,
          23,
          22,
          21,
          21,
          22,
          22,
          21,
          23,
          20,
          22,
          21,
          23,
          21,
          22,
          23,
          20,
          23,
          20,
          23,
          22,
          21,
          23,
          21,
          22,
          22,
          21,
          23,
          20,
          22,
          21,
          23,
          21,
          22,
          23,
          23,
          21,
          22,
          22,
          21,
          23,
          20,
          22,
          21,
          23,
          21,
          23,
          22,
          21,
          23,
          20,
          22,
          21,
          23,
          21,
          22,
          23,
          23,
          22,
          21,
          23,
          22,
          22,
          21,
          23,
          20,
          22,
          21,
          23,
          21,
          22,
          23,
          21,
          23,
          22,
          22,
          21,
          23,
          20,
          22,
          21,
          23,
          21,
          22,
          23,
          20,
          23,
          22,
          21,
          23,
          21,
          22,
          22,
          21,
          23,
          20,
          22,
          21,
          23,
          21,
          22,
          23,
          21,
          23,
          21,
          22,
          22,
          23,
          20,
          22,
          21,
          23,
          21,
          22,
          23,
          23,
          21,
          22,
          22,
          21,
          23,
          20,
          22,
          21,
          23,
          21,
          22,
          23,
          20,
          23,
          23,
          22,
          21,
          23,
          21,
          22,
          22,
          21,
          23,
          20,
          22,
          21,
          23,
          21,
          22,
          23,
          20,
          23,
          20,
          23,
          22,
          21,
          23,
          21,
          22,
          22,
          21,
          23,
          20,
          22,
          21,
          20,
          23,
          20,
          22,
          21,
          23,
          21,
          22,
          22,
          21,
          23,
          20,
          22,
          21,
          23,
          21,
          22,
          23,
          23,
          21,
          22,
          22,
          21,
          23,
          20,
          22,
          21,
          23,
          21,
          22,
          23,
          22,
          21,
          23,
          21,
          22,
          22,
          21,
          23,
          20,
          22,
          22,
          21,
          23,
          20,
          22,
          21,
          23,
          21,
          22,
          23,
          23,
          20,
          22,
          21,
          23,
          21,
          22,
          22,
          21,
          23,
          20,
          22,
          21,
          23,
          21,
          22,
          23,
          22,
          21,
          23,
          20,
          22,
          21,
          23,
          21,
          22,
          23,
          22,
          22,
          21,
          23,
          20,
          22,
          21,
          23,
          21,
          22,
          23,
          22,
          21,
          23,
          21
         ],
         "x0": " ",
         "xaxis": "x",
         "y": [
          45.95,
          137.85,
          275.7,
          183.8,
          91.9,
          137.85,
          445.85,
          239.94,
          759.81,
          719.82,
          679.83,
          519.87,
          759.81,
          199.95,
          319.92,
          313.92,
          419.4,
          247.9,
          1956,
          712,
          890,
          683,
          891,
          1386,
          1683,
          1089,
          398,
          202,
          101,
          101,
          258.7,
          477.6,
          179.1,
          603.2,
          686,
          392,
          162.5,
          195,
          245.4,
          108.6,
          72.4,
          36.2,
          59.9,
          59.9,
          239.6,
          359.4,
          299.5,
          658.9,
          1043.6,
          571.8,
          548.9,
          411.2,
          161.7,
          431.2,
          477.1,
          249.5,
          299.4,
          349.3,
          219.89,
          179.91,
          259.87,
          319.84,
          419.79,
          579.71,
          651.72,
          575.76,
          647.73,
          671.72,
          455.81,
          455.81,
          335.86,
          191.92,
          167.93,
          71.97,
          71.97,
          47.98,
          134.99,
          134.99,
          1763.88,
          4248.73,
          4842.71,
          2170.87,
          1415.92,
          1911.89,
          1019.94,
          110.99,
          221.98,
          998.91,
          1514.87,
          2759.77,
          5288.57,
          4058.67,
          3935.68,
          227.96,
          398.93,
          398.93,
          968.83,
          968.83,
          1139.8,
          1367.76,
          569.9,
          227.96,
          706.86,
          99.98,
          399.92,
          199.96,
          199.98,
          1799.82,
          1099.89,
          1399.86,
          799.92,
          599.94,
          899.91,
          199.98,
          299.97,
          599.94,
          899.91,
          489.76,
          338.77,
          539.94,
          539.94,
          809.91,
          1529.83,
          1619.82,
          1889.79,
          2159.76,
          2339.74,
          1709.81,
          1799.8,
          1529.83,
          1339.84,
          1119.86,
          1279.84,
          1039.87,
          799.9,
          579.75,
          778.7,
          1377.7,
          778.7,
          2156.4,
          3711.7,
          2468.6,
          1946.1,
          2411.2,
          1401.4,
          1509.2,
          1319.5,
          748.5,
          149.7,
          299.4,
          167,
          239.8,
          5453.96,
          3465.8,
          528,
          880,
          269.7,
          236.7,
          179.7,
          179.7,
          1138.1,
          1617.3,
          1018.3,
          1856.9,
          4712.19,
          1769.7,
          1447.1,
          1828.4,
          1886.5,
          700.7,
          1559.1,
          299.4,
          698.6,
          499,
          3307.8,
          10343.1,
          7644.9,
          5246.5,
          7794.8,
          4047.3,
          1948.7,
          749.5,
          185.97,
          805.87,
          974.85,
          2469.62,
          1741.74,
          1808.73,
          1875.72,
          239.6,
          59.9,
          838.6,
          2336.1,
          2216.3,
          2336.1,
          4769.7,
          2881.6,
          598.8,
          1970.1,
          1670.9,
          2479.4,
          2982.4,
          598.8,
          299.46,
          299.46,
          994.04,
          2809.65,
          965.91,
          1723.08,
          449.82,
          257.56,
          557.85,
          789.95,
          1016.95,
          849.5,
          1604,
          2391.6,
          3660,
          894,
          1188,
          2043.92,
          1115.7,
          1191.9,
          2598.9,
          139.9,
          694.9,
          414,
          254.97,
          339.96,
          254.97,
          3059.64,
          4249.5,
          1104.87,
          594.93,
          339.96,
          169.98,
          179.99,
          539.97,
          359.98,
          1079.94,
          2339.87,
          2759.85,
          2629.96,
          2148,
          2277,
          1969,
          537,
          1590,
          1112,
          973,
          179.7,
          419.3,
          239.6,
          1138.1,
          1257.9,
          1377.7,
          1138.1,
          4397.7,
          2232.6,
          1247.5,
          2247.6,
          1347.5,
          1078,
          888.3,
          399.2,
          449.1,
          349.3,
          652,
          1777.5,
          2088.7,
          2762.5,
          134.9,
          1995,
          596,
          769.45,
          3640.68,
          8961.49,
          11820.2,
          1071,
          1302,
          112,
          29.5,
          2242,
          910,
          140,
          140,
          130,
          65,
          142.5,
          142.5,
          285,
          944.4,
          1416,
          707.4,
          1296.8,
          470.8,
          943.8,
          2038.3,
          1668.5,
          593.5,
          1987.4,
          1039.92,
          1819.86,
          2339.82,
          2209.83,
          2079.84,
          1870.84,
          1199.9,
          1169.91,
          389.97,
          519.96,
          259.98,
          129.99,
          129.99,
          379.6,
          611.4,
          1099,
          219.8,
          395.6,
          395.6,
          593.4,
          98.9,
          2795.14,
          2537.19,
          1139.8,
          470,
          292,
          1199.48,
          79.9,
          19.9,
          218.9,
          179.1,
          248,
          563.5,
          416.5,
          271.2,
          32.5,
          229.2,
          205.2,
          2799.2,
          1399.6,
          699.8,
          349.9,
          1399.6,
          699.8,
          349.9,
          2449.3,
          2449.3,
          3499,
          3543.5,
          2449.3,
          4198.8,
          5248.5,
          5948.3,
          2449.3,
          3513.1,
          4004,
          4004,
          3276,
          479.8,
          479.8,
          459.8,
          2250.8,
          2680,
          3908.9,
          4355,
          457.9,
          2200,
          1737.4,
          99.9,
          299.7,
          1298.7,
          1298.7,
          1198.8,
          1298.7,
          1298.7,
          999,
          1099.5,
          754.5,
          1839.2,
          2190.6,
          1729.2,
          2395.2,
          6287.2,
          2207.7,
          4319.4,
          3459,
          2657,
          3383,
          64.99,
          324.95,
          584.91,
          584.91,
          1039.84,
          1234.79,
          888.85,
          1297.78,
          1474.75,
          1120.81,
          1415.76,
          530.91,
          353.94,
          825.86,
          589.9,
          648.89,
          235.96,
          353.94,
          117.98,
          176.97,
          792,
          2178,
          693,
          1082,
          1196,
          276,
          815,
          1235.36,
          1188.6,
          764.1,
          84.9,
          99.99,
          1099.89,
          759.92,
          219.98,
          239.98,
          240,
          417,
          1105.92,
          1889.79,
          1259.86,
          1479.98,
          1680,
          680,
          770,
          880,
          969.9,
          499.95,
          199.98,
          179.8,
          1977.8,
          3056.6,
          5214.2,
          4584.9,
          5394,
          3326.3,
          2067.7,
          1258.6,
          3596,
          1594.2,
          1477.3,
          1911.8,
          1477.3,
          510.27,
          2174.89,
          1837.7,
          781.3,
          518,
          38.4,
          230.4,
          307.2,
          1170.35,
          153.6,
          576,
          153.6,
          493.4,
          140,
          140,
          70,
          35,
          1404,
          1404,
          4752,
          3564,
          2214,
          2205,
          3885,
          2940,
          840,
          735,
          78,
          234,
          78,
          390,
          234,
          156,
          468,
          702,
          78,
          78,
          1248,
          390,
          3042,
          3120,
          2179,
          375,
          975,
          375,
          3300,
          3525,
          8538,
          3075.6,
          4543.5,
          5801.7,
          6430.8,
          179.8,
          179.8,
          309.7,
          299.5,
          119.8,
          299.5,
          898.5,
          1138.1,
          2036.6,
          778.7,
          495.5,
          49.9,
          49.9,
          203.6,
          107.8,
          107.8,
          199.6,
          249.5,
          149.7,
          149.7,
          38.4,
          307.2,
          460.8,
          960,
          1026.51,
          76.8,
          345.6,
          601.8,
          595,
          385,
          455,
          350,
          560,
          1950,
          3575,
          650,
          3900,
          1950,
          3250,
          7475,
          9125,
          6930,
          6270,
          5280,
          4290,
          9240,
          99.99,
          499.95,
          439.96,
          659.94,
          120,
          240,
          735,
          1619.93,
          2519.72,
          2429.73,
          1405,
          840,
          660,
          550,
          220,
          539.94,
          699.93,
          589.94,
          599.93,
          1399.86,
          1699.83,
          2199.78,
          1399.86,
          1099.89,
          1399.86,
          299.97,
          199.98,
          399.96,
          299.97,
          299.97,
          99.99,
          199.98,
          269.59,
          479.97,
          479.97,
          699.95,
          479.97,
          839.94,
          1019.93,
          1679.89,
          2629.83,
          2699.82,
          3449.77,
          6746.9,
          4619,
          5986,
          6764,
          2975,
          3086.76,
          1079.91,
          1199.9,
          678,
          339,
          3461.58,
          3111.36,
          3836.8,
          339.9,
          1735,
          1847,
          1684,
          5956.3,
          983.6,
          7651.27,
          2715.7,
          2247.72,
          584.77,
          1884.45,
          1656.87,
          2206.4,
          2482.2,
          269.8,
          665,
          398.91,
          29.9,
          179.4,
          179.4,
          448.5,
          478.4,
          328.9,
          657.8,
          657.8,
          209.3,
          538.2,
          388.7,
          1205.03,
          766.83,
          925,
          1973.83,
          2698.5,
          3291.4,
          929.96,
          3139.8,
          929.8,
          398,
          1092,
          4860.11,
          1351.2,
          4241,
          2073.3,
          310,
          1601.06,
          109.9,
          1318.8,
          2831.55,
          5581.8,
          2187.3,
          1042.9,
          876.9,
          789,
          545.3,
          155.8,
          1331.1,
          1421.67,
          550.8,
          872.1,
          734.4,
          383.2,
          335.3,
          95.8,
          191.6,
          95.8,
          215,
          2090,
          12095,
          10375,
          5222.36
         ],
         "y0": " ",
         "yaxis": "y"
        }
       ],
       "layout": {
        "boxmode": "group",
        "legend": {
         "tracegroupgap": 0
        },
        "template": {
         "data": {
          "bar": [
           {
            "error_x": {
             "color": "#2a3f5f"
            },
            "error_y": {
             "color": "#2a3f5f"
            },
            "marker": {
             "line": {
              "color": "white",
              "width": 0.5
             },
             "pattern": {
              "fillmode": "overlay",
              "size": 10,
              "solidity": 0.2
             }
            },
            "type": "bar"
           }
          ],
          "barpolar": [
           {
            "marker": {
             "line": {
              "color": "white",
              "width": 0.5
             },
             "pattern": {
              "fillmode": "overlay",
              "size": 10,
              "solidity": 0.2
             }
            },
            "type": "barpolar"
           }
          ],
          "carpet": [
           {
            "aaxis": {
             "endlinecolor": "#2a3f5f",
             "gridcolor": "#C8D4E3",
             "linecolor": "#C8D4E3",
             "minorgridcolor": "#C8D4E3",
             "startlinecolor": "#2a3f5f"
            },
            "baxis": {
             "endlinecolor": "#2a3f5f",
             "gridcolor": "#C8D4E3",
             "linecolor": "#C8D4E3",
             "minorgridcolor": "#C8D4E3",
             "startlinecolor": "#2a3f5f"
            },
            "type": "carpet"
           }
          ],
          "choropleth": [
           {
            "colorbar": {
             "outlinewidth": 0,
             "ticks": ""
            },
            "type": "choropleth"
           }
          ],
          "contour": [
           {
            "colorbar": {
             "outlinewidth": 0,
             "ticks": ""
            },
            "colorscale": [
             [
              0,
              "#0d0887"
             ],
             [
              0.1111111111111111,
              "#46039f"
             ],
             [
              0.2222222222222222,
              "#7201a8"
             ],
             [
              0.3333333333333333,
              "#9c179e"
             ],
             [
              0.4444444444444444,
              "#bd3786"
             ],
             [
              0.5555555555555556,
              "#d8576b"
             ],
             [
              0.6666666666666666,
              "#ed7953"
             ],
             [
              0.7777777777777778,
              "#fb9f3a"
             ],
             [
              0.8888888888888888,
              "#fdca26"
             ],
             [
              1,
              "#f0f921"
             ]
            ],
            "type": "contour"
           }
          ],
          "contourcarpet": [
           {
            "colorbar": {
             "outlinewidth": 0,
             "ticks": ""
            },
            "type": "contourcarpet"
           }
          ],
          "heatmap": [
           {
            "colorbar": {
             "outlinewidth": 0,
             "ticks": ""
            },
            "colorscale": [
             [
              0,
              "#0d0887"
             ],
             [
              0.1111111111111111,
              "#46039f"
             ],
             [
              0.2222222222222222,
              "#7201a8"
             ],
             [
              0.3333333333333333,
              "#9c179e"
             ],
             [
              0.4444444444444444,
              "#bd3786"
             ],
             [
              0.5555555555555556,
              "#d8576b"
             ],
             [
              0.6666666666666666,
              "#ed7953"
             ],
             [
              0.7777777777777778,
              "#fb9f3a"
             ],
             [
              0.8888888888888888,
              "#fdca26"
             ],
             [
              1,
              "#f0f921"
             ]
            ],
            "type": "heatmap"
           }
          ],
          "heatmapgl": [
           {
            "colorbar": {
             "outlinewidth": 0,
             "ticks": ""
            },
            "colorscale": [
             [
              0,
              "#0d0887"
             ],
             [
              0.1111111111111111,
              "#46039f"
             ],
             [
              0.2222222222222222,
              "#7201a8"
             ],
             [
              0.3333333333333333,
              "#9c179e"
             ],
             [
              0.4444444444444444,
              "#bd3786"
             ],
             [
              0.5555555555555556,
              "#d8576b"
             ],
             [
              0.6666666666666666,
              "#ed7953"
             ],
             [
              0.7777777777777778,
              "#fb9f3a"
             ],
             [
              0.8888888888888888,
              "#fdca26"
             ],
             [
              1,
              "#f0f921"
             ]
            ],
            "type": "heatmapgl"
           }
          ],
          "histogram": [
           {
            "marker": {
             "pattern": {
              "fillmode": "overlay",
              "size": 10,
              "solidity": 0.2
             }
            },
            "type": "histogram"
           }
          ],
          "histogram2d": [
           {
            "colorbar": {
             "outlinewidth": 0,
             "ticks": ""
            },
            "colorscale": [
             [
              0,
              "#0d0887"
             ],
             [
              0.1111111111111111,
              "#46039f"
             ],
             [
              0.2222222222222222,
              "#7201a8"
             ],
             [
              0.3333333333333333,
              "#9c179e"
             ],
             [
              0.4444444444444444,
              "#bd3786"
             ],
             [
              0.5555555555555556,
              "#d8576b"
             ],
             [
              0.6666666666666666,
              "#ed7953"
             ],
             [
              0.7777777777777778,
              "#fb9f3a"
             ],
             [
              0.8888888888888888,
              "#fdca26"
             ],
             [
              1,
              "#f0f921"
             ]
            ],
            "type": "histogram2d"
           }
          ],
          "histogram2dcontour": [
           {
            "colorbar": {
             "outlinewidth": 0,
             "ticks": ""
            },
            "colorscale": [
             [
              0,
              "#0d0887"
             ],
             [
              0.1111111111111111,
              "#46039f"
             ],
             [
              0.2222222222222222,
              "#7201a8"
             ],
             [
              0.3333333333333333,
              "#9c179e"
             ],
             [
              0.4444444444444444,
              "#bd3786"
             ],
             [
              0.5555555555555556,
              "#d8576b"
             ],
             [
              0.6666666666666666,
              "#ed7953"
             ],
             [
              0.7777777777777778,
              "#fb9f3a"
             ],
             [
              0.8888888888888888,
              "#fdca26"
             ],
             [
              1,
              "#f0f921"
             ]
            ],
            "type": "histogram2dcontour"
           }
          ],
          "mesh3d": [
           {
            "colorbar": {
             "outlinewidth": 0,
             "ticks": ""
            },
            "type": "mesh3d"
           }
          ],
          "parcoords": [
           {
            "line": {
             "colorbar": {
              "outlinewidth": 0,
              "ticks": ""
             }
            },
            "type": "parcoords"
           }
          ],
          "pie": [
           {
            "automargin": true,
            "type": "pie"
           }
          ],
          "scatter": [
           {
            "fillpattern": {
             "fillmode": "overlay",
             "size": 10,
             "solidity": 0.2
            },
            "type": "scatter"
           }
          ],
          "scatter3d": [
           {
            "line": {
             "colorbar": {
              "outlinewidth": 0,
              "ticks": ""
             }
            },
            "marker": {
             "colorbar": {
              "outlinewidth": 0,
              "ticks": ""
             }
            },
            "type": "scatter3d"
           }
          ],
          "scattercarpet": [
           {
            "marker": {
             "colorbar": {
              "outlinewidth": 0,
              "ticks": ""
             }
            },
            "type": "scattercarpet"
           }
          ],
          "scattergeo": [
           {
            "marker": {
             "colorbar": {
              "outlinewidth": 0,
              "ticks": ""
             }
            },
            "type": "scattergeo"
           }
          ],
          "scattergl": [
           {
            "marker": {
             "colorbar": {
              "outlinewidth": 0,
              "ticks": ""
             }
            },
            "type": "scattergl"
           }
          ],
          "scattermapbox": [
           {
            "marker": {
             "colorbar": {
              "outlinewidth": 0,
              "ticks": ""
             }
            },
            "type": "scattermapbox"
           }
          ],
          "scatterpolar": [
           {
            "marker": {
             "colorbar": {
              "outlinewidth": 0,
              "ticks": ""
             }
            },
            "type": "scatterpolar"
           }
          ],
          "scatterpolargl": [
           {
            "marker": {
             "colorbar": {
              "outlinewidth": 0,
              "ticks": ""
             }
            },
            "type": "scatterpolargl"
           }
          ],
          "scatterternary": [
           {
            "marker": {
             "colorbar": {
              "outlinewidth": 0,
              "ticks": ""
             }
            },
            "type": "scatterternary"
           }
          ],
          "surface": [
           {
            "colorbar": {
             "outlinewidth": 0,
             "ticks": ""
            },
            "colorscale": [
             [
              0,
              "#0d0887"
             ],
             [
              0.1111111111111111,
              "#46039f"
             ],
             [
              0.2222222222222222,
              "#7201a8"
             ],
             [
              0.3333333333333333,
              "#9c179e"
             ],
             [
              0.4444444444444444,
              "#bd3786"
             ],
             [
              0.5555555555555556,
              "#d8576b"
             ],
             [
              0.6666666666666666,
              "#ed7953"
             ],
             [
              0.7777777777777778,
              "#fb9f3a"
             ],
             [
              0.8888888888888888,
              "#fdca26"
             ],
             [
              1,
              "#f0f921"
             ]
            ],
            "type": "surface"
           }
          ],
          "table": [
           {
            "cells": {
             "fill": {
              "color": "#EBF0F8"
             },
             "line": {
              "color": "white"
             }
            },
            "header": {
             "fill": {
              "color": "#C8D4E3"
             },
             "line": {
              "color": "white"
             }
            },
            "type": "table"
           }
          ]
         },
         "layout": {
          "annotationdefaults": {
           "arrowcolor": "#2a3f5f",
           "arrowhead": 0,
           "arrowwidth": 1
          },
          "autotypenumbers": "strict",
          "coloraxis": {
           "colorbar": {
            "outlinewidth": 0,
            "ticks": ""
           }
          },
          "colorscale": {
           "diverging": [
            [
             0,
             "#8e0152"
            ],
            [
             0.1,
             "#c51b7d"
            ],
            [
             0.2,
             "#de77ae"
            ],
            [
             0.3,
             "#f1b6da"
            ],
            [
             0.4,
             "#fde0ef"
            ],
            [
             0.5,
             "#f7f7f7"
            ],
            [
             0.6,
             "#e6f5d0"
            ],
            [
             0.7,
             "#b8e186"
            ],
            [
             0.8,
             "#7fbc41"
            ],
            [
             0.9,
             "#4d9221"
            ],
            [
             1,
             "#276419"
            ]
           ],
           "sequential": [
            [
             0,
             "#0d0887"
            ],
            [
             0.1111111111111111,
             "#46039f"
            ],
            [
             0.2222222222222222,
             "#7201a8"
            ],
            [
             0.3333333333333333,
             "#9c179e"
            ],
            [
             0.4444444444444444,
             "#bd3786"
            ],
            [
             0.5555555555555556,
             "#d8576b"
            ],
            [
             0.6666666666666666,
             "#ed7953"
            ],
            [
             0.7777777777777778,
             "#fb9f3a"
            ],
            [
             0.8888888888888888,
             "#fdca26"
            ],
            [
             1,
             "#f0f921"
            ]
           ],
           "sequentialminus": [
            [
             0,
             "#0d0887"
            ],
            [
             0.1111111111111111,
             "#46039f"
            ],
            [
             0.2222222222222222,
             "#7201a8"
            ],
            [
             0.3333333333333333,
             "#9c179e"
            ],
            [
             0.4444444444444444,
             "#bd3786"
            ],
            [
             0.5555555555555556,
             "#d8576b"
            ],
            [
             0.6666666666666666,
             "#ed7953"
            ],
            [
             0.7777777777777778,
             "#fb9f3a"
            ],
            [
             0.8888888888888888,
             "#fdca26"
            ],
            [
             1,
             "#f0f921"
            ]
           ]
          },
          "colorway": [
           "#636efa",
           "#EF553B",
           "#00cc96",
           "#ab63fa",
           "#FFA15A",
           "#19d3f3",
           "#FF6692",
           "#B6E880",
           "#FF97FF",
           "#FECB52"
          ],
          "font": {
           "color": "#2a3f5f"
          },
          "geo": {
           "bgcolor": "white",
           "lakecolor": "white",
           "landcolor": "white",
           "showlakes": true,
           "showland": true,
           "subunitcolor": "#C8D4E3"
          },
          "hoverlabel": {
           "align": "left"
          },
          "hovermode": "closest",
          "mapbox": {
           "style": "light"
          },
          "paper_bgcolor": "white",
          "plot_bgcolor": "white",
          "polar": {
           "angularaxis": {
            "gridcolor": "#EBF0F8",
            "linecolor": "#EBF0F8",
            "ticks": ""
           },
           "bgcolor": "white",
           "radialaxis": {
            "gridcolor": "#EBF0F8",
            "linecolor": "#EBF0F8",
            "ticks": ""
           }
          },
          "scene": {
           "xaxis": {
            "backgroundcolor": "white",
            "gridcolor": "#DFE8F3",
            "gridwidth": 2,
            "linecolor": "#EBF0F8",
            "showbackground": true,
            "ticks": "",
            "zerolinecolor": "#EBF0F8"
           },
           "yaxis": {
            "backgroundcolor": "white",
            "gridcolor": "#DFE8F3",
            "gridwidth": 2,
            "linecolor": "#EBF0F8",
            "showbackground": true,
            "ticks": "",
            "zerolinecolor": "#EBF0F8"
           },
           "zaxis": {
            "backgroundcolor": "white",
            "gridcolor": "#DFE8F3",
            "gridwidth": 2,
            "linecolor": "#EBF0F8",
            "showbackground": true,
            "ticks": "",
            "zerolinecolor": "#EBF0F8"
           }
          },
          "shapedefaults": {
           "line": {
            "color": "#2a3f5f"
           }
          },
          "ternary": {
           "aaxis": {
            "gridcolor": "#DFE8F3",
            "linecolor": "#A2B1C6",
            "ticks": ""
           },
           "baxis": {
            "gridcolor": "#DFE8F3",
            "linecolor": "#A2B1C6",
            "ticks": ""
           },
           "bgcolor": "white",
           "caxis": {
            "gridcolor": "#DFE8F3",
            "linecolor": "#A2B1C6",
            "ticks": ""
           }
          },
          "title": {
           "x": 0.05
          },
          "xaxis": {
           "automargin": true,
           "gridcolor": "#EBF0F8",
           "linecolor": "#EBF0F8",
           "ticks": "",
           "title": {
            "standoff": 15
           },
           "zerolinecolor": "#EBF0F8",
           "zerolinewidth": 2
          },
          "yaxis": {
           "automargin": true,
           "gridcolor": "#EBF0F8",
           "linecolor": "#EBF0F8",
           "ticks": "",
           "title": {
            "standoff": 15
           },
           "zerolinecolor": "#EBF0F8",
           "zerolinewidth": 2
          }
         }
        },
        "title": {
         "text": "Box Plot of Total Price by Weekday"
        },
        "xaxis": {
         "anchor": "y",
         "domain": [
          0,
          1
         ],
         "title": {
          "text": "weekday"
         }
        },
        "yaxis": {
         "anchor": "x",
         "domain": [
          0,
          1
         ],
         "title": {
          "text": "total_price"
         }
        }
       }
      }
     },
     "metadata": {},
     "output_type": "display_data"
    }
   ],
   "source": [
    "# Now let’s have a look at the distribution of total prices by weekday using a box plot:\n",
    "fig = px.box(data, x='weekday', \n",
    "             y='total_price', \n",
    "             title='Box Plot of Total Price by Weekday')\n",
    "fig.show()\n",
    "\n"
   ]
  },
  {
   "cell_type": "code",
   "execution_count": 61,
   "metadata": {},
   "outputs": [
    {
     "data": {
      "application/vnd.plotly.v1+json": {
       "config": {
        "plotlyServerURL": "https://plot.ly"
       },
       "data": [
        {
         "alignmentgroup": "True",
         "hovertemplate": "holiday=%{x}<br>total_price=%{y}<extra></extra>",
         "legendgroup": "",
         "marker": {
          "color": "#636efa"
         },
         "name": "",
         "notched": false,
         "offsetgroup": "",
         "orientation": "v",
         "showlegend": false,
         "type": "box",
         "x": [
          1,
          1,
          1,
          1,
          1,
          2,
          4,
          1,
          2,
          2,
          1,
          1,
          3,
          0,
          1,
          1,
          1,
          2,
          1,
          1,
          1,
          1,
          1,
          2,
          4,
          1,
          2,
          2,
          1,
          1,
          1,
          1,
          1,
          2,
          4,
          1,
          2,
          1,
          1,
          3,
          0,
          1,
          2,
          1,
          1,
          1,
          1,
          2,
          4,
          1,
          2,
          2,
          1,
          1,
          3,
          0,
          1,
          1,
          2,
          1,
          2,
          1,
          1,
          1,
          1,
          1,
          2,
          4,
          1,
          2,
          2,
          1,
          3,
          0,
          1,
          1,
          1,
          1,
          2,
          4,
          1,
          2,
          2,
          1,
          1,
          2,
          2,
          1,
          1,
          3,
          0,
          1,
          1,
          1,
          1,
          1,
          1,
          2,
          4,
          1,
          2,
          2,
          1,
          1,
          1,
          1,
          2,
          1,
          1,
          1,
          1,
          1,
          2,
          4,
          1,
          2,
          2,
          1,
          1,
          1,
          1,
          1,
          1,
          1,
          1,
          2,
          4,
          1,
          2,
          2,
          1,
          1,
          3,
          0,
          1,
          1,
          1,
          1,
          1,
          2,
          4,
          1,
          2,
          2,
          1,
          1,
          3,
          0,
          1,
          1,
          2,
          1,
          2,
          2,
          1,
          1,
          0,
          1,
          1,
          1,
          1,
          1,
          1,
          2,
          4,
          1,
          2,
          2,
          1,
          1,
          3,
          0,
          1,
          1,
          2,
          2,
          1,
          1,
          3,
          0,
          1,
          1,
          2,
          1,
          1,
          3,
          0,
          1,
          1,
          1,
          1,
          1,
          1,
          1,
          2,
          4,
          1,
          2,
          2,
          1,
          1,
          3,
          0,
          1,
          1,
          2,
          1,
          1,
          3,
          0,
          1,
          1,
          1,
          1,
          1,
          1,
          2,
          4,
          1,
          2,
          2,
          1,
          1,
          3,
          0,
          1,
          1,
          1,
          1,
          2,
          4,
          1,
          2,
          2,
          1,
          0,
          2,
          2,
          1,
          2,
          4,
          1,
          2,
          2,
          1,
          1,
          3,
          0,
          1,
          1,
          2,
          1,
          1,
          1,
          1,
          1,
          2,
          4,
          1,
          2,
          2,
          1,
          1,
          3,
          0,
          1,
          1,
          1,
          1,
          1,
          1,
          2,
          4,
          1,
          2,
          1,
          1,
          3,
          0,
          1,
          1,
          1,
          2,
          1,
          1,
          3,
          0,
          1,
          1,
          1,
          2,
          4,
          1,
          2,
          2,
          1,
          1,
          3,
          0,
          1,
          1,
          1,
          2,
          1,
          1,
          1,
          1,
          2,
          4,
          1,
          2,
          2,
          1,
          1,
          1,
          1,
          1,
          1,
          1,
          2,
          4,
          1,
          2,
          2,
          1,
          1,
          0,
          1,
          1,
          1,
          1,
          1,
          2,
          4,
          1,
          2,
          2,
          1,
          1,
          1,
          2,
          1,
          2,
          1,
          1,
          1,
          1,
          1,
          2,
          4,
          1,
          2,
          2,
          1,
          1,
          3,
          0,
          1,
          1,
          1,
          2,
          2,
          2,
          1,
          1,
          3,
          0,
          1,
          1,
          4,
          1,
          2,
          2,
          1,
          1,
          3,
          0,
          1,
          1,
          1,
          1,
          2,
          4,
          1,
          2,
          2,
          1,
          1,
          3,
          1,
          2,
          1,
          2,
          1,
          1,
          1,
          1,
          1,
          2,
          4,
          1,
          2,
          2,
          1,
          1,
          3,
          0,
          1,
          1,
          2,
          4,
          1,
          2,
          2,
          1,
          1,
          3,
          0,
          1,
          1,
          2,
          1,
          2,
          1,
          1,
          1,
          1,
          2,
          4,
          1,
          2,
          2,
          1,
          1,
          3,
          0,
          1,
          1,
          2,
          1,
          2,
          1,
          1,
          1,
          1,
          1,
          2,
          4,
          1,
          2,
          2,
          1,
          1,
          3,
          0,
          1,
          1,
          1,
          1,
          2,
          4,
          1,
          2,
          2,
          1,
          1,
          3,
          0,
          1,
          4,
          1,
          2,
          2,
          1,
          1,
          3,
          0,
          1,
          1,
          1,
          1,
          1,
          1,
          2,
          4,
          1,
          2,
          2,
          1,
          1,
          3,
          0,
          1,
          1,
          1,
          1,
          2,
          4,
          1,
          2,
          2,
          1,
          1,
          3,
          0,
          1,
          1,
          2,
          1,
          1,
          1,
          1,
          1,
          2,
          4,
          1,
          2,
          2,
          1,
          1,
          3,
          0,
          1,
          1,
          1,
          1,
          1,
          2,
          4,
          2,
          2,
          1,
          1,
          3,
          0,
          1,
          1,
          1,
          1,
          2,
          4,
          1,
          2,
          2,
          1,
          1,
          3,
          0,
          1,
          1,
          2,
          1,
          1,
          1,
          1,
          1,
          1,
          2,
          4,
          1,
          2,
          2,
          1,
          1,
          3,
          0,
          1,
          1,
          2,
          1,
          2,
          1,
          1,
          1,
          1,
          1,
          2,
          4,
          1,
          2,
          2,
          1,
          1,
          2,
          1,
          2,
          1,
          1,
          1,
          1,
          2,
          4,
          1,
          2,
          2,
          1,
          1,
          3,
          0,
          1,
          1,
          1,
          1,
          2,
          4,
          1,
          2,
          2,
          1,
          1,
          3,
          0,
          1,
          1,
          1,
          1,
          1,
          1,
          2,
          4,
          1,
          2,
          2,
          2,
          4,
          1,
          2,
          2,
          1,
          1,
          3,
          0,
          1,
          1,
          1,
          2,
          1,
          1,
          1,
          1,
          2,
          4,
          1,
          2,
          2,
          1,
          1,
          3,
          0,
          1,
          1,
          4,
          1,
          2,
          2,
          1,
          1,
          3,
          0,
          1,
          1,
          2,
          4,
          1,
          2,
          2,
          1,
          1,
          3,
          0,
          1,
          1,
          1,
          1,
          1,
          1
         ],
         "x0": " ",
         "xaxis": "x",
         "y": [
          45.95,
          137.85,
          275.7,
          183.8,
          91.9,
          137.85,
          445.85,
          239.94,
          759.81,
          719.82,
          679.83,
          519.87,
          759.81,
          199.95,
          319.92,
          313.92,
          419.4,
          247.9,
          1956,
          712,
          890,
          683,
          891,
          1386,
          1683,
          1089,
          398,
          202,
          101,
          101,
          258.7,
          477.6,
          179.1,
          603.2,
          686,
          392,
          162.5,
          195,
          245.4,
          108.6,
          72.4,
          36.2,
          59.9,
          59.9,
          239.6,
          359.4,
          299.5,
          658.9,
          1043.6,
          571.8,
          548.9,
          411.2,
          161.7,
          431.2,
          477.1,
          249.5,
          299.4,
          349.3,
          219.89,
          179.91,
          259.87,
          319.84,
          419.79,
          579.71,
          651.72,
          575.76,
          647.73,
          671.72,
          455.81,
          455.81,
          335.86,
          191.92,
          167.93,
          71.97,
          71.97,
          47.98,
          134.99,
          134.99,
          1763.88,
          4248.73,
          4842.71,
          2170.87,
          1415.92,
          1911.89,
          1019.94,
          110.99,
          221.98,
          998.91,
          1514.87,
          2759.77,
          5288.57,
          4058.67,
          3935.68,
          227.96,
          398.93,
          398.93,
          968.83,
          968.83,
          1139.8,
          1367.76,
          569.9,
          227.96,
          706.86,
          99.98,
          399.92,
          199.96,
          199.98,
          1799.82,
          1099.89,
          1399.86,
          799.92,
          599.94,
          899.91,
          199.98,
          299.97,
          599.94,
          899.91,
          489.76,
          338.77,
          539.94,
          539.94,
          809.91,
          1529.83,
          1619.82,
          1889.79,
          2159.76,
          2339.74,
          1709.81,
          1799.8,
          1529.83,
          1339.84,
          1119.86,
          1279.84,
          1039.87,
          799.9,
          579.75,
          778.7,
          1377.7,
          778.7,
          2156.4,
          3711.7,
          2468.6,
          1946.1,
          2411.2,
          1401.4,
          1509.2,
          1319.5,
          748.5,
          149.7,
          299.4,
          167,
          239.8,
          5453.96,
          3465.8,
          528,
          880,
          269.7,
          236.7,
          179.7,
          179.7,
          1138.1,
          1617.3,
          1018.3,
          1856.9,
          4712.19,
          1769.7,
          1447.1,
          1828.4,
          1886.5,
          700.7,
          1559.1,
          299.4,
          698.6,
          499,
          3307.8,
          10343.1,
          7644.9,
          5246.5,
          7794.8,
          4047.3,
          1948.7,
          749.5,
          185.97,
          805.87,
          974.85,
          2469.62,
          1741.74,
          1808.73,
          1875.72,
          239.6,
          59.9,
          838.6,
          2336.1,
          2216.3,
          2336.1,
          4769.7,
          2881.6,
          598.8,
          1970.1,
          1670.9,
          2479.4,
          2982.4,
          598.8,
          299.46,
          299.46,
          994.04,
          2809.65,
          965.91,
          1723.08,
          449.82,
          257.56,
          557.85,
          789.95,
          1016.95,
          849.5,
          1604,
          2391.6,
          3660,
          894,
          1188,
          2043.92,
          1115.7,
          1191.9,
          2598.9,
          139.9,
          694.9,
          414,
          254.97,
          339.96,
          254.97,
          3059.64,
          4249.5,
          1104.87,
          594.93,
          339.96,
          169.98,
          179.99,
          539.97,
          359.98,
          1079.94,
          2339.87,
          2759.85,
          2629.96,
          2148,
          2277,
          1969,
          537,
          1590,
          1112,
          973,
          179.7,
          419.3,
          239.6,
          1138.1,
          1257.9,
          1377.7,
          1138.1,
          4397.7,
          2232.6,
          1247.5,
          2247.6,
          1347.5,
          1078,
          888.3,
          399.2,
          449.1,
          349.3,
          652,
          1777.5,
          2088.7,
          2762.5,
          134.9,
          1995,
          596,
          769.45,
          3640.68,
          8961.49,
          11820.2,
          1071,
          1302,
          112,
          29.5,
          2242,
          910,
          140,
          140,
          130,
          65,
          142.5,
          142.5,
          285,
          944.4,
          1416,
          707.4,
          1296.8,
          470.8,
          943.8,
          2038.3,
          1668.5,
          593.5,
          1987.4,
          1039.92,
          1819.86,
          2339.82,
          2209.83,
          2079.84,
          1870.84,
          1199.9,
          1169.91,
          389.97,
          519.96,
          259.98,
          129.99,
          129.99,
          379.6,
          611.4,
          1099,
          219.8,
          395.6,
          395.6,
          593.4,
          98.9,
          2795.14,
          2537.19,
          1139.8,
          470,
          292,
          1199.48,
          79.9,
          19.9,
          218.9,
          179.1,
          248,
          563.5,
          416.5,
          271.2,
          32.5,
          229.2,
          205.2,
          2799.2,
          1399.6,
          699.8,
          349.9,
          1399.6,
          699.8,
          349.9,
          2449.3,
          2449.3,
          3499,
          3543.5,
          2449.3,
          4198.8,
          5248.5,
          5948.3,
          2449.3,
          3513.1,
          4004,
          4004,
          3276,
          479.8,
          479.8,
          459.8,
          2250.8,
          2680,
          3908.9,
          4355,
          457.9,
          2200,
          1737.4,
          99.9,
          299.7,
          1298.7,
          1298.7,
          1198.8,
          1298.7,
          1298.7,
          999,
          1099.5,
          754.5,
          1839.2,
          2190.6,
          1729.2,
          2395.2,
          6287.2,
          2207.7,
          4319.4,
          3459,
          2657,
          3383,
          64.99,
          324.95,
          584.91,
          584.91,
          1039.84,
          1234.79,
          888.85,
          1297.78,
          1474.75,
          1120.81,
          1415.76,
          530.91,
          353.94,
          825.86,
          589.9,
          648.89,
          235.96,
          353.94,
          117.98,
          176.97,
          792,
          2178,
          693,
          1082,
          1196,
          276,
          815,
          1235.36,
          1188.6,
          764.1,
          84.9,
          99.99,
          1099.89,
          759.92,
          219.98,
          239.98,
          240,
          417,
          1105.92,
          1889.79,
          1259.86,
          1479.98,
          1680,
          680,
          770,
          880,
          969.9,
          499.95,
          199.98,
          179.8,
          1977.8,
          3056.6,
          5214.2,
          4584.9,
          5394,
          3326.3,
          2067.7,
          1258.6,
          3596,
          1594.2,
          1477.3,
          1911.8,
          1477.3,
          510.27,
          2174.89,
          1837.7,
          781.3,
          518,
          38.4,
          230.4,
          307.2,
          1170.35,
          153.6,
          576,
          153.6,
          493.4,
          140,
          140,
          70,
          35,
          1404,
          1404,
          4752,
          3564,
          2214,
          2205,
          3885,
          2940,
          840,
          735,
          78,
          234,
          78,
          390,
          234,
          156,
          468,
          702,
          78,
          78,
          1248,
          390,
          3042,
          3120,
          2179,
          375,
          975,
          375,
          3300,
          3525,
          8538,
          3075.6,
          4543.5,
          5801.7,
          6430.8,
          179.8,
          179.8,
          309.7,
          299.5,
          119.8,
          299.5,
          898.5,
          1138.1,
          2036.6,
          778.7,
          495.5,
          49.9,
          49.9,
          203.6,
          107.8,
          107.8,
          199.6,
          249.5,
          149.7,
          149.7,
          38.4,
          307.2,
          460.8,
          960,
          1026.51,
          76.8,
          345.6,
          601.8,
          595,
          385,
          455,
          350,
          560,
          1950,
          3575,
          650,
          3900,
          1950,
          3250,
          7475,
          9125,
          6930,
          6270,
          5280,
          4290,
          9240,
          99.99,
          499.95,
          439.96,
          659.94,
          120,
          240,
          735,
          1619.93,
          2519.72,
          2429.73,
          1405,
          840,
          660,
          550,
          220,
          539.94,
          699.93,
          589.94,
          599.93,
          1399.86,
          1699.83,
          2199.78,
          1399.86,
          1099.89,
          1399.86,
          299.97,
          199.98,
          399.96,
          299.97,
          299.97,
          99.99,
          199.98,
          269.59,
          479.97,
          479.97,
          699.95,
          479.97,
          839.94,
          1019.93,
          1679.89,
          2629.83,
          2699.82,
          3449.77,
          6746.9,
          4619,
          5986,
          6764,
          2975,
          3086.76,
          1079.91,
          1199.9,
          678,
          339,
          3461.58,
          3111.36,
          3836.8,
          339.9,
          1735,
          1847,
          1684,
          5956.3,
          983.6,
          7651.27,
          2715.7,
          2247.72,
          584.77,
          1884.45,
          1656.87,
          2206.4,
          2482.2,
          269.8,
          665,
          398.91,
          29.9,
          179.4,
          179.4,
          448.5,
          478.4,
          328.9,
          657.8,
          657.8,
          209.3,
          538.2,
          388.7,
          1205.03,
          766.83,
          925,
          1973.83,
          2698.5,
          3291.4,
          929.96,
          3139.8,
          929.8,
          398,
          1092,
          4860.11,
          1351.2,
          4241,
          2073.3,
          310,
          1601.06,
          109.9,
          1318.8,
          2831.55,
          5581.8,
          2187.3,
          1042.9,
          876.9,
          789,
          545.3,
          155.8,
          1331.1,
          1421.67,
          550.8,
          872.1,
          734.4,
          383.2,
          335.3,
          95.8,
          191.6,
          95.8,
          215,
          2090,
          12095,
          10375,
          5222.36
         ],
         "y0": " ",
         "yaxis": "y"
        }
       ],
       "layout": {
        "boxmode": "group",
        "legend": {
         "tracegroupgap": 0
        },
        "template": {
         "data": {
          "bar": [
           {
            "error_x": {
             "color": "#2a3f5f"
            },
            "error_y": {
             "color": "#2a3f5f"
            },
            "marker": {
             "line": {
              "color": "white",
              "width": 0.5
             },
             "pattern": {
              "fillmode": "overlay",
              "size": 10,
              "solidity": 0.2
             }
            },
            "type": "bar"
           }
          ],
          "barpolar": [
           {
            "marker": {
             "line": {
              "color": "white",
              "width": 0.5
             },
             "pattern": {
              "fillmode": "overlay",
              "size": 10,
              "solidity": 0.2
             }
            },
            "type": "barpolar"
           }
          ],
          "carpet": [
           {
            "aaxis": {
             "endlinecolor": "#2a3f5f",
             "gridcolor": "#C8D4E3",
             "linecolor": "#C8D4E3",
             "minorgridcolor": "#C8D4E3",
             "startlinecolor": "#2a3f5f"
            },
            "baxis": {
             "endlinecolor": "#2a3f5f",
             "gridcolor": "#C8D4E3",
             "linecolor": "#C8D4E3",
             "minorgridcolor": "#C8D4E3",
             "startlinecolor": "#2a3f5f"
            },
            "type": "carpet"
           }
          ],
          "choropleth": [
           {
            "colorbar": {
             "outlinewidth": 0,
             "ticks": ""
            },
            "type": "choropleth"
           }
          ],
          "contour": [
           {
            "colorbar": {
             "outlinewidth": 0,
             "ticks": ""
            },
            "colorscale": [
             [
              0,
              "#0d0887"
             ],
             [
              0.1111111111111111,
              "#46039f"
             ],
             [
              0.2222222222222222,
              "#7201a8"
             ],
             [
              0.3333333333333333,
              "#9c179e"
             ],
             [
              0.4444444444444444,
              "#bd3786"
             ],
             [
              0.5555555555555556,
              "#d8576b"
             ],
             [
              0.6666666666666666,
              "#ed7953"
             ],
             [
              0.7777777777777778,
              "#fb9f3a"
             ],
             [
              0.8888888888888888,
              "#fdca26"
             ],
             [
              1,
              "#f0f921"
             ]
            ],
            "type": "contour"
           }
          ],
          "contourcarpet": [
           {
            "colorbar": {
             "outlinewidth": 0,
             "ticks": ""
            },
            "type": "contourcarpet"
           }
          ],
          "heatmap": [
           {
            "colorbar": {
             "outlinewidth": 0,
             "ticks": ""
            },
            "colorscale": [
             [
              0,
              "#0d0887"
             ],
             [
              0.1111111111111111,
              "#46039f"
             ],
             [
              0.2222222222222222,
              "#7201a8"
             ],
             [
              0.3333333333333333,
              "#9c179e"
             ],
             [
              0.4444444444444444,
              "#bd3786"
             ],
             [
              0.5555555555555556,
              "#d8576b"
             ],
             [
              0.6666666666666666,
              "#ed7953"
             ],
             [
              0.7777777777777778,
              "#fb9f3a"
             ],
             [
              0.8888888888888888,
              "#fdca26"
             ],
             [
              1,
              "#f0f921"
             ]
            ],
            "type": "heatmap"
           }
          ],
          "heatmapgl": [
           {
            "colorbar": {
             "outlinewidth": 0,
             "ticks": ""
            },
            "colorscale": [
             [
              0,
              "#0d0887"
             ],
             [
              0.1111111111111111,
              "#46039f"
             ],
             [
              0.2222222222222222,
              "#7201a8"
             ],
             [
              0.3333333333333333,
              "#9c179e"
             ],
             [
              0.4444444444444444,
              "#bd3786"
             ],
             [
              0.5555555555555556,
              "#d8576b"
             ],
             [
              0.6666666666666666,
              "#ed7953"
             ],
             [
              0.7777777777777778,
              "#fb9f3a"
             ],
             [
              0.8888888888888888,
              "#fdca26"
             ],
             [
              1,
              "#f0f921"
             ]
            ],
            "type": "heatmapgl"
           }
          ],
          "histogram": [
           {
            "marker": {
             "pattern": {
              "fillmode": "overlay",
              "size": 10,
              "solidity": 0.2
             }
            },
            "type": "histogram"
           }
          ],
          "histogram2d": [
           {
            "colorbar": {
             "outlinewidth": 0,
             "ticks": ""
            },
            "colorscale": [
             [
              0,
              "#0d0887"
             ],
             [
              0.1111111111111111,
              "#46039f"
             ],
             [
              0.2222222222222222,
              "#7201a8"
             ],
             [
              0.3333333333333333,
              "#9c179e"
             ],
             [
              0.4444444444444444,
              "#bd3786"
             ],
             [
              0.5555555555555556,
              "#d8576b"
             ],
             [
              0.6666666666666666,
              "#ed7953"
             ],
             [
              0.7777777777777778,
              "#fb9f3a"
             ],
             [
              0.8888888888888888,
              "#fdca26"
             ],
             [
              1,
              "#f0f921"
             ]
            ],
            "type": "histogram2d"
           }
          ],
          "histogram2dcontour": [
           {
            "colorbar": {
             "outlinewidth": 0,
             "ticks": ""
            },
            "colorscale": [
             [
              0,
              "#0d0887"
             ],
             [
              0.1111111111111111,
              "#46039f"
             ],
             [
              0.2222222222222222,
              "#7201a8"
             ],
             [
              0.3333333333333333,
              "#9c179e"
             ],
             [
              0.4444444444444444,
              "#bd3786"
             ],
             [
              0.5555555555555556,
              "#d8576b"
             ],
             [
              0.6666666666666666,
              "#ed7953"
             ],
             [
              0.7777777777777778,
              "#fb9f3a"
             ],
             [
              0.8888888888888888,
              "#fdca26"
             ],
             [
              1,
              "#f0f921"
             ]
            ],
            "type": "histogram2dcontour"
           }
          ],
          "mesh3d": [
           {
            "colorbar": {
             "outlinewidth": 0,
             "ticks": ""
            },
            "type": "mesh3d"
           }
          ],
          "parcoords": [
           {
            "line": {
             "colorbar": {
              "outlinewidth": 0,
              "ticks": ""
             }
            },
            "type": "parcoords"
           }
          ],
          "pie": [
           {
            "automargin": true,
            "type": "pie"
           }
          ],
          "scatter": [
           {
            "fillpattern": {
             "fillmode": "overlay",
             "size": 10,
             "solidity": 0.2
            },
            "type": "scatter"
           }
          ],
          "scatter3d": [
           {
            "line": {
             "colorbar": {
              "outlinewidth": 0,
              "ticks": ""
             }
            },
            "marker": {
             "colorbar": {
              "outlinewidth": 0,
              "ticks": ""
             }
            },
            "type": "scatter3d"
           }
          ],
          "scattercarpet": [
           {
            "marker": {
             "colorbar": {
              "outlinewidth": 0,
              "ticks": ""
             }
            },
            "type": "scattercarpet"
           }
          ],
          "scattergeo": [
           {
            "marker": {
             "colorbar": {
              "outlinewidth": 0,
              "ticks": ""
             }
            },
            "type": "scattergeo"
           }
          ],
          "scattergl": [
           {
            "marker": {
             "colorbar": {
              "outlinewidth": 0,
              "ticks": ""
             }
            },
            "type": "scattergl"
           }
          ],
          "scattermapbox": [
           {
            "marker": {
             "colorbar": {
              "outlinewidth": 0,
              "ticks": ""
             }
            },
            "type": "scattermapbox"
           }
          ],
          "scatterpolar": [
           {
            "marker": {
             "colorbar": {
              "outlinewidth": 0,
              "ticks": ""
             }
            },
            "type": "scatterpolar"
           }
          ],
          "scatterpolargl": [
           {
            "marker": {
             "colorbar": {
              "outlinewidth": 0,
              "ticks": ""
             }
            },
            "type": "scatterpolargl"
           }
          ],
          "scatterternary": [
           {
            "marker": {
             "colorbar": {
              "outlinewidth": 0,
              "ticks": ""
             }
            },
            "type": "scatterternary"
           }
          ],
          "surface": [
           {
            "colorbar": {
             "outlinewidth": 0,
             "ticks": ""
            },
            "colorscale": [
             [
              0,
              "#0d0887"
             ],
             [
              0.1111111111111111,
              "#46039f"
             ],
             [
              0.2222222222222222,
              "#7201a8"
             ],
             [
              0.3333333333333333,
              "#9c179e"
             ],
             [
              0.4444444444444444,
              "#bd3786"
             ],
             [
              0.5555555555555556,
              "#d8576b"
             ],
             [
              0.6666666666666666,
              "#ed7953"
             ],
             [
              0.7777777777777778,
              "#fb9f3a"
             ],
             [
              0.8888888888888888,
              "#fdca26"
             ],
             [
              1,
              "#f0f921"
             ]
            ],
            "type": "surface"
           }
          ],
          "table": [
           {
            "cells": {
             "fill": {
              "color": "#EBF0F8"
             },
             "line": {
              "color": "white"
             }
            },
            "header": {
             "fill": {
              "color": "#C8D4E3"
             },
             "line": {
              "color": "white"
             }
            },
            "type": "table"
           }
          ]
         },
         "layout": {
          "annotationdefaults": {
           "arrowcolor": "#2a3f5f",
           "arrowhead": 0,
           "arrowwidth": 1
          },
          "autotypenumbers": "strict",
          "coloraxis": {
           "colorbar": {
            "outlinewidth": 0,
            "ticks": ""
           }
          },
          "colorscale": {
           "diverging": [
            [
             0,
             "#8e0152"
            ],
            [
             0.1,
             "#c51b7d"
            ],
            [
             0.2,
             "#de77ae"
            ],
            [
             0.3,
             "#f1b6da"
            ],
            [
             0.4,
             "#fde0ef"
            ],
            [
             0.5,
             "#f7f7f7"
            ],
            [
             0.6,
             "#e6f5d0"
            ],
            [
             0.7,
             "#b8e186"
            ],
            [
             0.8,
             "#7fbc41"
            ],
            [
             0.9,
             "#4d9221"
            ],
            [
             1,
             "#276419"
            ]
           ],
           "sequential": [
            [
             0,
             "#0d0887"
            ],
            [
             0.1111111111111111,
             "#46039f"
            ],
            [
             0.2222222222222222,
             "#7201a8"
            ],
            [
             0.3333333333333333,
             "#9c179e"
            ],
            [
             0.4444444444444444,
             "#bd3786"
            ],
            [
             0.5555555555555556,
             "#d8576b"
            ],
            [
             0.6666666666666666,
             "#ed7953"
            ],
            [
             0.7777777777777778,
             "#fb9f3a"
            ],
            [
             0.8888888888888888,
             "#fdca26"
            ],
            [
             1,
             "#f0f921"
            ]
           ],
           "sequentialminus": [
            [
             0,
             "#0d0887"
            ],
            [
             0.1111111111111111,
             "#46039f"
            ],
            [
             0.2222222222222222,
             "#7201a8"
            ],
            [
             0.3333333333333333,
             "#9c179e"
            ],
            [
             0.4444444444444444,
             "#bd3786"
            ],
            [
             0.5555555555555556,
             "#d8576b"
            ],
            [
             0.6666666666666666,
             "#ed7953"
            ],
            [
             0.7777777777777778,
             "#fb9f3a"
            ],
            [
             0.8888888888888888,
             "#fdca26"
            ],
            [
             1,
             "#f0f921"
            ]
           ]
          },
          "colorway": [
           "#636efa",
           "#EF553B",
           "#00cc96",
           "#ab63fa",
           "#FFA15A",
           "#19d3f3",
           "#FF6692",
           "#B6E880",
           "#FF97FF",
           "#FECB52"
          ],
          "font": {
           "color": "#2a3f5f"
          },
          "geo": {
           "bgcolor": "white",
           "lakecolor": "white",
           "landcolor": "white",
           "showlakes": true,
           "showland": true,
           "subunitcolor": "#C8D4E3"
          },
          "hoverlabel": {
           "align": "left"
          },
          "hovermode": "closest",
          "mapbox": {
           "style": "light"
          },
          "paper_bgcolor": "white",
          "plot_bgcolor": "white",
          "polar": {
           "angularaxis": {
            "gridcolor": "#EBF0F8",
            "linecolor": "#EBF0F8",
            "ticks": ""
           },
           "bgcolor": "white",
           "radialaxis": {
            "gridcolor": "#EBF0F8",
            "linecolor": "#EBF0F8",
            "ticks": ""
           }
          },
          "scene": {
           "xaxis": {
            "backgroundcolor": "white",
            "gridcolor": "#DFE8F3",
            "gridwidth": 2,
            "linecolor": "#EBF0F8",
            "showbackground": true,
            "ticks": "",
            "zerolinecolor": "#EBF0F8"
           },
           "yaxis": {
            "backgroundcolor": "white",
            "gridcolor": "#DFE8F3",
            "gridwidth": 2,
            "linecolor": "#EBF0F8",
            "showbackground": true,
            "ticks": "",
            "zerolinecolor": "#EBF0F8"
           },
           "zaxis": {
            "backgroundcolor": "white",
            "gridcolor": "#DFE8F3",
            "gridwidth": 2,
            "linecolor": "#EBF0F8",
            "showbackground": true,
            "ticks": "",
            "zerolinecolor": "#EBF0F8"
           }
          },
          "shapedefaults": {
           "line": {
            "color": "#2a3f5f"
           }
          },
          "ternary": {
           "aaxis": {
            "gridcolor": "#DFE8F3",
            "linecolor": "#A2B1C6",
            "ticks": ""
           },
           "baxis": {
            "gridcolor": "#DFE8F3",
            "linecolor": "#A2B1C6",
            "ticks": ""
           },
           "bgcolor": "white",
           "caxis": {
            "gridcolor": "#DFE8F3",
            "linecolor": "#A2B1C6",
            "ticks": ""
           }
          },
          "title": {
           "x": 0.05
          },
          "xaxis": {
           "automargin": true,
           "gridcolor": "#EBF0F8",
           "linecolor": "#EBF0F8",
           "ticks": "",
           "title": {
            "standoff": 15
           },
           "zerolinecolor": "#EBF0F8",
           "zerolinewidth": 2
          },
          "yaxis": {
           "automargin": true,
           "gridcolor": "#EBF0F8",
           "linecolor": "#EBF0F8",
           "ticks": "",
           "title": {
            "standoff": 15
           },
           "zerolinecolor": "#EBF0F8",
           "zerolinewidth": 2
          }
         }
        },
        "title": {
         "text": "Box Plot of Total Price by Holiday"
        },
        "xaxis": {
         "anchor": "y",
         "domain": [
          0,
          1
         ],
         "title": {
          "text": "holiday"
         }
        },
        "yaxis": {
         "anchor": "x",
         "domain": [
          0,
          1
         ],
         "title": {
          "text": "total_price"
         }
        }
       }
      }
     },
     "metadata": {},
     "output_type": "display_data"
    }
   ],
   "source": [
    "# Now let’s have a look at the distribution of total prices by holiday using a box plot:\n",
    "fig = px.box(data, x='holiday', \n",
    "             y='total_price', \n",
    "             title='Box Plot of Total Price by Holiday')\n",
    "fig.show()"
   ]
  },
  {
   "cell_type": "code",
   "execution_count": 62,
   "metadata": {},
   "outputs": [
    {
     "name": "stdout",
     "output_type": "stream",
     "text": [
      "Non-numeric columns: ['product_id', 'product_category_name', 'month_year']\n",
      "                            product_id  product_category_name  month_year  \\\n",
      "product_id                         NaN                    NaN         NaN   \n",
      "product_category_name              NaN                    NaN         NaN   \n",
      "month_year                         NaN                    NaN         NaN   \n",
      "qty                                NaN                    NaN         NaN   \n",
      "total_price                        NaN                    NaN         NaN   \n",
      "freight_price                      NaN                    NaN         NaN   \n",
      "unit_price                         NaN                    NaN         NaN   \n",
      "product_name_lenght                NaN                    NaN         NaN   \n",
      "product_description_lenght         NaN                    NaN         NaN   \n",
      "product_photos_qty                 NaN                    NaN         NaN   \n",
      "product_weight_g                   NaN                    NaN         NaN   \n",
      "product_score                      NaN                    NaN         NaN   \n",
      "customers                          NaN                    NaN         NaN   \n",
      "weekday                            NaN                    NaN         NaN   \n",
      "weekend                            NaN                    NaN         NaN   \n",
      "holiday                            NaN                    NaN         NaN   \n",
      "month                              NaN                    NaN         NaN   \n",
      "year                               NaN                    NaN         NaN   \n",
      "s                                  NaN                    NaN         NaN   \n",
      "volume                             NaN                    NaN         NaN   \n",
      "comp_1                             NaN                    NaN         NaN   \n",
      "ps1                                NaN                    NaN         NaN   \n",
      "fp1                                NaN                    NaN         NaN   \n",
      "comp_2                             NaN                    NaN         NaN   \n",
      "ps2                                NaN                    NaN         NaN   \n",
      "fp2                                NaN                    NaN         NaN   \n",
      "comp_3                             NaN                    NaN         NaN   \n",
      "ps3                                NaN                    NaN         NaN   \n",
      "fp3                                NaN                    NaN         NaN   \n",
      "lag_price                          NaN                    NaN         NaN   \n",
      "\n",
      "                                 qty  total_price  freight_price  unit_price  \\\n",
      "product_id                       NaN          NaN            NaN         NaN   \n",
      "product_category_name            NaN          NaN            NaN         NaN   \n",
      "month_year                       NaN          NaN            NaN         NaN   \n",
      "qty                         1.000000     0.749605      -0.135521   -0.103432   \n",
      "total_price                 0.749605     1.000000       0.025848    0.409001   \n",
      "freight_price              -0.135521     0.025848       1.000000    0.203659   \n",
      "unit_price                 -0.103432     0.409001       0.203659    1.000000   \n",
      "product_name_lenght         0.079973    -0.002594       0.013398   -0.170613   \n",
      "product_description_lenght -0.022749     0.175376       0.423219    0.280176   \n",
      "product_photos_qty          0.128515     0.157945      -0.200990    0.076990   \n",
      "product_weight_g           -0.034301     0.060092       0.670689    0.112958   \n",
      "product_score              -0.004028     0.036119       0.199468    0.042162   \n",
      "customers                   0.441547     0.386389       0.088261    0.043391   \n",
      "weekday                     0.030918     0.018798      -0.016132   -0.011949   \n",
      "weekend                    -0.075118    -0.053788       0.030275   -0.000042   \n",
      "holiday                     0.211610     0.136558      -0.081518    0.012573   \n",
      "month                      -0.005129    -0.029918      -0.028336   -0.004249   \n",
      "year                        0.058562     0.082140       0.076595   -0.068072   \n",
      "s                           0.411001     0.334500      -0.109359   -0.016552   \n",
      "volume                      0.049827    -0.088726       0.122097   -0.197233   \n",
      "comp_1                     -0.033570     0.144426      -0.013969    0.317113   \n",
      "ps1                        -0.047883     0.058941      -0.053927    0.197425   \n",
      "fp1                        -0.053477    -0.006729       0.306479   -0.004518   \n",
      "comp_2                     -0.027044     0.203050      -0.084208    0.466459   \n",
      "ps2                         0.036633     0.113178       0.168881    0.085436   \n",
      "fp2                        -0.069855    -0.001240       0.484647    0.026601   \n",
      "comp_3                     -0.068522     0.121114      -0.089285    0.383780   \n",
      "ps3                        -0.074466    -0.240526       0.054627   -0.242111   \n",
      "fp3                        -0.086439    -0.077442       0.412115    0.019461   \n",
      "lag_price                  -0.085885     0.426256       0.201143    0.994453   \n",
      "\n",
      "                            product_name_lenght  product_description_lenght  \\\n",
      "product_id                                  NaN                         NaN   \n",
      "product_category_name                       NaN                         NaN   \n",
      "month_year                                  NaN                         NaN   \n",
      "qty                                    0.079973                   -0.022749   \n",
      "total_price                           -0.002594                    0.175376   \n",
      "freight_price                          0.013398                    0.423219   \n",
      "unit_price                            -0.170613                    0.280176   \n",
      "product_name_lenght                    1.000000                    0.124510   \n",
      "product_description_lenght             0.124510                    1.000000   \n",
      "product_photos_qty                     0.131951                    0.060124   \n",
      "product_weight_g                      -0.044050                    0.386973   \n",
      "product_score                          0.163520                    0.187544   \n",
      "customers                              0.082239                    0.067497   \n",
      "weekday                                0.023797                   -0.019320   \n",
      "weekend                               -0.018183                   -0.012465   \n",
      "holiday                               -0.014317                    0.018342   \n",
      "month                                 -0.004250                   -0.029561   \n",
      "year                                  -0.035479                    0.030949   \n",
      "s                                     -0.080830                    0.001335   \n",
      "volume                                 0.329476                   -0.141580   \n",
      "comp_1                                -0.344125                   -0.004371   \n",
      "ps1                                    0.019053                    0.188601   \n",
      "fp1                                   -0.079388                    0.031771   \n",
      "comp_2                                -0.240613                    0.015030   \n",
      "ps2                                   -0.055069                    0.162777   \n",
      "fp2                                    0.016903                    0.155763   \n",
      "comp_3                                -0.382787                    0.043880   \n",
      "ps3                                    0.117217                    0.048146   \n",
      "fp3                                   -0.001470                    0.186760   \n",
      "lag_price                             -0.174862                    0.273883   \n",
      "\n",
      "                            product_photos_qty  ...    comp_1       ps1  \\\n",
      "product_id                                 NaN  ...       NaN       NaN   \n",
      "product_category_name                      NaN  ...       NaN       NaN   \n",
      "month_year                                 NaN  ...       NaN       NaN   \n",
      "qty                                   0.128515  ... -0.033570 -0.047883   \n",
      "total_price                           0.157945  ...  0.144426  0.058941   \n",
      "freight_price                        -0.200990  ... -0.013969 -0.053927   \n",
      "unit_price                            0.076990  ...  0.317113  0.197425   \n",
      "product_name_lenght                   0.131951  ... -0.344125  0.019053   \n",
      "product_description_lenght            0.060124  ... -0.004371  0.188601   \n",
      "product_photos_qty                    1.000000  ... -0.045398 -0.005677   \n",
      "product_weight_g                     -0.129291  ...  0.064330 -0.241861   \n",
      "product_score                         0.048286  ... -0.215284  0.297746   \n",
      "customers                            -0.022536  ... -0.177735  0.077314   \n",
      "weekday                               0.022311  ... -0.037059 -0.021013   \n",
      "weekend                               0.008326  ...  0.030057  0.000638   \n",
      "holiday                              -0.008898  ... -0.002969 -0.000805   \n",
      "month                                 0.041728  ... -0.036517  0.029171   \n",
      "year                                  0.033602  ... -0.061580  0.019228   \n",
      "s                                     0.083799  ...  0.058075  0.017218   \n",
      "volume                               -0.153538  ... -0.146864 -0.345837   \n",
      "comp_1                               -0.045398  ...  1.000000 -0.187297   \n",
      "ps1                                  -0.005677  ... -0.187297  1.000000   \n",
      "fp1                                  -0.194512  ...  0.401177 -0.031973   \n",
      "comp_2                               -0.133835  ...  0.532859  0.162475   \n",
      "ps2                                  -0.042817  ...  0.040917  0.283570   \n",
      "fp2                                  -0.158749  ...  0.253416 -0.027128   \n",
      "comp_3                               -0.000661  ...  0.650433  0.136506   \n",
      "ps3                                   0.061731  ... -0.272816 -0.099874   \n",
      "fp3                                  -0.044935  ...  0.169331 -0.058962   \n",
      "lag_price                             0.075246  ...  0.322348  0.194805   \n",
      "\n",
      "                                 fp1    comp_2       ps2       fp2    comp_3  \\\n",
      "product_id                       NaN       NaN       NaN       NaN       NaN   \n",
      "product_category_name            NaN       NaN       NaN       NaN       NaN   \n",
      "month_year                       NaN       NaN       NaN       NaN       NaN   \n",
      "qty                        -0.053477 -0.027044  0.036633 -0.069855 -0.068522   \n",
      "total_price                -0.006729  0.203050  0.113178 -0.001240  0.121114   \n",
      "freight_price               0.306479 -0.084208  0.168881  0.484647 -0.089285   \n",
      "unit_price                 -0.004518  0.466459  0.085436  0.026601  0.383780   \n",
      "product_name_lenght        -0.079388 -0.240613 -0.055069  0.016903 -0.382787   \n",
      "product_description_lenght  0.031771  0.015030  0.162777  0.155763  0.043880   \n",
      "product_photos_qty         -0.194512 -0.133835 -0.042817 -0.158749 -0.000661   \n",
      "product_weight_g            0.138384 -0.017125  0.144289  0.320658 -0.035559   \n",
      "product_score              -0.117613 -0.064352  0.506967  0.050800 -0.124399   \n",
      "customers                  -0.204012 -0.142704  0.148290 -0.156454 -0.115673   \n",
      "weekday                    -0.046776 -0.022418 -0.008711 -0.042262 -0.025142   \n",
      "weekend                     0.058723  0.021675 -0.011823  0.046571  0.009105   \n",
      "holiday                    -0.138522 -0.040417 -0.047566 -0.134667  0.044939   \n",
      "month                       0.012079 -0.011096 -0.058327  0.017297  0.041766   \n",
      "year                        0.015443 -0.187690  0.003579  0.077432 -0.139655   \n",
      "s                          -0.040967  0.016726 -0.045644 -0.121140  0.020775   \n",
      "volume                     -0.057506 -0.233768  0.024045  0.113985 -0.312395   \n",
      "comp_1                      0.401177  0.532859  0.040917  0.253416  0.650433   \n",
      "ps1                        -0.031973  0.162475  0.283570 -0.027128  0.136506   \n",
      "fp1                         1.000000  0.212646  0.089819  0.598636  0.028488   \n",
      "comp_2                      0.212646  1.000000  0.276794  0.198864  0.472245   \n",
      "ps2                         0.089819  0.276794  1.000000  0.291853  0.027418   \n",
      "fp2                         0.598636  0.198864  0.291853  1.000000  0.077100   \n",
      "comp_3                      0.028488  0.472245  0.027418  0.077100  1.000000   \n",
      "ps3                        -0.282104 -0.336730 -0.019399 -0.099894 -0.240014   \n",
      "fp3                         0.283775 -0.060002 -0.014947  0.556424  0.252874   \n",
      "lag_price                  -0.001416  0.465271  0.092632  0.032378  0.385621   \n",
      "\n",
      "                                 ps3       fp3  lag_price  \n",
      "product_id                       NaN       NaN        NaN  \n",
      "product_category_name            NaN       NaN        NaN  \n",
      "month_year                       NaN       NaN        NaN  \n",
      "qty                        -0.074466 -0.086439  -0.085885  \n",
      "total_price                -0.240526 -0.077442   0.426256  \n",
      "freight_price               0.054627  0.412115   0.201143  \n",
      "unit_price                 -0.242111  0.019461   0.994453  \n",
      "product_name_lenght         0.117217 -0.001470  -0.174862  \n",
      "product_description_lenght  0.048146  0.186760   0.273883  \n",
      "product_photos_qty          0.061731 -0.044935   0.075246  \n",
      "product_weight_g            0.208836  0.351268   0.112790  \n",
      "product_score               0.353623  0.049791   0.035109  \n",
      "customers                  -0.220235 -0.172532   0.056988  \n",
      "weekday                     0.005904 -0.051907  -0.013547  \n",
      "weekend                    -0.003794 -0.029880  -0.007307  \n",
      "holiday                    -0.003320 -0.081640   0.021119  \n",
      "month                      -0.013058 -0.047399  -0.008195  \n",
      "year                       -0.072879 -0.032385  -0.061109  \n",
      "s                          -0.008996 -0.064855  -0.002993  \n",
      "volume                      0.428603  0.106651  -0.200091  \n",
      "comp_1                     -0.272816  0.169331   0.322348  \n",
      "ps1                        -0.099874 -0.058962   0.194805  \n",
      "fp1                        -0.282104  0.283775  -0.001416  \n",
      "comp_2                     -0.336730 -0.060002   0.465271  \n",
      "ps2                        -0.019399 -0.014947   0.092632  \n",
      "fp2                        -0.099894  0.556424   0.032378  \n",
      "comp_3                     -0.240014  0.252874   0.385621  \n",
      "ps3                         1.000000  0.229735  -0.247014  \n",
      "fp3                         0.229735  1.000000   0.021618  \n",
      "lag_price                  -0.247014  0.021618   1.000000  \n",
      "\n",
      "[30 rows x 30 columns]\n"
     ]
    }
   ],
   "source": [
    "\n",
    "\n",
    "# Find the column with non-numeric values\n",
    "non_numeric_cols = []\n",
    "for col in data.columns:\n",
    "    if data[col].dtype == 'object':\n",
    "        non_numeric_cols.append(col)\n",
    "\n",
    "# Print the non-numeric columns\n",
    "print(\"Non-numeric columns:\", non_numeric_cols)\n",
    "\n",
    "# Convert non-numeric values to NaN\n",
    "for col in non_numeric_cols:\n",
    "    data[col] = pd.to_numeric(data[col], errors='coerce')\n",
    "\n",
    "# Calculate the correlation matrix\n",
    "corr_matrix = data.corr()\n",
    "\n",
    "# Print the correlation matrix\n",
    "print(corr_matrix)"
   ]
  },
  {
   "cell_type": "code",
   "execution_count": 63,
   "metadata": {},
   "outputs": [
    {
     "name": "stdout",
     "output_type": "stream",
     "text": [
      "Requirement already satisfied: pandas in c:\\users\\khali\\appdata\\local\\programs\\python\\python311\\lib\\site-packages (2.1.1)\n",
      "Requirement already satisfied: numpy>=1.23.2 in c:\\users\\khali\\appdata\\local\\programs\\python\\python311\\lib\\site-packages (from pandas) (1.26.1)\n",
      "Requirement already satisfied: python-dateutil>=2.8.2 in c:\\users\\khali\\appdata\\roaming\\python\\python311\\site-packages (from pandas) (2.8.2)\n",
      "Requirement already satisfied: pytz>=2020.1 in c:\\users\\khali\\appdata\\local\\programs\\python\\python311\\lib\\site-packages (from pandas) (2023.3.post1)\n",
      "Requirement already satisfied: tzdata>=2022.1 in c:\\users\\khali\\appdata\\local\\programs\\python\\python311\\lib\\site-packages (from pandas) (2023.3)\n",
      "Requirement already satisfied: six>=1.5 in c:\\users\\khali\\appdata\\roaming\\python\\python311\\site-packages (from python-dateutil>=2.8.2->pandas) (1.16.0)\n",
      "Note: you may need to restart the kernel to use updated packages.\n"
     ]
    },
    {
     "name": "stderr",
     "output_type": "stream",
     "text": [
      "\n",
      "[notice] A new release of pip is available: 23.1.2 -> 23.3\n",
      "[notice] To update, run: python.exe -m pip install --upgrade pip\n"
     ]
    },
    {
     "name": "stdout",
     "output_type": "stream",
     "text": [
      "Requirement already satisfied: seaborn in c:\\users\\khali\\appdata\\local\\programs\\python\\python311\\lib\\site-packages (0.13.0)Note: you may need to restart the kernel to use updated packages.\n"
     ]
    },
    {
     "name": "stderr",
     "output_type": "stream",
     "text": [
      "\n",
      "[notice] A new release of pip is available: 23.1.2 -> 23.3\n",
      "[notice] To update, run: python.exe -m pip install --upgrade pip\n"
     ]
    },
    {
     "name": "stdout",
     "output_type": "stream",
     "text": [
      "\n",
      "Requirement already satisfied: numpy!=1.24.0,>=1.20 in c:\\users\\khali\\appdata\\local\\programs\\python\\python311\\lib\\site-packages (from seaborn) (1.26.1)\n",
      "Requirement already satisfied: pandas>=1.2 in c:\\users\\khali\\appdata\\local\\programs\\python\\python311\\lib\\site-packages (from seaborn) (2.1.1)\n",
      "Requirement already satisfied: matplotlib!=3.6.1,>=3.3 in c:\\users\\khali\\appdata\\local\\programs\\python\\python311\\lib\\site-packages (from seaborn) (3.8.0)\n",
      "Requirement already satisfied: contourpy>=1.0.1 in c:\\users\\khali\\appdata\\local\\programs\\python\\python311\\lib\\site-packages (from matplotlib!=3.6.1,>=3.3->seaborn) (1.1.1)\n",
      "Requirement already satisfied: cycler>=0.10 in c:\\users\\khali\\appdata\\local\\programs\\python\\python311\\lib\\site-packages (from matplotlib!=3.6.1,>=3.3->seaborn) (0.12.1)\n",
      "Requirement already satisfied: fonttools>=4.22.0 in c:\\users\\khali\\appdata\\local\\programs\\python\\python311\\lib\\site-packages (from matplotlib!=3.6.1,>=3.3->seaborn) (4.43.1)\n",
      "Requirement already satisfied: kiwisolver>=1.0.1 in c:\\users\\khali\\appdata\\local\\programs\\python\\python311\\lib\\site-packages (from matplotlib!=3.6.1,>=3.3->seaborn) (1.4.5)\n",
      "Requirement already satisfied: packaging>=20.0 in c:\\users\\khali\\appdata\\roaming\\python\\python311\\site-packages (from matplotlib!=3.6.1,>=3.3->seaborn) (23.2)\n",
      "Requirement already satisfied: pillow>=6.2.0 in c:\\users\\khali\\appdata\\local\\programs\\python\\python311\\lib\\site-packages (from matplotlib!=3.6.1,>=3.3->seaborn) (10.1.0)\n",
      "Requirement already satisfied: pyparsing>=2.3.1 in c:\\users\\khali\\appdata\\local\\programs\\python\\python311\\lib\\site-packages (from matplotlib!=3.6.1,>=3.3->seaborn) (3.1.1)\n",
      "Requirement already satisfied: python-dateutil>=2.7 in c:\\users\\khali\\appdata\\roaming\\python\\python311\\site-packages (from matplotlib!=3.6.1,>=3.3->seaborn) (2.8.2)\n",
      "Requirement already satisfied: pytz>=2020.1 in c:\\users\\khali\\appdata\\local\\programs\\python\\python311\\lib\\site-packages (from pandas>=1.2->seaborn) (2023.3.post1)\n",
      "Requirement already satisfied: tzdata>=2022.1 in c:\\users\\khali\\appdata\\local\\programs\\python\\python311\\lib\\site-packages (from pandas>=1.2->seaborn) (2023.3)\n",
      "Requirement already satisfied: six>=1.5 in c:\\users\\khali\\appdata\\roaming\\python\\python311\\site-packages (from python-dateutil>=2.7->matplotlib!=3.6.1,>=3.3->seaborn) (1.16.0)\n",
      "Requirement already satisfied: matplotlib in c:\\users\\khali\\appdata\\local\\programs\\python\\python311\\lib\\site-packages (3.8.0)\n",
      "Requirement already satisfied: contourpy>=1.0.1 in c:\\users\\khali\\appdata\\local\\programs\\python\\python311\\lib\\site-packages (from matplotlib) (1.1.1)\n",
      "Requirement already satisfied: cycler>=0.10 in c:\\users\\khali\\appdata\\local\\programs\\python\\python311\\lib\\site-packages (from matplotlib) (0.12.1)\n",
      "Requirement already satisfied: fonttools>=4.22.0 in c:\\users\\khali\\appdata\\local\\programs\\python\\python311\\lib\\site-packages (from matplotlib) (4.43.1)\n",
      "Requirement already satisfied: kiwisolver>=1.0.1 in c:\\users\\khali\\appdata\\local\\programs\\python\\python311\\lib\\site-packages (from matplotlib) (1.4.5)\n",
      "Requirement already satisfied: numpy<2,>=1.21 in c:\\users\\khali\\appdata\\local\\programs\\python\\python311\\lib\\site-packages (from matplotlib) (1.26.1)\n",
      "Requirement already satisfied: packaging>=20.0 in c:\\users\\khali\\appdata\\roaming\\python\\python311\\site-packages (from matplotlib) (23.2)\n",
      "Requirement already satisfied: pillow>=6.2.0 in c:\\users\\khali\\appdata\\local\\programs\\python\\python311\\lib\\site-packages (from matplotlib) (10.1.0)\n",
      "Requirement already satisfied: pyparsing>=2.3.1 in c:\\users\\khali\\appdata\\local\\programs\\python\\python311\\lib\\site-packages (from matplotlib) (3.1.1)\n",
      "Requirement already satisfied: python-dateutil>=2.7 in c:\\users\\khali\\appdata\\roaming\\python\\python311\\site-packages (from matplotlib) (2.8.2)\n",
      "Requirement already satisfied: six>=1.5 in c:\\users\\khali\\appdata\\roaming\\python\\python311\\site-packages (from python-dateutil>=2.7->matplotlib) (1.16.0)\n",
      "Note: you may need to restart the kernel to use updated packages.\n"
     ]
    },
    {
     "name": "stderr",
     "output_type": "stream",
     "text": [
      "\n",
      "[notice] A new release of pip is available: 23.1.2 -> 23.3\n",
      "[notice] To update, run: python.exe -m pip install --upgrade pip\n"
     ]
    },
    {
     "data": {
      "application/vnd.plotly.v1+json": {
       "config": {
        "plotlyServerURL": "https://plot.ly"
       },
       "data": [
        {
         "type": "heatmap",
         "x": [
          "product_id",
          "product_category_name",
          "month_year",
          "qty",
          "total_price",
          "freight_price",
          "unit_price",
          "product_name_lenght",
          "product_description_lenght",
          "product_photos_qty",
          "product_weight_g",
          "product_score",
          "customers",
          "weekday",
          "weekend",
          "holiday",
          "month",
          "year",
          "s",
          "volume",
          "comp_1",
          "ps1",
          "fp1",
          "comp_2",
          "ps2",
          "fp2",
          "comp_3",
          "ps3",
          "fp3",
          "lag_price"
         ],
         "y": [
          "product_id",
          "product_category_name",
          "month_year",
          "qty",
          "total_price",
          "freight_price",
          "unit_price",
          "product_name_lenght",
          "product_description_lenght",
          "product_photos_qty",
          "product_weight_g",
          "product_score",
          "customers",
          "weekday",
          "weekend",
          "holiday",
          "month",
          "year",
          "s",
          "volume",
          "comp_1",
          "ps1",
          "fp1",
          "comp_2",
          "ps2",
          "fp2",
          "comp_3",
          "ps3",
          "fp3",
          "lag_price"
         ],
         "z": [
          [
           null,
           null,
           null,
           null,
           null,
           null,
           null,
           null,
           null,
           null,
           null,
           null,
           null,
           null,
           null,
           null,
           null,
           null,
           null,
           null,
           null,
           null,
           null,
           null,
           null,
           null,
           null,
           null,
           null,
           null
          ],
          [
           null,
           null,
           null,
           null,
           null,
           null,
           null,
           null,
           null,
           null,
           null,
           null,
           null,
           null,
           null,
           null,
           null,
           null,
           null,
           null,
           null,
           null,
           null,
           null,
           null,
           null,
           null,
           null,
           null,
           null
          ],
          [
           null,
           null,
           null,
           null,
           null,
           null,
           null,
           null,
           null,
           null,
           null,
           null,
           null,
           null,
           null,
           null,
           null,
           null,
           null,
           null,
           null,
           null,
           null,
           null,
           null,
           null,
           null,
           null,
           null,
           null
          ],
          [
           null,
           null,
           null,
           1,
           0.7496051765324717,
           -0.13552120983919447,
           -0.1034321168672854,
           0.07997256840299317,
           -0.022748528387384937,
           0.12851522211978458,
           -0.034301079476575444,
           -0.004028460616277028,
           0.4415467944423469,
           0.030918073124108665,
           -0.07511832925594278,
           0.21160980198074636,
           -0.0051292249400537206,
           0.058562353422297306,
           0.4110012611222994,
           0.04982742004706431,
           -0.033570215101854255,
           -0.04788262179592284,
           -0.05347744101765038,
           -0.027044219200455907,
           0.036633178889029325,
           -0.06985512305029541,
           -0.06852193134883772,
           -0.0744656056735379,
           -0.0864388993641164,
           -0.08588477092051088
          ],
          [
           null,
           null,
           null,
           0.7496051765324717,
           1,
           0.02584783203429762,
           0.40900140551988273,
           -0.0025936096044648135,
           0.17537599556122357,
           0.15794454477439598,
           0.06009165976692873,
           0.036118713004231896,
           0.3863887929083233,
           0.018797529470679284,
           -0.053788393947927095,
           0.13655786088690697,
           -0.029917507765308174,
           0.0821396166526061,
           0.33450015992234045,
           -0.08872591147874083,
           0.1444261834960807,
           0.05894056872144424,
           -0.00672939261688552,
           0.20305025252319905,
           0.11317794834613769,
           -0.0012403960308306665,
           0.12111405956908124,
           -0.24052635352721205,
           -0.0774423617587007,
           0.42625588412087795
          ],
          [
           null,
           null,
           null,
           -0.13552120983919447,
           0.02584783203429762,
           1,
           0.20365903884774836,
           0.013397988683007752,
           0.423218793211087,
           -0.20099043110972056,
           0.6706887520543323,
           0.19946819362896956,
           0.08826064874203114,
           -0.01613168030586496,
           0.030275002483862834,
           -0.08151783501070312,
           -0.028336339062725212,
           0.07659502256847184,
           -0.10935936635317074,
           0.12209693405365495,
           -0.01396916024923299,
           -0.05392677736093694,
           0.30647862125493264,
           -0.08420805025302494,
           0.16888130398925733,
           0.4846471630257394,
           -0.08928489254003856,
           0.05462730316735427,
           0.4121153196147504,
           0.20114257863614896
          ],
          [
           null,
           null,
           null,
           -0.1034321168672854,
           0.40900140551988273,
           0.20365903884774836,
           1,
           -0.17061271973408348,
           0.2801757312620486,
           0.0769902687735537,
           0.11295840557431946,
           0.04216208236562715,
           0.04339136390773738,
           -0.011948767757185159,
           -0.00004184645867017764,
           0.01257253072643915,
           -0.004249402766625412,
           -0.06807221867048364,
           -0.016551672743142294,
           -0.1972331861547408,
           0.3171127994243645,
           0.1974250662253891,
           -0.004517515383451282,
           0.4664588570241593,
           0.0854358736509576,
           0.026601421921719222,
           0.38377974466760323,
           -0.24211128897928652,
           0.01946104197124366,
           0.994453428511264
          ],
          [
           null,
           null,
           null,
           0.07997256840299317,
           -0.0025936096044648135,
           0.013397988683007752,
           -0.17061271973408348,
           1,
           0.12451009584793424,
           0.13195098026761057,
           -0.04404999696407505,
           0.1635195221017492,
           0.08223890577319186,
           0.023797225436450263,
           -0.018182777188691726,
           -0.014317016593686243,
           -0.004249868439297376,
           -0.03547938432101948,
           -0.08082973553121611,
           0.3294761569303248,
           -0.34412467715559353,
           0.019053408943010525,
           -0.07938820708640817,
           -0.24061307053606687,
           -0.05506932593586339,
           0.016903058111906497,
           -0.3827873986300246,
           0.11721683229793918,
           -0.0014700603421876285,
           -0.17486224653291638
          ],
          [
           null,
           null,
           null,
           -0.022748528387384937,
           0.17537599556122357,
           0.423218793211087,
           0.2801757312620486,
           0.12451009584793424,
           1,
           0.06012449960830659,
           0.38697292186129784,
           0.18754361386656185,
           0.06749692181698273,
           -0.019320213480231586,
           -0.012464657789516604,
           0.018341593030264943,
           -0.02956086800011947,
           0.030949026623713308,
           0.001335372431781577,
           -0.14157982530969895,
           -0.004371196979572895,
           0.1886013656093202,
           0.03177065273402526,
           0.015029923313390443,
           0.16277724565419843,
           0.15576316641381938,
           0.04387991300430808,
           0.048145966248419984,
           0.18675991259523425,
           0.2738829423641289
          ],
          [
           null,
           null,
           null,
           0.12851522211978458,
           0.15794454477439598,
           -0.20099043110972056,
           0.0769902687735537,
           0.13195098026761057,
           0.06012449960830659,
           1,
           -0.12929079672765048,
           0.04828594777442604,
           -0.022535904811508467,
           0.02231070311739905,
           0.008326351096152146,
           -0.008898353368854516,
           0.04172796387691226,
           0.03360189049812337,
           0.08379944685515364,
           -0.15353799620554143,
           -0.04539776533836169,
           -0.005676605580270962,
           -0.194512125046716,
           -0.1338352975499675,
           -0.042817075120564194,
           -0.1587489268023393,
           -0.0006609712626952698,
           0.06173088348531263,
           -0.044934874716374903,
           0.07524622668782988
          ],
          [
           null,
           null,
           null,
           -0.034301079476575444,
           0.06009165976692873,
           0.6706887520543323,
           0.11295840557431946,
           -0.04404999696407505,
           0.38697292186129784,
           -0.12929079672765048,
           1,
           0.17867837169955855,
           0.05352329821977802,
           -0.02996034276100833,
           0.011308503309144588,
           -0.0032655249947481668,
           -0.011176170593278871,
           -0.1083607623920433,
           -0.050676403702979295,
           0.2519662263944513,
           0.06432978792358134,
           -0.24186139364279524,
           0.13838358456823469,
           -0.01712506432476419,
           0.14428869017455262,
           0.3206580659033043,
           -0.03555868819818989,
           0.20883567828470367,
           0.35126793948622237,
           0.1127904650160459
          ],
          [
           null,
           null,
           null,
           -0.004028460616277028,
           0.036118713004231896,
           0.19946819362896956,
           0.04216208236562715,
           0.1635195221017492,
           0.18754361386656185,
           0.04828594777442604,
           0.17867837169955855,
           1,
           0.020185149548309442,
           0.0031206819275923386,
           -0.010395846552741986,
           -0.009899091909070212,
           -0.004951816676052373,
           -0.053069627956126186,
           -0.051635886168216,
           0.1178870102765888,
           -0.21528388724740488,
           0.29774608165028105,
           -0.11761278224296048,
           -0.06435223400372395,
           0.5069670376398688,
           0.05079968834712959,
           -0.12439909855074556,
           0.35362253559280826,
           0.04979131876228493,
           0.03510946234510448
          ],
          [
           null,
           null,
           null,
           0.4415467944423469,
           0.3863887929083233,
           0.08826064874203114,
           0.04339136390773738,
           0.08223890577319186,
           0.06749692181698273,
           -0.022535904811508467,
           0.05352329821977802,
           0.020185149548309442,
           1,
           0.029809631352340604,
           -0.11180555920136896,
           0.31025398212787136,
           -0.02285182253774226,
           0.21827165230765735,
           0.21438328870815512,
           0.0416412471735867,
           -0.177735227935055,
           0.07731447560941006,
           -0.20401211113749915,
           -0.14270416301971725,
           0.14828962415939143,
           -0.15645398122143406,
           -0.11567305242730226,
           -0.2202345052033453,
           -0.17253242160013765,
           0.05698797276773174
          ],
          [
           null,
           null,
           null,
           0.030918073124108665,
           0.018797529470679284,
           -0.01613168030586496,
           -0.011948767757185159,
           0.023797225436450263,
           -0.019320213480231586,
           0.02231070311739905,
           -0.02996034276100833,
           0.0031206819275923386,
           0.029809631352340604,
           1,
           -0.5094780549227448,
           0.15910461179564006,
           0.02567178603116452,
           0.05515843186408443,
           -0.00999321080454373,
           -0.009178621492225186,
           -0.03705945062215808,
           -0.021012706441108833,
           -0.0467756748138155,
           -0.022417930364931303,
           -0.0087110127759287,
           -0.042262231913715365,
           -0.025142111446382908,
           0.005904425471232782,
           -0.051907254910231765,
           -0.013547213634922844
          ],
          [
           null,
           null,
           null,
           -0.07511832925594278,
           -0.053788393947927095,
           0.030275002483862834,
           -0.00004184645867017764,
           -0.018182777188691726,
           -0.012464657789516604,
           0.008326351096152146,
           0.011308503309144588,
           -0.010395846552741986,
           -0.11180555920136896,
           -0.5094780549227448,
           1,
           -0.4216639461887654,
           0.3317097063170279,
           -0.22557762312043883,
           -0.019291246904435524,
           0.02201527619288692,
           0.030056720251437206,
           0.0006382821320123435,
           0.05872276056461063,
           0.021674561643264447,
           -0.011823199816981206,
           0.04657131963818544,
           0.009104549921924368,
           -0.0037943289687008153,
           -0.02988020272635848,
           -0.007306710456689135
          ],
          [
           null,
           null,
           null,
           0.21160980198074636,
           0.13655786088690697,
           -0.08151783501070312,
           0.01257253072643915,
           -0.014317016593686243,
           0.018341593030264943,
           -0.008898353368854516,
           -0.0032655249947481668,
           -0.009899091909070212,
           0.31025398212787136,
           0.15910461179564006,
           -0.4216639461887654,
           1,
           0.09022678238223802,
           -0.12735121802932647,
           0.2907858531282046,
           0.006065889535039061,
           -0.002968707994890002,
           -0.000804552069255498,
           -0.13852184726975647,
           -0.040416777853482556,
           -0.0475656089545508,
           -0.13466709395508641,
           0.04493868720433648,
           -0.0033203458617562394,
           -0.0816397874035911,
           0.021119242148810585
          ],
          [
           null,
           null,
           null,
           -0.0051292249400537206,
           -0.029917507765308174,
           -0.028336339062725212,
           -0.004249402766625412,
           -0.004249868439297376,
           -0.02956086800011947,
           0.04172796387691226,
           -0.011176170593278871,
           -0.004951816676052373,
           -0.02285182253774226,
           0.02567178603116452,
           0.3317097063170279,
           0.09022678238223802,
           1,
           -0.616283074769528,
           0.11509005085377043,
           0.01495736645066061,
           -0.03651717682689879,
           0.02917080292557672,
           0.01207924277223926,
           -0.011095864860319282,
           -0.0583274289694185,
           0.017296533044257253,
           0.041765836104005555,
           -0.013057605701152178,
           -0.04739883577503005,
           -0.00819537747028756
          ],
          [
           null,
           null,
           null,
           0.058562353422297306,
           0.0821396166526061,
           0.07659502256847184,
           -0.06807221867048364,
           -0.03547938432101948,
           0.030949026623713308,
           0.03360189049812337,
           -0.1083607623920433,
           -0.053069627956126186,
           0.21827165230765735,
           0.05515843186408443,
           -0.22557762312043883,
           -0.12735121802932647,
           -0.616283074769528,
           1,
           -0.0770094148104868,
           -0.09010710157114453,
           -0.061579564966378376,
           0.01922839737620432,
           0.015442966734952112,
           -0.18769025686167187,
           0.003579185399855836,
           0.07743204693751803,
           -0.13965475657463197,
           -0.07287915383241189,
           -0.03238534654775452,
           -0.06110935236088717
          ],
          [
           null,
           null,
           null,
           0.4110012611222994,
           0.33450015992234045,
           -0.10935936635317074,
           -0.016551672743142294,
           -0.08082973553121611,
           0.001335372431781577,
           0.08379944685515364,
           -0.050676403702979295,
           -0.051635886168216,
           0.21438328870815512,
           -0.00999321080454373,
           -0.019291246904435524,
           0.2907858531282046,
           0.11509005085377043,
           -0.0770094148104868,
           1,
           -0.0543836310920538,
           0.05807539933904149,
           0.0172182521925467,
           -0.04096730293946025,
           0.01672601286971526,
           -0.04564421526321365,
           -0.12113968861301531,
           0.020775192616720155,
           -0.008996054210564472,
           -0.064855070306062,
           -0.0029928457356247994
          ],
          [
           null,
           null,
           null,
           0.04982742004706431,
           -0.08872591147874083,
           0.12209693405365495,
           -0.1972331861547408,
           0.3294761569303248,
           -0.14157982530969895,
           -0.15353799620554143,
           0.2519662263944513,
           0.1178870102765888,
           0.0416412471735867,
           -0.009178621492225186,
           0.02201527619288692,
           0.006065889535039061,
           0.01495736645066061,
           -0.09010710157114453,
           -0.0543836310920538,
           1,
           -0.14686391536277082,
           -0.34583661118050446,
           -0.05750590723422075,
           -0.23376809491806982,
           0.024044987709033672,
           0.11398518423534465,
           -0.3123947797104338,
           0.42860325438308494,
           0.1066506726846528,
           -0.20009092850870197
          ],
          [
           null,
           null,
           null,
           -0.033570215101854255,
           0.1444261834960807,
           -0.01396916024923299,
           0.3171127994243645,
           -0.34412467715559353,
           -0.004371196979572895,
           -0.04539776533836169,
           0.06432978792358134,
           -0.21528388724740488,
           -0.177735227935055,
           -0.03705945062215808,
           0.030056720251437206,
           -0.002968707994890002,
           -0.03651717682689879,
           -0.061579564966378376,
           0.05807539933904149,
           -0.14686391536277082,
           1,
           -0.1872966807697111,
           0.40117652210645066,
           0.5328594116375663,
           0.04091745363824368,
           0.2534164953816754,
           0.6504329493597001,
           -0.27281584055549163,
           0.16933116084838612,
           0.3223480303732993
          ],
          [
           null,
           null,
           null,
           -0.04788262179592284,
           0.05894056872144424,
           -0.05392677736093694,
           0.1974250662253891,
           0.019053408943010525,
           0.1886013656093202,
           -0.005676605580270962,
           -0.24186139364279524,
           0.29774608165028105,
           0.07731447560941006,
           -0.021012706441108833,
           0.0006382821320123435,
           -0.000804552069255498,
           0.02917080292557672,
           0.01922839737620432,
           0.0172182521925467,
           -0.34583661118050446,
           -0.1872966807697111,
           1,
           -0.031973313992200436,
           0.16247505446024726,
           0.28356989835286167,
           -0.02712815850452529,
           0.13650617594484102,
           -0.09987353197208436,
           -0.058961720580724436,
           0.19480469097892544
          ],
          [
           null,
           null,
           null,
           -0.05347744101765038,
           -0.00672939261688552,
           0.30647862125493264,
           -0.004517515383451282,
           -0.07938820708640817,
           0.03177065273402526,
           -0.194512125046716,
           0.13838358456823469,
           -0.11761278224296048,
           -0.20401211113749915,
           -0.0467756748138155,
           0.05872276056461063,
           -0.13852184726975647,
           0.01207924277223926,
           0.015442966734952112,
           -0.04096730293946025,
           -0.05750590723422075,
           0.40117652210645066,
           -0.031973313992200436,
           1,
           0.21264573996637498,
           0.08981871283830131,
           0.5986364528665874,
           0.0284882492788041,
           -0.28210427135056215,
           0.2837747075595003,
           -0.0014156304912604724
          ],
          [
           null,
           null,
           null,
           -0.027044219200455907,
           0.20305025252319905,
           -0.08420805025302494,
           0.4664588570241593,
           -0.24061307053606687,
           0.015029923313390443,
           -0.1338352975499675,
           -0.01712506432476419,
           -0.06435223400372395,
           -0.14270416301971725,
           -0.022417930364931303,
           0.021674561643264447,
           -0.040416777853482556,
           -0.011095864860319282,
           -0.18769025686167187,
           0.01672601286971526,
           -0.23376809491806982,
           0.5328594116375663,
           0.16247505446024726,
           0.21264573996637498,
           1,
           0.276794321296768,
           0.1988642869248328,
           0.47224498899649514,
           -0.33673029152132133,
           -0.06000226824221993,
           0.4652712760667572
          ],
          [
           null,
           null,
           null,
           0.036633178889029325,
           0.11317794834613769,
           0.16888130398925733,
           0.0854358736509576,
           -0.05506932593586339,
           0.16277724565419843,
           -0.042817075120564194,
           0.14428869017455262,
           0.5069670376398688,
           0.14828962415939143,
           -0.0087110127759287,
           -0.011823199816981206,
           -0.0475656089545508,
           -0.0583274289694185,
           0.003579185399855836,
           -0.04564421526321365,
           0.024044987709033672,
           0.04091745363824368,
           0.28356989835286167,
           0.08981871283830131,
           0.276794321296768,
           1,
           0.29185273090109387,
           0.027417630177903784,
           -0.019399171411381647,
           -0.014947337100421709,
           0.09263160073360854
          ],
          [
           null,
           null,
           null,
           -0.06985512305029541,
           -0.0012403960308306665,
           0.4846471630257394,
           0.026601421921719222,
           0.016903058111906497,
           0.15576316641381938,
           -0.1587489268023393,
           0.3206580659033043,
           0.05079968834712959,
           -0.15645398122143406,
           -0.042262231913715365,
           0.04657131963818544,
           -0.13466709395508641,
           0.017296533044257253,
           0.07743204693751803,
           -0.12113968861301531,
           0.11398518423534465,
           0.2534164953816754,
           -0.02712815850452529,
           0.5986364528665874,
           0.1988642869248328,
           0.29185273090109387,
           1,
           0.07710009818417944,
           -0.09989375426739137,
           0.5564242908022746,
           0.03237812829099338
          ],
          [
           null,
           null,
           null,
           -0.06852193134883772,
           0.12111405956908124,
           -0.08928489254003856,
           0.38377974466760323,
           -0.3827873986300246,
           0.04387991300430808,
           -0.0006609712626952698,
           -0.03555868819818989,
           -0.12439909855074556,
           -0.11567305242730226,
           -0.025142111446382908,
           0.009104549921924368,
           0.04493868720433648,
           0.041765836104005555,
           -0.13965475657463197,
           0.020775192616720155,
           -0.3123947797104338,
           0.6504329493597001,
           0.13650617594484102,
           0.0284882492788041,
           0.47224498899649514,
           0.027417630177903784,
           0.07710009818417944,
           1,
           -0.2400141762385657,
           0.2528742673752204,
           0.3856211304058555
          ],
          [
           null,
           null,
           null,
           -0.0744656056735379,
           -0.24052635352721205,
           0.05462730316735427,
           -0.24211128897928652,
           0.11721683229793918,
           0.048145966248419984,
           0.06173088348531263,
           0.20883567828470367,
           0.35362253559280826,
           -0.2202345052033453,
           0.005904425471232782,
           -0.0037943289687008153,
           -0.0033203458617562394,
           -0.013057605701152178,
           -0.07287915383241189,
           -0.008996054210564472,
           0.42860325438308494,
           -0.27281584055549163,
           -0.09987353197208436,
           -0.28210427135056215,
           -0.33673029152132133,
           -0.019399171411381647,
           -0.09989375426739137,
           -0.2400141762385657,
           1,
           0.22973496832237522,
           -0.2470141308416816
          ],
          [
           null,
           null,
           null,
           -0.0864388993641164,
           -0.0774423617587007,
           0.4121153196147504,
           0.01946104197124366,
           -0.0014700603421876285,
           0.18675991259523425,
           -0.044934874716374903,
           0.35126793948622237,
           0.04979131876228493,
           -0.17253242160013765,
           -0.051907254910231765,
           -0.02988020272635848,
           -0.0816397874035911,
           -0.04739883577503005,
           -0.03238534654775452,
           -0.064855070306062,
           0.1066506726846528,
           0.16933116084838612,
           -0.058961720580724436,
           0.2837747075595003,
           -0.06000226824221993,
           -0.014947337100421709,
           0.5564242908022746,
           0.2528742673752204,
           0.22973496832237522,
           1,
           0.02161766478278591
          ],
          [
           null,
           null,
           null,
           -0.08588477092051088,
           0.42625588412087795,
           0.20114257863614896,
           0.994453428511264,
           -0.17486224653291638,
           0.2738829423641289,
           0.07524622668782988,
           0.1127904650160459,
           0.03510946234510448,
           0.05698797276773174,
           -0.013547213634922844,
           -0.007306710456689135,
           0.021119242148810585,
           -0.00819537747028756,
           -0.06110935236088717,
           -0.0029928457356247994,
           -0.20009092850870197,
           0.3223480303732993,
           0.19480469097892544,
           -0.0014156304912604724,
           0.4652712760667572,
           0.09263160073360854,
           0.03237812829099338,
           0.3856211304058555,
           -0.2470141308416816,
           0.02161766478278591,
           1
          ]
         ]
        }
       ],
       "layout": {
        "template": {
         "data": {
          "bar": [
           {
            "error_x": {
             "color": "#2a3f5f"
            },
            "error_y": {
             "color": "#2a3f5f"
            },
            "marker": {
             "line": {
              "color": "white",
              "width": 0.5
             },
             "pattern": {
              "fillmode": "overlay",
              "size": 10,
              "solidity": 0.2
             }
            },
            "type": "bar"
           }
          ],
          "barpolar": [
           {
            "marker": {
             "line": {
              "color": "white",
              "width": 0.5
             },
             "pattern": {
              "fillmode": "overlay",
              "size": 10,
              "solidity": 0.2
             }
            },
            "type": "barpolar"
           }
          ],
          "carpet": [
           {
            "aaxis": {
             "endlinecolor": "#2a3f5f",
             "gridcolor": "#C8D4E3",
             "linecolor": "#C8D4E3",
             "minorgridcolor": "#C8D4E3",
             "startlinecolor": "#2a3f5f"
            },
            "baxis": {
             "endlinecolor": "#2a3f5f",
             "gridcolor": "#C8D4E3",
             "linecolor": "#C8D4E3",
             "minorgridcolor": "#C8D4E3",
             "startlinecolor": "#2a3f5f"
            },
            "type": "carpet"
           }
          ],
          "choropleth": [
           {
            "colorbar": {
             "outlinewidth": 0,
             "ticks": ""
            },
            "type": "choropleth"
           }
          ],
          "contour": [
           {
            "colorbar": {
             "outlinewidth": 0,
             "ticks": ""
            },
            "colorscale": [
             [
              0,
              "#0d0887"
             ],
             [
              0.1111111111111111,
              "#46039f"
             ],
             [
              0.2222222222222222,
              "#7201a8"
             ],
             [
              0.3333333333333333,
              "#9c179e"
             ],
             [
              0.4444444444444444,
              "#bd3786"
             ],
             [
              0.5555555555555556,
              "#d8576b"
             ],
             [
              0.6666666666666666,
              "#ed7953"
             ],
             [
              0.7777777777777778,
              "#fb9f3a"
             ],
             [
              0.8888888888888888,
              "#fdca26"
             ],
             [
              1,
              "#f0f921"
             ]
            ],
            "type": "contour"
           }
          ],
          "contourcarpet": [
           {
            "colorbar": {
             "outlinewidth": 0,
             "ticks": ""
            },
            "type": "contourcarpet"
           }
          ],
          "heatmap": [
           {
            "colorbar": {
             "outlinewidth": 0,
             "ticks": ""
            },
            "colorscale": [
             [
              0,
              "#0d0887"
             ],
             [
              0.1111111111111111,
              "#46039f"
             ],
             [
              0.2222222222222222,
              "#7201a8"
             ],
             [
              0.3333333333333333,
              "#9c179e"
             ],
             [
              0.4444444444444444,
              "#bd3786"
             ],
             [
              0.5555555555555556,
              "#d8576b"
             ],
             [
              0.6666666666666666,
              "#ed7953"
             ],
             [
              0.7777777777777778,
              "#fb9f3a"
             ],
             [
              0.8888888888888888,
              "#fdca26"
             ],
             [
              1,
              "#f0f921"
             ]
            ],
            "type": "heatmap"
           }
          ],
          "heatmapgl": [
           {
            "colorbar": {
             "outlinewidth": 0,
             "ticks": ""
            },
            "colorscale": [
             [
              0,
              "#0d0887"
             ],
             [
              0.1111111111111111,
              "#46039f"
             ],
             [
              0.2222222222222222,
              "#7201a8"
             ],
             [
              0.3333333333333333,
              "#9c179e"
             ],
             [
              0.4444444444444444,
              "#bd3786"
             ],
             [
              0.5555555555555556,
              "#d8576b"
             ],
             [
              0.6666666666666666,
              "#ed7953"
             ],
             [
              0.7777777777777778,
              "#fb9f3a"
             ],
             [
              0.8888888888888888,
              "#fdca26"
             ],
             [
              1,
              "#f0f921"
             ]
            ],
            "type": "heatmapgl"
           }
          ],
          "histogram": [
           {
            "marker": {
             "pattern": {
              "fillmode": "overlay",
              "size": 10,
              "solidity": 0.2
             }
            },
            "type": "histogram"
           }
          ],
          "histogram2d": [
           {
            "colorbar": {
             "outlinewidth": 0,
             "ticks": ""
            },
            "colorscale": [
             [
              0,
              "#0d0887"
             ],
             [
              0.1111111111111111,
              "#46039f"
             ],
             [
              0.2222222222222222,
              "#7201a8"
             ],
             [
              0.3333333333333333,
              "#9c179e"
             ],
             [
              0.4444444444444444,
              "#bd3786"
             ],
             [
              0.5555555555555556,
              "#d8576b"
             ],
             [
              0.6666666666666666,
              "#ed7953"
             ],
             [
              0.7777777777777778,
              "#fb9f3a"
             ],
             [
              0.8888888888888888,
              "#fdca26"
             ],
             [
              1,
              "#f0f921"
             ]
            ],
            "type": "histogram2d"
           }
          ],
          "histogram2dcontour": [
           {
            "colorbar": {
             "outlinewidth": 0,
             "ticks": ""
            },
            "colorscale": [
             [
              0,
              "#0d0887"
             ],
             [
              0.1111111111111111,
              "#46039f"
             ],
             [
              0.2222222222222222,
              "#7201a8"
             ],
             [
              0.3333333333333333,
              "#9c179e"
             ],
             [
              0.4444444444444444,
              "#bd3786"
             ],
             [
              0.5555555555555556,
              "#d8576b"
             ],
             [
              0.6666666666666666,
              "#ed7953"
             ],
             [
              0.7777777777777778,
              "#fb9f3a"
             ],
             [
              0.8888888888888888,
              "#fdca26"
             ],
             [
              1,
              "#f0f921"
             ]
            ],
            "type": "histogram2dcontour"
           }
          ],
          "mesh3d": [
           {
            "colorbar": {
             "outlinewidth": 0,
             "ticks": ""
            },
            "type": "mesh3d"
           }
          ],
          "parcoords": [
           {
            "line": {
             "colorbar": {
              "outlinewidth": 0,
              "ticks": ""
             }
            },
            "type": "parcoords"
           }
          ],
          "pie": [
           {
            "automargin": true,
            "type": "pie"
           }
          ],
          "scatter": [
           {
            "fillpattern": {
             "fillmode": "overlay",
             "size": 10,
             "solidity": 0.2
            },
            "type": "scatter"
           }
          ],
          "scatter3d": [
           {
            "line": {
             "colorbar": {
              "outlinewidth": 0,
              "ticks": ""
             }
            },
            "marker": {
             "colorbar": {
              "outlinewidth": 0,
              "ticks": ""
             }
            },
            "type": "scatter3d"
           }
          ],
          "scattercarpet": [
           {
            "marker": {
             "colorbar": {
              "outlinewidth": 0,
              "ticks": ""
             }
            },
            "type": "scattercarpet"
           }
          ],
          "scattergeo": [
           {
            "marker": {
             "colorbar": {
              "outlinewidth": 0,
              "ticks": ""
             }
            },
            "type": "scattergeo"
           }
          ],
          "scattergl": [
           {
            "marker": {
             "colorbar": {
              "outlinewidth": 0,
              "ticks": ""
             }
            },
            "type": "scattergl"
           }
          ],
          "scattermapbox": [
           {
            "marker": {
             "colorbar": {
              "outlinewidth": 0,
              "ticks": ""
             }
            },
            "type": "scattermapbox"
           }
          ],
          "scatterpolar": [
           {
            "marker": {
             "colorbar": {
              "outlinewidth": 0,
              "ticks": ""
             }
            },
            "type": "scatterpolar"
           }
          ],
          "scatterpolargl": [
           {
            "marker": {
             "colorbar": {
              "outlinewidth": 0,
              "ticks": ""
             }
            },
            "type": "scatterpolargl"
           }
          ],
          "scatterternary": [
           {
            "marker": {
             "colorbar": {
              "outlinewidth": 0,
              "ticks": ""
             }
            },
            "type": "scatterternary"
           }
          ],
          "surface": [
           {
            "colorbar": {
             "outlinewidth": 0,
             "ticks": ""
            },
            "colorscale": [
             [
              0,
              "#0d0887"
             ],
             [
              0.1111111111111111,
              "#46039f"
             ],
             [
              0.2222222222222222,
              "#7201a8"
             ],
             [
              0.3333333333333333,
              "#9c179e"
             ],
             [
              0.4444444444444444,
              "#bd3786"
             ],
             [
              0.5555555555555556,
              "#d8576b"
             ],
             [
              0.6666666666666666,
              "#ed7953"
             ],
             [
              0.7777777777777778,
              "#fb9f3a"
             ],
             [
              0.8888888888888888,
              "#fdca26"
             ],
             [
              1,
              "#f0f921"
             ]
            ],
            "type": "surface"
           }
          ],
          "table": [
           {
            "cells": {
             "fill": {
              "color": "#EBF0F8"
             },
             "line": {
              "color": "white"
             }
            },
            "header": {
             "fill": {
              "color": "#C8D4E3"
             },
             "line": {
              "color": "white"
             }
            },
            "type": "table"
           }
          ]
         },
         "layout": {
          "annotationdefaults": {
           "arrowcolor": "#2a3f5f",
           "arrowhead": 0,
           "arrowwidth": 1
          },
          "autotypenumbers": "strict",
          "coloraxis": {
           "colorbar": {
            "outlinewidth": 0,
            "ticks": ""
           }
          },
          "colorscale": {
           "diverging": [
            [
             0,
             "#8e0152"
            ],
            [
             0.1,
             "#c51b7d"
            ],
            [
             0.2,
             "#de77ae"
            ],
            [
             0.3,
             "#f1b6da"
            ],
            [
             0.4,
             "#fde0ef"
            ],
            [
             0.5,
             "#f7f7f7"
            ],
            [
             0.6,
             "#e6f5d0"
            ],
            [
             0.7,
             "#b8e186"
            ],
            [
             0.8,
             "#7fbc41"
            ],
            [
             0.9,
             "#4d9221"
            ],
            [
             1,
             "#276419"
            ]
           ],
           "sequential": [
            [
             0,
             "#0d0887"
            ],
            [
             0.1111111111111111,
             "#46039f"
            ],
            [
             0.2222222222222222,
             "#7201a8"
            ],
            [
             0.3333333333333333,
             "#9c179e"
            ],
            [
             0.4444444444444444,
             "#bd3786"
            ],
            [
             0.5555555555555556,
             "#d8576b"
            ],
            [
             0.6666666666666666,
             "#ed7953"
            ],
            [
             0.7777777777777778,
             "#fb9f3a"
            ],
            [
             0.8888888888888888,
             "#fdca26"
            ],
            [
             1,
             "#f0f921"
            ]
           ],
           "sequentialminus": [
            [
             0,
             "#0d0887"
            ],
            [
             0.1111111111111111,
             "#46039f"
            ],
            [
             0.2222222222222222,
             "#7201a8"
            ],
            [
             0.3333333333333333,
             "#9c179e"
            ],
            [
             0.4444444444444444,
             "#bd3786"
            ],
            [
             0.5555555555555556,
             "#d8576b"
            ],
            [
             0.6666666666666666,
             "#ed7953"
            ],
            [
             0.7777777777777778,
             "#fb9f3a"
            ],
            [
             0.8888888888888888,
             "#fdca26"
            ],
            [
             1,
             "#f0f921"
            ]
           ]
          },
          "colorway": [
           "#636efa",
           "#EF553B",
           "#00cc96",
           "#ab63fa",
           "#FFA15A",
           "#19d3f3",
           "#FF6692",
           "#B6E880",
           "#FF97FF",
           "#FECB52"
          ],
          "font": {
           "color": "#2a3f5f"
          },
          "geo": {
           "bgcolor": "white",
           "lakecolor": "white",
           "landcolor": "white",
           "showlakes": true,
           "showland": true,
           "subunitcolor": "#C8D4E3"
          },
          "hoverlabel": {
           "align": "left"
          },
          "hovermode": "closest",
          "mapbox": {
           "style": "light"
          },
          "paper_bgcolor": "white",
          "plot_bgcolor": "white",
          "polar": {
           "angularaxis": {
            "gridcolor": "#EBF0F8",
            "linecolor": "#EBF0F8",
            "ticks": ""
           },
           "bgcolor": "white",
           "radialaxis": {
            "gridcolor": "#EBF0F8",
            "linecolor": "#EBF0F8",
            "ticks": ""
           }
          },
          "scene": {
           "xaxis": {
            "backgroundcolor": "white",
            "gridcolor": "#DFE8F3",
            "gridwidth": 2,
            "linecolor": "#EBF0F8",
            "showbackground": true,
            "ticks": "",
            "zerolinecolor": "#EBF0F8"
           },
           "yaxis": {
            "backgroundcolor": "white",
            "gridcolor": "#DFE8F3",
            "gridwidth": 2,
            "linecolor": "#EBF0F8",
            "showbackground": true,
            "ticks": "",
            "zerolinecolor": "#EBF0F8"
           },
           "zaxis": {
            "backgroundcolor": "white",
            "gridcolor": "#DFE8F3",
            "gridwidth": 2,
            "linecolor": "#EBF0F8",
            "showbackground": true,
            "ticks": "",
            "zerolinecolor": "#EBF0F8"
           }
          },
          "shapedefaults": {
           "line": {
            "color": "#2a3f5f"
           }
          },
          "ternary": {
           "aaxis": {
            "gridcolor": "#DFE8F3",
            "linecolor": "#A2B1C6",
            "ticks": ""
           },
           "baxis": {
            "gridcolor": "#DFE8F3",
            "linecolor": "#A2B1C6",
            "ticks": ""
           },
           "bgcolor": "white",
           "caxis": {
            "gridcolor": "#DFE8F3",
            "linecolor": "#A2B1C6",
            "ticks": ""
           }
          },
          "title": {
           "x": 0.05
          },
          "xaxis": {
           "automargin": true,
           "gridcolor": "#EBF0F8",
           "linecolor": "#EBF0F8",
           "ticks": "",
           "title": {
            "standoff": 15
           },
           "zerolinecolor": "#EBF0F8",
           "zerolinewidth": 2
          },
          "yaxis": {
           "automargin": true,
           "gridcolor": "#EBF0F8",
           "linecolor": "#EBF0F8",
           "ticks": "",
           "title": {
            "standoff": 15
           },
           "zerolinecolor": "#EBF0F8",
           "zerolinewidth": 2
          }
         }
        },
        "title": {
         "text": "Correlation Heatmap of Numerical Features"
        }
       }
      }
     },
     "metadata": {},
     "output_type": "display_data"
    }
   ],
   "source": [
    "%pip install pandas\n",
    "%pip install seaborn\n",
    "%pip install matplotlib\n",
    "\n",
    "\n",
    "import pandas as pd\n",
    "import seaborn as sns\n",
    "import matplotlib.pyplot as plt\n",
    "\n",
    "# Calculate the correlation matrix\n",
    "correlation_matrix = data.corr()\n",
    "fig = go.Figure(go.Heatmap(x=correlation_matrix.columns, \n",
    "                           y=correlation_matrix.columns, \n",
    "                           z=correlation_matrix.values))\n",
    "fig.update_layout(title='Correlation Heatmap of Numerical Features')\n",
    "fig.show()\n"
   ]
  },
  {
   "cell_type": "code",
   "execution_count": 65,
   "metadata": {},
   "outputs": [
    {
     "data": {
      "image/png": "[encoded data removed]",
      "text/plain": [
       "<Figure size 640x480 with 1 Axes>"
      ]
     },
     "metadata": {},
     "output_type": "display_data"
    }
   ],
   "source": [
    "\n",
    "# Plot a histogram of a numerical feature\n",
    "plt.hist(data['total_price'], bins=10)\n",
    "\n",
    "# Add labels and a title\n",
    "plt.xlabel('Total Price')\n",
    "plt.ylabel('Frequency')\n",
    "plt.title('Histogram of Total Price')\n",
    "\n",
    "# Show the plot\n",
    "plt.show()"
   ]
  },
  {
   "cell_type": "markdown",
   "metadata": {},
   "source": [
    "### Analyzing competitors' pricing strategies is crucial in optimizing retail prices,Monitoring and benchmarking against competitors' prices can help identify opportunities to price competitively, either by pricing below or above the competition, depending on the retailer's positioning and strategy.To calculate the average competitor price difference by product category, you need to gather data on your competitors' prices and compare them to your own prices.\n"
   ]
  },
  {
   "cell_type": "code",
   "execution_count": 79,
   "metadata": {},
   "outputs": [
    {
     "name": "stdout",
     "output_type": "stream",
     "text": [
      "Collecting scikit-learn\n",
      "  Downloading scikit_learn-1.3.1-cp311-cp311-win_amd64.whl (9.2 MB)\n",
      "                                              0.0/9.2 MB ? eta -:--:--\n",
      "                                              0.0/9.2 MB 1.3 MB/s eta 0:00:08\n",
      "                                              0.1/9.2 MB 656.4 kB/s eta 0:00:14\n",
      "                                              0.1/9.2 MB 558.5 kB/s eta 0:00:17\n",
      "                                              0.1/9.2 MB 558.5 kB/s eta 0:00:17\n",
      "                                              0.1/9.2 MB 558.5 kB/s eta 0:00:17\n",
      "                                              0.2/9.2 MB 731.4 kB/s eta 0:00:13\n",
      "                                              0.2/9.2 MB 731.4 kB/s eta 0:00:13\n",
      "     -                                        0.2/9.2 MB 654.9 kB/s eta 0:00:14\n",
      "     -                                        0.3/9.2 MB 654.7 kB/s eta 0:00:14\n",
      "     -                                        0.3/9.2 MB 678.0 kB/s eta 0:00:14\n",
      "     -                                        0.3/9.2 MB 675.6 kB/s eta 0:00:14\n",
      "     -                                        0.4/9.2 MB 692.6 kB/s eta 0:00:13\n",
      "     -                                        0.4/9.2 MB 689.6 kB/s eta 0:00:13\n",
      "     -                                        0.5/9.2 MB 686.9 kB/s eta 0:00:13\n",
      "     --                                       0.5/9.2 MB 714.4 kB/s eta 0:00:13\n",
      "     --                                       0.5/9.2 MB 726.3 kB/s eta 0:00:12\n",
      "     --                                       0.6/9.2 MB 733.3 kB/s eta 0:00:12\n",
      "     --                                       0.6/9.2 MB 743.1 kB/s eta 0:00:12\n",
      "     --                                       0.7/9.2 MB 749.0 kB/s eta 0:00:12\n",
      "     ---                                      0.7/9.2 MB 756.4 kB/s eta 0:00:12\n",
      "     ---                                      0.7/9.2 MB 760.9 kB/s eta 0:00:12\n",
      "     ---                                      0.8/9.2 MB 776.1 kB/s eta 0:00:11\n",
      "     ---                                      0.8/9.2 MB 782.4 kB/s eta 0:00:11\n",
      "     ---                                      0.9/9.2 MB 776.9 kB/s eta 0:00:11\n",
      "     ----                                     0.9/9.2 MB 798.7 kB/s eta 0:00:11\n",
      "     ----                                     1.0/9.2 MB 827.5 kB/s eta 0:00:10\n",
      "     ----                                     1.0/9.2 MB 837.4 kB/s eta 0:00:10\n",
      "     ----                                     1.1/9.2 MB 838.7 kB/s eta 0:00:10\n",
      "     ----                                     1.1/9.2 MB 848.2 kB/s eta 0:00:10\n",
      "     -----                                    1.2/9.2 MB 856.4 kB/s eta 0:00:10\n",
      "     -----                                    1.2/9.2 MB 864.1 kB/s eta 0:00:10\n",
      "     -----                                    1.3/9.2 MB 857.4 kB/s eta 0:00:10\n",
      "     -----                                    1.3/9.2 MB 864.6 kB/s eta 0:00:10\n",
      "     -----                                    1.4/9.2 MB 871.3 kB/s eta 0:00:09\n",
      "     ------                                   1.4/9.2 MB 871.4 kB/s eta 0:00:09\n",
      "     ------                                   1.5/9.2 MB 877.5 kB/s eta 0:00:09\n",
      "     ------                                   1.5/9.2 MB 883.9 kB/s eta 0:00:09\n",
      "     ------                                   1.6/9.2 MB 883.6 kB/s eta 0:00:09\n",
      "     ------                                   1.6/9.2 MB 896.4 kB/s eta 0:00:09\n",
      "     -------                                  1.6/9.2 MB 888.5 kB/s eta 0:00:09\n",
      "     -------                                  1.7/9.2 MB 893.5 kB/s eta 0:00:09\n",
      "     -------                                  1.8/9.2 MB 898.2 kB/s eta 0:00:09\n",
      "     -------                                  1.8/9.2 MB 902.8 kB/s eta 0:00:09\n",
      "     --------                                 1.9/9.2 MB 907.1 kB/s eta 0:00:09\n",
      "     --------                                 1.9/9.2 MB 906.7 kB/s eta 0:00:09\n",
      "     --------                                 1.9/9.2 MB 917.2 kB/s eta 0:00:08\n",
      "     --------                                 2.0/9.2 MB 914.6 kB/s eta 0:00:08\n",
      "     --------                                 2.0/9.2 MB 918.3 kB/s eta 0:00:08\n",
      "     ---------                                2.1/9.2 MB 919.3 kB/s eta 0:00:08\n",
      "     ---------                                2.1/9.2 MB 922.8 kB/s eta 0:00:08\n",
      "     ---------                                2.2/9.2 MB 932.9 kB/s eta 0:00:08\n",
      "     ---------                                2.3/9.2 MB 935.9 kB/s eta 0:00:08\n",
      "     ----------                               2.3/9.2 MB 935.1 kB/s eta 0:00:08\n",
      "     ----------                               2.4/9.2 MB 938.0 kB/s eta 0:00:08\n",
      "     ----------                               2.4/9.2 MB 946.4 kB/s eta 0:00:08\n",
      "     ----------                               2.5/9.2 MB 943.5 kB/s eta 0:00:08\n",
      "     ----------                               2.5/9.2 MB 946.1 kB/s eta 0:00:08\n",
      "     -----------                              2.5/9.2 MB 944.8 kB/s eta 0:00:08\n",
      "     -----------                              2.6/9.2 MB 952.8 kB/s eta 0:00:07\n",
      "     -----------                              2.7/9.2 MB 949.6 kB/s eta 0:00:07\n",
      "     -----------                              2.7/9.2 MB 952.3 kB/s eta 0:00:07\n",
      "     -----------                              2.8/9.2 MB 959.6 kB/s eta 0:00:07\n",
      "     ------------                             2.8/9.2 MB 953.2 kB/s eta 0:00:07\n",
      "     ------------                             2.8/9.2 MB 960.5 kB/s eta 0:00:07\n",
      "     ------------                             2.9/9.2 MB 957.5 kB/s eta 0:00:07\n",
      "     ------------                             2.9/9.2 MB 959.5 kB/s eta 0:00:07\n",
      "     -------------                            3.0/9.2 MB 966.4 kB/s eta 0:00:07\n",
      "     -------------                            3.0/9.2 MB 961.7 kB/s eta 0:00:07\n",
      "     -------------                            3.1/9.2 MB 952.7 kB/s eta 0:00:07\n",
      "     -------------                            3.1/9.2 MB 945.2 kB/s eta 0:00:07\n",
      "     -------------                            3.1/9.2 MB 941.1 kB/s eta 0:00:07\n",
      "     -------------                            3.1/9.2 MB 937.0 kB/s eta 0:00:07\n",
      "     -------------                            3.2/9.2 MB 930.1 kB/s eta 0:00:07\n",
      "     -------------                            3.2/9.2 MB 930.1 kB/s eta 0:00:07\n",
      "     -------------                            3.2/9.2 MB 930.1 kB/s eta 0:00:07\n",
      "     -------------                            3.2/9.2 MB 930.1 kB/s eta 0:00:07\n",
      "     -------------                            3.2/9.2 MB 930.1 kB/s eta 0:00:07\n",
      "     -------------                            3.2/9.2 MB 876.5 kB/s eta 0:00:07\n",
      "     --------------                           3.3/9.2 MB 900.0 kB/s eta 0:00:07\n",
      "     --------------                           3.3/9.2 MB 890.4 kB/s eta 0:00:07\n",
      "     --------------                           3.3/9.2 MB 888.3 kB/s eta 0:00:07\n",
      "     --------------                           3.3/9.2 MB 876.5 kB/s eta 0:00:07\n",
      "     --------------                           3.4/9.2 MB 874.7 kB/s eta 0:00:07\n",
      "     --------------                           3.4/9.2 MB 874.7 kB/s eta 0:00:07\n",
      "     --------------                           3.4/9.2 MB 874.7 kB/s eta 0:00:07\n",
      "     --------------                           3.4/9.2 MB 874.7 kB/s eta 0:00:07\n",
      "     --------------                           3.4/9.2 MB 874.7 kB/s eta 0:00:07\n",
      "     --------------                           3.4/9.2 MB 841.2 kB/s eta 0:00:07\n",
      "     --------------                           3.5/9.2 MB 834.1 kB/s eta 0:00:07\n",
      "     ---------------                          3.5/9.2 MB 826.4 kB/s eta 0:00:07\n",
      "     ---------------                          3.5/9.2 MB 826.4 kB/s eta 0:00:07\n",
      "     ---------------                          3.5/9.2 MB 819.2 kB/s eta 0:00:07\n",
      "     ---------------                          3.5/9.2 MB 819.2 kB/s eta 0:00:07\n",
      "     ---------------                          3.5/9.2 MB 819.2 kB/s eta 0:00:07\n",
      "     ---------------                          3.5/9.2 MB 819.2 kB/s eta 0:00:07\n",
      "     ---------------                          3.5/9.2 MB 819.2 kB/s eta 0:00:07\n",
      "     ---------------                          3.6/9.2 MB 784.6 kB/s eta 0:00:08\n",
      "     ---------------                          3.6/9.2 MB 783.7 kB/s eta 0:00:08\n",
      "     ---------------                          3.6/9.2 MB 783.2 kB/s eta 0:00:08\n",
      "     ---------------                          3.6/9.2 MB 777.1 kB/s eta 0:00:08\n",
      "     ---------------                          3.6/9.2 MB 768.9 kB/s eta 0:00:08\n",
      "     ---------------                          3.7/9.2 MB 772.5 kB/s eta 0:00:08\n",
      "     ---------------                          3.7/9.2 MB 767.0 kB/s eta 0:00:08\n",
      "     ----------------                         3.7/9.2 MB 763.5 kB/s eta 0:00:08\n",
      "     ----------------                         3.7/9.2 MB 764.6 kB/s eta 0:00:08\n",
      "     ----------------                         3.8/9.2 MB 763.1 kB/s eta 0:00:08\n",
      "     ----------------                         3.8/9.2 MB 763.1 kB/s eta 0:00:08\n",
      "     ----------------                         3.9/9.2 MB 765.5 kB/s eta 0:00:07\n",
      "     ----------------                         3.9/9.2 MB 764.5 kB/s eta 0:00:07\n",
      "     ----------------                         3.9/9.2 MB 763.5 kB/s eta 0:00:07\n",
      "     -----------------                        3.9/9.2 MB 762.5 kB/s eta 0:00:07\n",
      "     -----------------                        4.0/9.2 MB 759.3 kB/s eta 0:00:07\n",
      "     -----------------                        4.0/9.2 MB 760.9 kB/s eta 0:00:07\n",
      "     -----------------                        4.0/9.2 MB 760.0 kB/s eta 0:00:07\n",
      "     -----------------                        4.1/9.2 MB 759.2 kB/s eta 0:00:07\n",
      "     -----------------                        4.1/9.2 MB 756.0 kB/s eta 0:00:07\n",
      "     -----------------                        4.1/9.2 MB 753.0 kB/s eta 0:00:07\n",
      "     -----------------                        4.1/9.2 MB 752.4 kB/s eta 0:00:07\n",
      "     ------------------                       4.2/9.2 MB 751.8 kB/s eta 0:00:07\n",
      "     ------------------                       4.2/9.2 MB 751.0 kB/s eta 0:00:07\n",
      "     ------------------                       4.2/9.2 MB 751.0 kB/s eta 0:00:07\n",
      "     ------------------                       4.2/9.2 MB 745.6 kB/s eta 0:00:07\n",
      "     ------------------                       4.2/9.2 MB 743.4 kB/s eta 0:00:07\n",
      "     ------------------                       4.3/9.2 MB 742.8 kB/s eta 0:00:07\n",
      "     ------------------                       4.3/9.2 MB 738.1 kB/s eta 0:00:07\n",
      "     ------------------                       4.3/9.2 MB 735.7 kB/s eta 0:00:07\n",
      "     ------------------                       4.3/9.2 MB 735.7 kB/s eta 0:00:07\n",
      "     ------------------                       4.4/9.2 MB 729.3 kB/s eta 0:00:07\n",
      "     ------------------                       4.4/9.2 MB 728.9 kB/s eta 0:00:07\n",
      "     -------------------                      4.4/9.2 MB 724.9 kB/s eta 0:00:07\n",
      "     -------------------                      4.4/9.2 MB 722.5 kB/s eta 0:00:07\n",
      "     -------------------                      4.4/9.2 MB 722.2 kB/s eta 0:00:07\n",
      "     -------------------                      4.5/9.2 MB 719.8 kB/s eta 0:00:07\n",
      "     -------------------                      4.5/9.2 MB 719.5 kB/s eta 0:00:07\n",
      "     -------------------                      4.5/9.2 MB 715.8 kB/s eta 0:00:07\n",
      "     -------------------                      4.5/9.2 MB 715.5 kB/s eta 0:00:07\n",
      "     -------------------                      4.5/9.2 MB 711.6 kB/s eta 0:00:07\n",
      "     -------------------                      4.6/9.2 MB 711.2 kB/s eta 0:00:07\n",
      "     -------------------                      4.6/9.2 MB 710.9 kB/s eta 0:00:07\n",
      "     --------------------                     4.6/9.2 MB 708.9 kB/s eta 0:00:07\n",
      "     --------------------                     4.6/9.2 MB 706.8 kB/s eta 0:00:07\n",
      "     --------------------                     4.7/9.2 MB 705.0 kB/s eta 0:00:07\n",
      "     --------------------                     4.7/9.2 MB 704.5 kB/s eta 0:00:07\n",
      "     --------------------                     4.7/9.2 MB 702.8 kB/s eta 0:00:07\n",
      "     --------------------                     4.7/9.2 MB 700.9 kB/s eta 0:00:07\n",
      "     --------------------                     4.8/9.2 MB 700.6 kB/s eta 0:00:07\n",
      "     --------------------                     4.8/9.2 MB 700.4 kB/s eta 0:00:07\n",
      "     --------------------                     4.8/9.2 MB 696.9 kB/s eta 0:00:07\n",
      "     --------------------                     4.8/9.2 MB 696.8 kB/s eta 0:00:07\n",
      "     ---------------------                    4.8/9.2 MB 693.5 kB/s eta 0:00:07\n",
      "     ---------------------                    4.9/9.2 MB 690.2 kB/s eta 0:00:07\n",
      "     ---------------------                    4.9/9.2 MB 688.7 kB/s eta 0:00:07\n",
      "     ---------------------                    4.9/9.2 MB 685.5 kB/s eta 0:00:07\n",
      "     ---------------------                    4.9/9.2 MB 685.5 kB/s eta 0:00:07\n",
      "     ---------------------                    4.9/9.2 MB 683.8 kB/s eta 0:00:07\n",
      "     ---------------------                    4.9/9.2 MB 682.2 kB/s eta 0:00:07\n",
      "     ---------------------                    5.0/9.2 MB 679.2 kB/s eta 0:00:07\n",
      "     ---------------------                    5.0/9.2 MB 677.7 kB/s eta 0:00:07\n",
      "     ---------------------                    5.0/9.2 MB 674.8 kB/s eta 0:00:07\n",
      "     ---------------------                    5.0/9.2 MB 673.3 kB/s eta 0:00:07\n",
      "     ---------------------                    5.0/9.2 MB 673.2 kB/s eta 0:00:07\n",
      "     ---------------------                    5.0/9.2 MB 673.2 kB/s eta 0:00:07\n",
      "     ----------------------                   5.1/9.2 MB 667.5 kB/s eta 0:00:07\n",
      "     ----------------------                   5.1/9.2 MB 667.5 kB/s eta 0:00:07\n",
      "     ----------------------                   5.1/9.2 MB 663.3 kB/s eta 0:00:07\n",
      "     ----------------------                   5.1/9.2 MB 663.3 kB/s eta 0:00:07\n",
      "     ----------------------                   5.1/9.2 MB 660.6 kB/s eta 0:00:07\n",
      "     ----------------------                   5.2/9.2 MB 657.9 kB/s eta 0:00:07\n",
      "     ----------------------                   5.2/9.2 MB 658.0 kB/s eta 0:00:07\n",
      "     ----------------------                   5.2/9.2 MB 656.6 kB/s eta 0:00:07\n",
      "     ----------------------                   5.2/9.2 MB 654.0 kB/s eta 0:00:07\n",
      "     ----------------------                   5.2/9.2 MB 652.8 kB/s eta 0:00:07\n",
      "     ----------------------                   5.3/9.2 MB 654.1 kB/s eta 0:00:07\n",
      "     ----------------------                   5.3/9.2 MB 651.5 kB/s eta 0:00:07\n",
      "     -----------------------                  5.3/9.2 MB 651.6 kB/s eta 0:00:06\n",
      "     -----------------------                  5.3/9.2 MB 651.6 kB/s eta 0:00:06\n",
      "     -----------------------                  5.4/9.2 MB 651.6 kB/s eta 0:00:06\n",
      "     -----------------------                  5.4/9.2 MB 652.8 kB/s eta 0:00:06\n",
      "     -----------------------                  5.4/9.2 MB 652.9 kB/s eta 0:00:06\n",
      "     -----------------------                  5.5/9.2 MB 650.5 kB/s eta 0:00:06\n",
      "     -----------------------                  5.5/9.2 MB 652.9 kB/s eta 0:00:06\n",
      "     ------------------------                 5.5/9.2 MB 651.7 kB/s eta 0:00:06\n",
      "     ------------------------                 5.6/9.2 MB 651.7 kB/s eta 0:00:06\n",
      "     ------------------------                 5.6/9.2 MB 653.0 kB/s eta 0:00:06\n",
      "     ------------------------                 5.6/9.2 MB 654.1 kB/s eta 0:00:06\n",
      "     ------------------------                 5.7/9.2 MB 654.1 kB/s eta 0:00:06\n",
      "     ------------------------                 5.7/9.2 MB 654.2 kB/s eta 0:00:06\n",
      "     ------------------------                 5.7/9.2 MB 655.4 kB/s eta 0:00:06\n",
      "     -------------------------                5.8/9.2 MB 655.4 kB/s eta 0:00:06\n",
      "     -------------------------                5.8/9.2 MB 656.5 kB/s eta 0:00:06\n",
      "     -------------------------                5.9/9.2 MB 657.6 kB/s eta 0:00:06\n",
      "     -------------------------                5.9/9.2 MB 657.6 kB/s eta 0:00:06\n",
      "     -------------------------                5.9/9.2 MB 657.6 kB/s eta 0:00:06\n",
      "     -------------------------                5.9/9.2 MB 658.8 kB/s eta 0:00:05\n",
      "     --------------------------               6.0/9.2 MB 659.8 kB/s eta 0:00:05\n",
      "     --------------------------               6.1/9.2 MB 663.2 kB/s eta 0:00:05\n",
      "     --------------------------               6.1/9.2 MB 664.3 kB/s eta 0:00:05\n",
      "     --------------------------               6.1/9.2 MB 666.5 kB/s eta 0:00:05\n",
      "     --------------------------               6.2/9.2 MB 666.4 kB/s eta 0:00:05\n",
      "     ---------------------------              6.2/9.2 MB 667.4 kB/s eta 0:00:05\n",
      "     ---------------------------              6.3/9.2 MB 668.5 kB/s eta 0:00:05\n",
      "     ---------------------------              6.3/9.2 MB 668.5 kB/s eta 0:00:05\n",
      "     ---------------------------              6.3/9.2 MB 664.0 kB/s eta 0:00:05\n",
      "     ---------------------------              6.3/9.2 MB 662.9 kB/s eta 0:00:05\n",
      "     ---------------------------              6.3/9.2 MB 660.7 kB/s eta 0:00:05\n",
      "     ---------------------------              6.3/9.2 MB 660.7 kB/s eta 0:00:05\n",
      "     ---------------------------              6.3/9.2 MB 656.4 kB/s eta 0:00:05\n",
      "     ---------------------------              6.4/9.2 MB 657.5 kB/s eta 0:00:05\n",
      "     ---------------------------              6.4/9.2 MB 658.5 kB/s eta 0:00:05\n",
      "     ---------------------------              6.4/9.2 MB 655.4 kB/s eta 0:00:05\n",
      "     ---------------------------              6.4/9.2 MB 654.3 kB/s eta 0:00:05\n",
      "     ---------------------------              6.4/9.2 MB 652.2 kB/s eta 0:00:05\n",
      "     ----------------------------             6.5/9.2 MB 651.2 kB/s eta 0:00:05\n",
      "     ----------------------------             6.5/9.2 MB 649.2 kB/s eta 0:00:05\n",
      "     ----------------------------             6.5/9.2 MB 649.2 kB/s eta 0:00:05\n",
      "     ----------------------------             6.5/9.2 MB 648.2 kB/s eta 0:00:05\n",
      "     ----------------------------             6.5/9.2 MB 647.2 kB/s eta 0:00:05\n",
      "     ----------------------------             6.6/9.2 MB 646.2 kB/s eta 0:00:05\n",
      "     ----------------------------             6.6/9.2 MB 646.3 kB/s eta 0:00:05\n",
      "     ----------------------------             6.6/9.2 MB 646.4 kB/s eta 0:00:04\n",
      "     -----------------------------            6.7/9.2 MB 647.4 kB/s eta 0:00:04\n",
      "     -----------------------------            6.7/9.2 MB 648.4 kB/s eta 0:00:04\n",
      "     -----------------------------            6.7/9.2 MB 647.5 kB/s eta 0:00:04\n",
      "     -----------------------------            6.8/9.2 MB 647.5 kB/s eta 0:00:04\n",
      "     -----------------------------            6.8/9.2 MB 648.5 kB/s eta 0:00:04\n",
      "     -----------------------------            6.8/9.2 MB 648.5 kB/s eta 0:00:04\n",
      "     -----------------------------            6.9/9.2 MB 648.5 kB/s eta 0:00:04\n",
      "     -----------------------------            6.9/9.2 MB 648.6 kB/s eta 0:00:04\n",
      "     ------------------------------           6.9/9.2 MB 649.6 kB/s eta 0:00:04\n",
      "     ------------------------------           7.0/9.2 MB 650.5 kB/s eta 0:00:04\n",
      "     ------------------------------           7.0/9.2 MB 649.6 kB/s eta 0:00:04\n",
      "     ------------------------------           7.0/9.2 MB 648.7 kB/s eta 0:00:04\n",
      "     ------------------------------           7.1/9.2 MB 651.5 kB/s eta 0:00:04\n",
      "     ------------------------------           7.1/9.2 MB 653.5 kB/s eta 0:00:04\n",
      "     -------------------------------          7.2/9.2 MB 654.4 kB/s eta 0:00:04\n",
      "     -------------------------------          7.2/9.2 MB 655.3 kB/s eta 0:00:04\n",
      "     -------------------------------          7.3/9.2 MB 656.3 kB/s eta 0:00:03\n",
      "     -------------------------------          7.3/9.2 MB 657.2 kB/s eta 0:00:03\n",
      "     -------------------------------          7.3/9.2 MB 657.2 kB/s eta 0:00:03\n",
      "     -------------------------------          7.3/9.2 MB 657.2 kB/s eta 0:00:03\n",
      "     --------------------------------         7.4/9.2 MB 657.2 kB/s eta 0:00:03\n",
      "     --------------------------------         7.4/9.2 MB 658.1 kB/s eta 0:00:03\n",
      "     --------------------------------         7.5/9.2 MB 657.2 kB/s eta 0:00:03\n",
      "     --------------------------------         7.5/9.2 MB 657.2 kB/s eta 0:00:03\n",
      "     --------------------------------         7.5/9.2 MB 657.1 kB/s eta 0:00:03\n",
      "     --------------------------------         7.5/9.2 MB 657.1 kB/s eta 0:00:03\n",
      "     --------------------------------         7.6/9.2 MB 657.1 kB/s eta 0:00:03\n",
      "     ---------------------------------        7.6/9.2 MB 657.1 kB/s eta 0:00:03\n",
      "     ---------------------------------        7.6/9.2 MB 657.1 kB/s eta 0:00:03\n",
      "     ---------------------------------        7.7/9.2 MB 657.1 kB/s eta 0:00:03\n",
      "     ---------------------------------        7.7/9.2 MB 656.2 kB/s eta 0:00:03\n",
      "     ---------------------------------        7.7/9.2 MB 656.2 kB/s eta 0:00:03\n",
      "     ---------------------------------        7.7/9.2 MB 656.2 kB/s eta 0:00:03\n",
      "     ---------------------------------        7.8/9.2 MB 656.2 kB/s eta 0:00:03\n",
      "     ---------------------------------        7.8/9.2 MB 656.2 kB/s eta 0:00:03\n",
      "     ---------------------------------        7.8/9.2 MB 656.2 kB/s eta 0:00:03\n",
      "     ----------------------------------       7.9/9.2 MB 655.3 kB/s eta 0:00:03\n",
      "     ----------------------------------       7.9/9.2 MB 655.3 kB/s eta 0:00:03\n",
      "     ----------------------------------       7.9/9.2 MB 655.3 kB/s eta 0:00:03\n",
      "     ----------------------------------       7.9/9.2 MB 655.3 kB/s eta 0:00:03\n",
      "     ----------------------------------       7.9/9.2 MB 655.3 kB/s eta 0:00:03\n",
      "     ----------------------------------       7.9/9.2 MB 655.3 kB/s eta 0:00:03\n",
      "     ----------------------------------       7.9/9.2 MB 655.3 kB/s eta 0:00:03\n",
      "     ----------------------------------       7.9/9.2 MB 655.3 kB/s eta 0:00:03\n",
      "     ----------------------------------       7.9/9.2 MB 655.3 kB/s eta 0:00:03\n",
      "     ----------------------------------       7.9/9.2 MB 655.3 kB/s eta 0:00:03\n",
      "     ----------------------------------       7.9/9.2 MB 655.3 kB/s eta 0:00:03\n",
      "     ----------------------------------       7.9/9.2 MB 655.3 kB/s eta 0:00:03\n",
      "     ----------------------------------       7.9/9.2 MB 655.3 kB/s eta 0:00:03\n",
      "     ----------------------------------       7.9/9.2 MB 655.3 kB/s eta 0:00:03\n",
      "     ----------------------------------       7.9/9.2 MB 628.5 kB/s eta 0:00:03\n",
      "     ----------------------------------       7.9/9.2 MB 628.5 kB/s eta 0:00:03\n",
      "     ----------------------------------       7.9/9.2 MB 624.7 kB/s eta 0:00:03\n",
      "     ----------------------------------       7.9/9.2 MB 624.7 kB/s eta 0:00:03\n",
      "     ----------------------------------       8.0/9.2 MB 620.2 kB/s eta 0:00:03\n",
      "     ----------------------------------       8.0/9.2 MB 620.2 kB/s eta 0:00:03\n",
      "     ----------------------------------       8.0/9.2 MB 618.0 kB/s eta 0:00:02\n",
      "     ----------------------------------       8.0/9.2 MB 615.8 kB/s eta 0:00:02\n",
      "     ----------------------------------       8.0/9.2 MB 615.2 kB/s eta 0:00:02\n",
      "     ----------------------------------       8.0/9.2 MB 614.5 kB/s eta 0:00:02\n",
      "     -----------------------------------      8.1/9.2 MB 615.4 kB/s eta 0:00:02\n",
      "     -----------------------------------      8.1/9.2 MB 614.8 kB/s eta 0:00:02\n",
      "     -----------------------------------      8.1/9.2 MB 613.4 kB/s eta 0:00:02\n",
      "     -----------------------------------      8.2/9.2 MB 616.6 kB/s eta 0:00:02\n",
      "     -----------------------------------      8.2/9.2 MB 616.6 kB/s eta 0:00:02\n",
      "     -----------------------------------      8.2/9.2 MB 616.9 kB/s eta 0:00:02\n",
      "     -----------------------------------      8.3/9.2 MB 616.3 kB/s eta 0:00:02\n",
      "     -----------------------------------      8.3/9.2 MB 616.4 kB/s eta 0:00:02\n",
      "     ------------------------------------     8.3/9.2 MB 616.6 kB/s eta 0:00:02\n",
      "     ------------------------------------     8.3/9.2 MB 616.7 kB/s eta 0:00:02\n",
      "     ------------------------------------     8.4/9.2 MB 617.6 kB/s eta 0:00:02\n",
      "     ------------------------------------     8.4/9.2 MB 616.9 kB/s eta 0:00:02\n",
      "     ------------------------------------     8.4/9.2 MB 617.8 kB/s eta 0:00:02\n",
      "     ------------------------------------     8.5/9.2 MB 618.0 kB/s eta 0:00:02\n",
      "     ------------------------------------     8.5/9.2 MB 618.1 kB/s eta 0:00:02\n",
      "     -------------------------------------    8.6/9.2 MB 619.0 kB/s eta 0:00:02\n",
      "     -------------------------------------    8.6/9.2 MB 620.6 kB/s eta 0:00:01\n",
      "     -------------------------------------    8.6/9.2 MB 621.4 kB/s eta 0:00:01\n",
      "     -------------------------------------    8.7/9.2 MB 622.3 kB/s eta 0:00:01\n",
      "     -------------------------------------    8.7/9.2 MB 623.1 kB/s eta 0:00:01\n",
      "     --------------------------------------   8.8/9.2 MB 623.9 kB/s eta 0:00:01\n",
      "     --------------------------------------   8.8/9.2 MB 624.0 kB/s eta 0:00:01\n",
      "     --------------------------------------   8.8/9.2 MB 624.1 kB/s eta 0:00:01\n",
      "     --------------------------------------   8.8/9.2 MB 624.2 kB/s eta 0:00:01\n",
      "     --------------------------------------   8.9/9.2 MB 625.8 kB/s eta 0:00:01\n",
      "     --------------------------------------   8.9/9.2 MB 625.9 kB/s eta 0:00:01\n",
      "     ---------------------------------------  9.0/9.2 MB 627.4 kB/s eta 0:00:01\n",
      "     ---------------------------------------  9.0/9.2 MB 628.2 kB/s eta 0:00:01\n",
      "     ---------------------------------------  9.0/9.2 MB 627.6 kB/s eta 0:00:01\n",
      "     ---------------------------------------  9.1/9.2 MB 627.0 kB/s eta 0:00:01\n",
      "     ---------------------------------------  9.1/9.2 MB 627.7 kB/s eta 0:00:01\n",
      "     ---------------------------------------  9.1/9.2 MB 627.1 kB/s eta 0:00:01\n",
      "     ---------------------------------------  9.1/9.2 MB 625.9 kB/s eta 0:00:01\n",
      "     ---------------------------------------  9.1/9.2 MB 625.9 kB/s eta 0:00:01\n",
      "     ---------------------------------------  9.1/9.2 MB 625.9 kB/s eta 0:00:01\n",
      "     ---------------------------------------  9.1/9.2 MB 625.9 kB/s eta 0:00:01\n",
      "     ---------------------------------------  9.2/9.2 MB 620.0 kB/s eta 0:00:01\n",
      "     ---------------------------------------  9.2/9.2 MB 621.4 kB/s eta 0:00:01\n",
      "     ---------------------------------------  9.2/9.2 MB 621.4 kB/s eta 0:00:01\n",
      "     ---------------------------------------  9.2/9.2 MB 621.4 kB/s eta 0:00:01\n",
      "     ---------------------------------------  9.2/9.2 MB 621.4 kB/s eta 0:00:01\n",
      "     ---------------------------------------  9.2/9.2 MB 621.4 kB/s eta 0:00:01\n",
      "     ---------------------------------------- 9.2/9.2 MB 611.8 kB/s eta 0:00:00\n",
      "Requirement already satisfied: numpy<2.0,>=1.17.3 in c:\\users\\khali\\appdata\\local\\programs\\python\\python311\\lib\\site-packages (from scikit-learn) (1.26.1)\n",
      "Requirement already satisfied: scipy>=1.5.0 in c:\\users\\khali\\appdata\\local\\programs\\python\\python311\\lib\\site-packages (from scikit-learn) (1.11.3)\n",
      "Collecting joblib>=1.1.1 (from scikit-learn)\n",
      "  Downloading joblib-1.3.2-py3-none-any.whl (302 kB)\n",
      "                                              0.0/302.2 kB ? eta -:--:--\n",
      "                                              0.0/302.2 kB ? eta -:--:--\n",
      "     -                                        10.2/302.2 kB ? eta -:--:--\n",
      "     ---                                   30.7/302.2 kB 445.2 kB/s eta 0:00:01\n",
      "     -------                               61.4/302.2 kB 469.7 kB/s eta 0:00:01\n",
      "     ----------                            81.9/302.2 kB 512.0 kB/s eta 0:00:01\n",
      "     -------------                        112.6/302.2 kB 469.7 kB/s eta 0:00:01\n",
      "     -------------------                  163.8/302.2 kB 614.4 kB/s eta 0:00:01\n",
      "     --------------------                 174.1/302.2 kB 525.1 kB/s eta 0:00:01\n",
      "     ------------------------             204.8/302.2 kB 541.9 kB/s eta 0:00:01\n",
      "     -----------------------------        245.8/302.2 kB 603.9 kB/s eta 0:00:01\n",
      "     --------------------------------     276.5/302.2 kB 609.2 kB/s eta 0:00:01\n",
      "     -----------------------------------  297.0/302.2 kB 612.6 kB/s eta 0:00:01\n",
      "     ------------------------------------ 302.2/302.2 kB 566.9 kB/s eta 0:00:00\n",
      "Collecting threadpoolctl>=2.0.0 (from scikit-learn)\n",
      "  Downloading threadpoolctl-3.2.0-py3-none-any.whl (15 kB)\n",
      "Installing collected packages: threadpoolctl, joblib, scikit-learn\n",
      "Successfully installed joblib-1.3.2 scikit-learn-1.3.1 threadpoolctl-3.2.0\n",
      "Note: you may need to restart the kernel to use updated packages.\n"
     ]
    },
    {
     "name": "stderr",
     "output_type": "stream",
     "text": [
      "\n",
      "[notice] A new release of pip is available: 23.1.2 -> 23.3\n",
      "[notice] To update, run: python.exe -m pip install --upgrade pip\n"
     ]
    }
   ],
   "source": [
    "pip install scikit-learn"
   ]
  },
  {
   "cell_type": "code",
   "execution_count": 81,
   "metadata": {},
   "outputs": [],
   "source": [
    "data['comp_price_diff'] = data['unit_price'] - data['comp_1'] "
   ]
  },
  {
   "cell_type": "code",
   "execution_count": 84,
   "metadata": {},
   "outputs": [
    {
     "data": {
      "text/plain": [
       "0.9547322839734437"
      ]
     },
     "execution_count": 84,
     "metadata": {},
     "output_type": "execute_result"
    }
   ],
   "source": [
    "from sklearn.model_selection import train_test_split\n",
    "from sklearn.tree import DecisionTreeRegressor\n",
    "from sklearn.metrics import mean_squared_error\n",
    "\n",
    "X = data[['qty', 'unit_price', 'comp_1', \n",
    "          'product_score', 'comp_price_diff']]\n",
    "y = data['total_price']\n",
    "\n",
    "X_train, X_test, y_train, y_test = train_test_split(X, y, \n",
    "                                                    test_size=0.2,\n",
    "                                                    random_state=42)\n",
    "\n",
    "# Train a linear regression model\n",
    "model = DecisionTreeRegressor()\n",
    "model.fit(X_train, y_train)\n",
    "model.score(X_test, y_test)\n"
   ]
  },
  {
   "cell_type": "markdown",
   "metadata": {},
   "source": [
    "The output `0.9547322839734437` is the R-squared score of the trained `DecisionTreeRegressor` model on the test set. The R-squared score is a statistical measure that represents the proportion of the variance in the dependent variable (`y_test`) that is predictable from the independent variables (`X_test`) in the model. \n",
    "\n",
    "The R-squared score ranges from 0 to 1, where a score of 1 indicates that the model perfectly predicts the dependent variable and a score of 0 indicates that the model does not explain any of the variance in the dependent variable. In this case, the R-squared score of 0.9547 indicates that the model explains 95.47% of the variance in the test set, which is a good performance."
   ]
  },
  {
   "cell_type": "code",
   "execution_count": 83,
   "metadata": {},
   "outputs": [
    {
     "data": {
      "application/vnd.plotly.v1+json": {
       "config": {
        "plotlyServerURL": "https://plot.ly"
       },
       "data": [
        {
         "marker": {
          "color": "blue"
         },
         "mode": "markers",
         "name": "Predicted vs. Actual Retail Price",
         "type": "scatter",
         "x": [
          3139.8,
          1819.86,
          99.9,
          2179,
          299.97,
          477.1,
          4860.11,
          4397.7,
          550.8,
          735,
          249.5,
          3291.4,
          78,
          134.99,
          169.98,
          11820.2,
          2209.83,
          657.8,
          5288.57,
          38.4,
          2336.1,
          2043.92,
          324.95,
          1509.2,
          4712.19,
          338.77,
          215,
          107.8,
          769.45,
          1679.89,
          328.9,
          2170.87,
          179.1,
          2429.73,
          1399.86,
          140,
          579.71,
          227.96,
          2090,
          134.99,
          479.97,
          679.83,
          299.5,
          2247.6,
          699.8,
          1247.5,
          477.6,
          78,
          390,
          2449.3,
          449.1,
          460.8,
          3326.3,
          479.8,
          593.5,
          234,
          275.7,
          557.85,
          1279.84,
          199.98,
          167.93,
          749.5,
          1039.87,
          1415.76,
          19.9,
          1297.78,
          1763.88,
          339.96,
          4241,
          539.94,
          1670.9,
          944.4,
          259.87,
          5248.5,
          258.7,
          455.81,
          880,
          449.82,
          239.6,
          335.86,
          390,
          1112,
          3250,
          759.92,
          5986,
          601.8,
          185.97,
          130,
          575.76,
          307.2,
          571.8,
          179.7,
          1870.84,
          108.6,
          149.7,
          78,
          445.85,
          4249.5,
          398,
          1016.95,
          1205.03,
          579.75,
          32.5,
          1856.9,
          519.96,
          221.98,
          7644.9,
          880,
          2975,
          657.8,
          1019.93,
          1769.7,
          36.2,
          702,
          1099.89,
          792,
          299.4,
          1723.08,
          1619.93,
          1039.84,
          778.7,
          254.97,
          299.97,
          1119.86,
          1683,
          3543.5,
          493.4,
          257.56,
          3836.8,
          799.92,
          1415.92,
          411.2,
          299.46,
          9125,
          1889.79,
          1590
         ],
         "y": [
          2680,
          1680,
          101,
          2537.19,
          299.97,
          495.5,
          4047.3,
          3711.7,
          658.9,
          840,
          249.5,
          2698.5,
          78,
          134.9,
          117.98,
          8538,
          2079.84,
          910,
          5246.5,
          38.4,
          2336.1,
          2391.6,
          299.5,
          1401.4,
          4769.7,
          379.6,
          167,
          107.8,
          694.9,
          1737.4,
          271.2,
          1948.7,
          179.1,
          2174.89,
          1399.86,
          140,
          603.2,
          227.96,
          2250.8,
          134.9,
          479.97,
          719.82,
          299.5,
          2468.6,
          699.8,
          994.04,
          563.5,
          84.9,
          470,
          2799.2,
          530.91,
          385,
          3596,
          479.8,
          680,
          234,
          419.4,
          548.9,
          1339.84,
          199.98,
          191.92,
          1019.94,
          975,
          1474.75,
          38.4,
          1234.79,
          1601.06,
          339.96,
          3935.68,
          539.94,
          1401.4,
          840,
          319.84,
          5280,
          319.84,
          455.81,
          890,
          548.9,
          239.6,
          388.7,
          468,
          1039.92,
          3499,
          712,
          4752,
          595,
          176.97,
          119.8,
          563.5,
          307.2,
          569.9,
          179.7,
          2079.84,
          140,
          149.7,
          79.9,
          648.89,
          4584.9,
          310,
          849.5,
          894,
          594.93,
          38.4,
          2036.6,
          439.96,
          220,
          6764,
          770,
          3640.68,
          910,
          1188,
          1559.1,
          29.9,
          781.3,
          1099.89,
          712,
          299.4,
          1559.1,
          1529.83,
          888.85,
          778.7,
          254.97,
          299.97,
          1248,
          1529.83,
          3575,
          455,
          249.5,
          4290,
          712,
          1729.2,
          399.2,
          299.46,
          7475,
          1889.79,
          1737.4
         ]
        },
        {
         "marker": {
          "color": "red"
         },
         "mode": "lines",
         "name": "Ideal Prediction",
         "type": "scatter",
         "x": [
          19.9,
          11820.2
         ],
         "y": [
          19.9,
          11820.2
         ]
        }
       ],
       "layout": {
        "template": {
         "data": {
          "bar": [
           {
            "error_x": {
             "color": "#2a3f5f"
            },
            "error_y": {
             "color": "#2a3f5f"
            },
            "marker": {
             "line": {
              "color": "white",
              "width": 0.5
             },
             "pattern": {
              "fillmode": "overlay",
              "size": 10,
              "solidity": 0.2
             }
            },
            "type": "bar"
           }
          ],
          "barpolar": [
           {
            "marker": {
             "line": {
              "color": "white",
              "width": 0.5
             },
             "pattern": {
              "fillmode": "overlay",
              "size": 10,
              "solidity": 0.2
             }
            },
            "type": "barpolar"
           }
          ],
          "carpet": [
           {
            "aaxis": {
             "endlinecolor": "#2a3f5f",
             "gridcolor": "#C8D4E3",
             "linecolor": "#C8D4E3",
             "minorgridcolor": "#C8D4E3",
             "startlinecolor": "#2a3f5f"
            },
            "baxis": {
             "endlinecolor": "#2a3f5f",
             "gridcolor": "#C8D4E3",
             "linecolor": "#C8D4E3",
             "minorgridcolor": "#C8D4E3",
             "startlinecolor": "#2a3f5f"
            },
            "type": "carpet"
           }
          ],
          "choropleth": [
           {
            "colorbar": {
             "outlinewidth": 0,
             "ticks": ""
            },
            "type": "choropleth"
           }
          ],
          "contour": [
           {
            "colorbar": {
             "outlinewidth": 0,
             "ticks": ""
            },
            "colorscale": [
             [
              0,
              "#0d0887"
             ],
             [
              0.1111111111111111,
              "#46039f"
             ],
             [
              0.2222222222222222,
              "#7201a8"
             ],
             [
              0.3333333333333333,
              "#9c179e"
             ],
             [
              0.4444444444444444,
              "#bd3786"
             ],
             [
              0.5555555555555556,
              "#d8576b"
             ],
             [
              0.6666666666666666,
              "#ed7953"
             ],
             [
              0.7777777777777778,
              "#fb9f3a"
             ],
             [
              0.8888888888888888,
              "#fdca26"
             ],
             [
              1,
              "#f0f921"
             ]
            ],
            "type": "contour"
           }
          ],
          "contourcarpet": [
           {
            "colorbar": {
             "outlinewidth": 0,
             "ticks": ""
            },
            "type": "contourcarpet"
           }
          ],
          "heatmap": [
           {
            "colorbar": {
             "outlinewidth": 0,
             "ticks": ""
            },
            "colorscale": [
             [
              0,
              "#0d0887"
             ],
             [
              0.1111111111111111,
              "#46039f"
             ],
             [
              0.2222222222222222,
              "#7201a8"
             ],
             [
              0.3333333333333333,
              "#9c179e"
             ],
             [
              0.4444444444444444,
              "#bd3786"
             ],
             [
              0.5555555555555556,
              "#d8576b"
             ],
             [
              0.6666666666666666,
              "#ed7953"
             ],
             [
              0.7777777777777778,
              "#fb9f3a"
             ],
             [
              0.8888888888888888,
              "#fdca26"
             ],
             [
              1,
              "#f0f921"
             ]
            ],
            "type": "heatmap"
           }
          ],
          "heatmapgl": [
           {
            "colorbar": {
             "outlinewidth": 0,
             "ticks": ""
            },
            "colorscale": [
             [
              0,
              "#0d0887"
             ],
             [
              0.1111111111111111,
              "#46039f"
             ],
             [
              0.2222222222222222,
              "#7201a8"
             ],
             [
              0.3333333333333333,
              "#9c179e"
             ],
             [
              0.4444444444444444,
              "#bd3786"
             ],
             [
              0.5555555555555556,
              "#d8576b"
             ],
             [
              0.6666666666666666,
              "#ed7953"
             ],
             [
              0.7777777777777778,
              "#fb9f3a"
             ],
             [
              0.8888888888888888,
              "#fdca26"
             ],
             [
              1,
              "#f0f921"
             ]
            ],
            "type": "heatmapgl"
           }
          ],
          "histogram": [
           {
            "marker": {
             "pattern": {
              "fillmode": "overlay",
              "size": 10,
              "solidity": 0.2
             }
            },
            "type": "histogram"
           }
          ],
          "histogram2d": [
           {
            "colorbar": {
             "outlinewidth": 0,
             "ticks": ""
            },
            "colorscale": [
             [
              0,
              "#0d0887"
             ],
             [
              0.1111111111111111,
              "#46039f"
             ],
             [
              0.2222222222222222,
              "#7201a8"
             ],
             [
              0.3333333333333333,
              "#9c179e"
             ],
             [
              0.4444444444444444,
              "#bd3786"
             ],
             [
              0.5555555555555556,
              "#d8576b"
             ],
             [
              0.6666666666666666,
              "#ed7953"
             ],
             [
              0.7777777777777778,
              "#fb9f3a"
             ],
             [
              0.8888888888888888,
              "#fdca26"
             ],
             [
              1,
              "#f0f921"
             ]
            ],
            "type": "histogram2d"
           }
          ],
          "histogram2dcontour": [
           {
            "colorbar": {
             "outlinewidth": 0,
             "ticks": ""
            },
            "colorscale": [
             [
              0,
              "#0d0887"
             ],
             [
              0.1111111111111111,
              "#46039f"
             ],
             [
              0.2222222222222222,
              "#7201a8"
             ],
             [
              0.3333333333333333,
              "#9c179e"
             ],
             [
              0.4444444444444444,
              "#bd3786"
             ],
             [
              0.5555555555555556,
              "#d8576b"
             ],
             [
              0.6666666666666666,
              "#ed7953"
             ],
             [
              0.7777777777777778,
              "#fb9f3a"
             ],
             [
              0.8888888888888888,
              "#fdca26"
             ],
             [
              1,
              "#f0f921"
             ]
            ],
            "type": "histogram2dcontour"
           }
          ],
          "mesh3d": [
           {
            "colorbar": {
             "outlinewidth": 0,
             "ticks": ""
            },
            "type": "mesh3d"
           }
          ],
          "parcoords": [
           {
            "line": {
             "colorbar": {
              "outlinewidth": 0,
              "ticks": ""
             }
            },
            "type": "parcoords"
           }
          ],
          "pie": [
           {
            "automargin": true,
            "type": "pie"
           }
          ],
          "scatter": [
           {
            "fillpattern": {
             "fillmode": "overlay",
             "size": 10,
             "solidity": 0.2
            },
            "type": "scatter"
           }
          ],
          "scatter3d": [
           {
            "line": {
             "colorbar": {
              "outlinewidth": 0,
              "ticks": ""
             }
            },
            "marker": {
             "colorbar": {
              "outlinewidth": 0,
              "ticks": ""
             }
            },
            "type": "scatter3d"
           }
          ],
          "scattercarpet": [
           {
            "marker": {
             "colorbar": {
              "outlinewidth": 0,
              "ticks": ""
             }
            },
            "type": "scattercarpet"
           }
          ],
          "scattergeo": [
           {
            "marker": {
             "colorbar": {
              "outlinewidth": 0,
              "ticks": ""
             }
            },
            "type": "scattergeo"
           }
          ],
          "scattergl": [
           {
            "marker": {
             "colorbar": {
              "outlinewidth": 0,
              "ticks": ""
             }
            },
            "type": "scattergl"
           }
          ],
          "scattermapbox": [
           {
            "marker": {
             "colorbar": {
              "outlinewidth": 0,
              "ticks": ""
             }
            },
            "type": "scattermapbox"
           }
          ],
          "scatterpolar": [
           {
            "marker": {
             "colorbar": {
              "outlinewidth": 0,
              "ticks": ""
             }
            },
            "type": "scatterpolar"
           }
          ],
          "scatterpolargl": [
           {
            "marker": {
             "colorbar": {
              "outlinewidth": 0,
              "ticks": ""
             }
            },
            "type": "scatterpolargl"
           }
          ],
          "scatterternary": [
           {
            "marker": {
             "colorbar": {
              "outlinewidth": 0,
              "ticks": ""
             }
            },
            "type": "scatterternary"
           }
          ],
          "surface": [
           {
            "colorbar": {
             "outlinewidth": 0,
             "ticks": ""
            },
            "colorscale": [
             [
              0,
              "#0d0887"
             ],
             [
              0.1111111111111111,
              "#46039f"
             ],
             [
              0.2222222222222222,
              "#7201a8"
             ],
             [
              0.3333333333333333,
              "#9c179e"
             ],
             [
              0.4444444444444444,
              "#bd3786"
             ],
             [
              0.5555555555555556,
              "#d8576b"
             ],
             [
              0.6666666666666666,
              "#ed7953"
             ],
             [
              0.7777777777777778,
              "#fb9f3a"
             ],
             [
              0.8888888888888888,
              "#fdca26"
             ],
             [
              1,
              "#f0f921"
             ]
            ],
            "type": "surface"
           }
          ],
          "table": [
           {
            "cells": {
             "fill": {
              "color": "#EBF0F8"
             },
             "line": {
              "color": "white"
             }
            },
            "header": {
             "fill": {
              "color": "#C8D4E3"
             },
             "line": {
              "color": "white"
             }
            },
            "type": "table"
           }
          ]
         },
         "layout": {
          "annotationdefaults": {
           "arrowcolor": "#2a3f5f",
           "arrowhead": 0,
           "arrowwidth": 1
          },
          "autotypenumbers": "strict",
          "coloraxis": {
           "colorbar": {
            "outlinewidth": 0,
            "ticks": ""
           }
          },
          "colorscale": {
           "diverging": [
            [
             0,
             "#8e0152"
            ],
            [
             0.1,
             "#c51b7d"
            ],
            [
             0.2,
             "#de77ae"
            ],
            [
             0.3,
             "#f1b6da"
            ],
            [
             0.4,
             "#fde0ef"
            ],
            [
             0.5,
             "#f7f7f7"
            ],
            [
             0.6,
             "#e6f5d0"
            ],
            [
             0.7,
             "#b8e186"
            ],
            [
             0.8,
             "#7fbc41"
            ],
            [
             0.9,
             "#4d9221"
            ],
            [
             1,
             "#276419"
            ]
           ],
           "sequential": [
            [
             0,
             "#0d0887"
            ],
            [
             0.1111111111111111,
             "#46039f"
            ],
            [
             0.2222222222222222,
             "#7201a8"
            ],
            [
             0.3333333333333333,
             "#9c179e"
            ],
            [
             0.4444444444444444,
             "#bd3786"
            ],
            [
             0.5555555555555556,
             "#d8576b"
            ],
            [
             0.6666666666666666,
             "#ed7953"
            ],
            [
             0.7777777777777778,
             "#fb9f3a"
            ],
            [
             0.8888888888888888,
             "#fdca26"
            ],
            [
             1,
             "#f0f921"
            ]
           ],
           "sequentialminus": [
            [
             0,
             "#0d0887"
            ],
            [
             0.1111111111111111,
             "#46039f"
            ],
            [
             0.2222222222222222,
             "#7201a8"
            ],
            [
             0.3333333333333333,
             "#9c179e"
            ],
            [
             0.4444444444444444,
             "#bd3786"
            ],
            [
             0.5555555555555556,
             "#d8576b"
            ],
            [
             0.6666666666666666,
             "#ed7953"
            ],
            [
             0.7777777777777778,
             "#fb9f3a"
            ],
            [
             0.8888888888888888,
             "#fdca26"
            ],
            [
             1,
             "#f0f921"
            ]
           ]
          },
          "colorway": [
           "#636efa",
           "#EF553B",
           "#00cc96",
           "#ab63fa",
           "#FFA15A",
           "#19d3f3",
           "#FF6692",
           "#B6E880",
           "#FF97FF",
           "#FECB52"
          ],
          "font": {
           "color": "#2a3f5f"
          },
          "geo": {
           "bgcolor": "white",
           "lakecolor": "white",
           "landcolor": "white",
           "showlakes": true,
           "showland": true,
           "subunitcolor": "#C8D4E3"
          },
          "hoverlabel": {
           "align": "left"
          },
          "hovermode": "closest",
          "mapbox": {
           "style": "light"
          },
          "paper_bgcolor": "white",
          "plot_bgcolor": "white",
          "polar": {
           "angularaxis": {
            "gridcolor": "#EBF0F8",
            "linecolor": "#EBF0F8",
            "ticks": ""
           },
           "bgcolor": "white",
           "radialaxis": {
            "gridcolor": "#EBF0F8",
            "linecolor": "#EBF0F8",
            "ticks": ""
           }
          },
          "scene": {
           "xaxis": {
            "backgroundcolor": "white",
            "gridcolor": "#DFE8F3",
            "gridwidth": 2,
            "linecolor": "#EBF0F8",
            "showbackground": true,
            "ticks": "",
            "zerolinecolor": "#EBF0F8"
           },
           "yaxis": {
            "backgroundcolor": "white",
            "gridcolor": "#DFE8F3",
            "gridwidth": 2,
            "linecolor": "#EBF0F8",
            "showbackground": true,
            "ticks": "",
            "zerolinecolor": "#EBF0F8"
           },
           "zaxis": {
            "backgroundcolor": "white",
            "gridcolor": "#DFE8F3",
            "gridwidth": 2,
            "linecolor": "#EBF0F8",
            "showbackground": true,
            "ticks": "",
            "zerolinecolor": "#EBF0F8"
           }
          },
          "shapedefaults": {
           "line": {
            "color": "#2a3f5f"
           }
          },
          "ternary": {
           "aaxis": {
            "gridcolor": "#DFE8F3",
            "linecolor": "#A2B1C6",
            "ticks": ""
           },
           "baxis": {
            "gridcolor": "#DFE8F3",
            "linecolor": "#A2B1C6",
            "ticks": ""
           },
           "bgcolor": "white",
           "caxis": {
            "gridcolor": "#DFE8F3",
            "linecolor": "#A2B1C6",
            "ticks": ""
           }
          },
          "title": {
           "x": 0.05
          },
          "xaxis": {
           "automargin": true,
           "gridcolor": "#EBF0F8",
           "linecolor": "#EBF0F8",
           "ticks": "",
           "title": {
            "standoff": 15
           },
           "zerolinecolor": "#EBF0F8",
           "zerolinewidth": 2
          },
          "yaxis": {
           "automargin": true,
           "gridcolor": "#EBF0F8",
           "linecolor": "#EBF0F8",
           "ticks": "",
           "title": {
            "standoff": 15
           },
           "zerolinecolor": "#EBF0F8",
           "zerolinewidth": 2
          }
         }
        },
        "title": {
         "text": "Predicted vs. Actual Retail Price"
        },
        "xaxis": {
         "title": {
          "text": "Actual Retail Price"
         }
        },
        "yaxis": {
         "title": {
          "text": "Predicted Retail Price"
         }
        }
       }
      }
     },
     "metadata": {},
     "output_type": "display_data"
    }
   ],
   "source": [
    "# Now let’s make predictions and have a look at the predicted retail prices and the actual retail prices:\n",
    "\n",
    "\n",
    "# Make predictions on the test set\n",
    "y_pred = model.predict(X_test)\n",
    "\n",
    "fig = go.Figure()\n",
    "fig.add_trace(go.Scatter(x=y_test, y=y_pred, mode='markers', \n",
    "                         marker=dict(color='blue'), \n",
    "                         name='Predicted vs. Actual Retail Price'))\n",
    "fig.add_trace(go.Scatter(x=[min(y_test), max(y_test)], y=[min(y_test), max(y_test)], \n",
    "                         mode='lines', \n",
    "                         marker=dict(color='red'), \n",
    "                         name='Ideal Prediction'))\n",
    "fig.update_layout(\n",
    "    title='Predicted vs. Actual Retail Price',\n",
    "    xaxis_title='Actual Retail Price',\n",
    "    yaxis_title='Predicted Retail Price'\n",
    ")\n",
    "fig.show()\n",
    "\n"
   ]
  },
  {
   "cell_type": "markdown",
   "metadata": {},
   "source": [
    "### In summary, optimizing retail prices with machine learning using Python involves analyzing competitors' pricing strategies, gathering data on prices, and using pricing strategies to find the right price that maximizes sales and profits while keeping customers happy. By using Python libraries and machine learning algorithms, this is how you can automate the process of pricing optimization and maximize revenue and profit."
   ]
  },
  {
   "cell_type": "markdown",
   "metadata": {},
   "source": []
  },
  {
   "cell_type": "code",
   "execution_count": null,
   "metadata": {},
   "outputs": [],
   "source": []
  },
  {
   "cell_type": "code",
   "execution_count": null,
   "metadata": {},
   "outputs": [],
   "source": []
  },
  {
   "cell_type": "code",
   "execution_count": null,
   "metadata": {},
   "outputs": [],
   "source": []
  }
 ],
 "metadata": {
  "kernelspec": {
   "display_name": "Python 3",
   "language": "python",
   "name": "python3"
  },
  "language_info": {
   "codemirror_mode": {
    "name": "ipython",
    "version": 3
   },
   "file_extension": ".py",
   "mimetype": "text/x-python",
   "name": "python",
   "nbconvert_exporter": "python",
   "pygments_lexer": "ipython3",
   "version": "3.11.4"
  }
 },
 "nbformat": 4,
 "nbformat_minor": 2
}
